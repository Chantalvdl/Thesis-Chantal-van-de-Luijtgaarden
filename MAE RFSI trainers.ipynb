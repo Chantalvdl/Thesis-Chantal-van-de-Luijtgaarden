{
 "cells": [
  {
   "cell_type": "code",
   "execution_count": 1,
   "metadata": {},
   "outputs": [],
   "source": [
    "import pandas as pd\n",
    "import numpy as np\n",
    "import math\n",
    "from sklearn.ensemble import RandomForestRegressor\n",
    "from hyperopt import *\n",
    "from sklearn.metrics import mean_absolute_error\n",
    "import pyspark \n",
    "import mlflow"
   ]
  },
  {
   "cell_type": "code",
   "execution_count": 2,
   "metadata": {},
   "outputs": [],
   "source": [
    "AFS_SUPERM_17 = pd.read_csv(\"Distance\\\\AFS_SUPERM_17_distance.csv\", delimiter=',') \n",
    "AFS_TREINS_17  = pd.read_csv(\"Distance\\\\AFS_TREINS_17_distance.csv\", delimiter=',') \n",
    "AFS_ONDBAS_17  = pd.read_csv(\"Distance\\\\AFS_ONDBAS_17_distance.csv\", delimiter=',') \n",
    "AFS_ONDVRT_17  = pd.read_csv(\"Distance\\\\AFS_ONDVRT_17_distance.csv\", delimiter=',') \n",
    "AFS_HAPRAK_17  = pd.read_csv(\"Distance\\\\AFS_HAPRAK_17_distance.csv\", delimiter=',') \n",
    "AFS_ZIEK_E_17  = pd.read_csv(\"Distance\\\\AFS_ZIEK_E_17_distance.csv\", delimiter=',') \n",
    "AFS_HORECA_17  = pd.read_csv(\"Distance\\\\AFS_HORECA_17_distance.csv\", delimiter=',')\n",
    "woon_17 = pd.read_csv(\"Distance\\\\woon_17_distance.csv\", delimiter=',') \n",
    "winkel_17  = pd.read_csv(\"Distance\\\\winkel_17_distance.csv\", delimiter=',') \n",
    "gezondheid_17  = pd.read_csv(\"Distance\\\\gezondheid_17_distance.csv\", delimiter=',') \n",
    "kantoor_17  = pd.read_csv(\"Distance\\\\kantoor_17_distance.csv\", delimiter=',') \n",
    "bijeenkomst_17  = pd.read_csv(\"Distance\\\\bijeenkomst_17_distance.csv\", delimiter=',') \n",
    "onderwijs_17  = pd.read_csv(\"Distance\\\\onderwijs_17_distance.csv\", delimiter=',') \n",
    "sport_17  = pd.read_csv(\"Distance\\\\sport_17_distance.csv\", delimiter=',') \n",
    "industrie_17  = pd.read_csv(\"Distance\\\\industrie_17_distance.csv\", delimiter=',') \n",
    "logies_17  = pd.read_csv(\"Distance\\\\logies_17_distance.csv\", delimiter=',')\n",
    "mean_construction_year_17  = pd.read_csv(\"Distance\\\\mean_construction_year_17_distance.csv\", delimiter=',') \n",
    "\n",
    "woon_18 = pd.read_csv(\"Distance\\\\woon_18_distance.csv\", delimiter=',') \n",
    "winkel_18  = pd.read_csv(\"Distance\\\\winkel_18_distance.csv\", delimiter=',') \n",
    "gezondheid_18  = pd.read_csv(\"Distance\\\\gezondheid_18_distance.csv\", delimiter=',') \n",
    "kantoor_18  = pd.read_csv(\"Distance\\\\kantoor_18_distance.csv\", delimiter=',') \n",
    "bijeenkomst_18  = pd.read_csv(\"Distance\\\\bijeenkomst_18_distance.csv\", delimiter=',') \n",
    "onderwijs_18  = pd.read_csv(\"Distance\\\\onderwijs_18_distance.csv\", delimiter=',') \n",
    "sport_18  = pd.read_csv(\"Distance\\\\sport_18_distance.csv\", delimiter=',') \n",
    "industrie_18  = pd.read_csv(\"Distance\\\\industrie_18_distance.csv\", delimiter=',') \n",
    "logies_18  = pd.read_csv(\"Distance\\\\logies_18_distance.csv\", delimiter=',')\n",
    "mean_construction_year_18  = pd.read_csv(\"Distance\\\\mean_construction_year_18_distance.csv\", delimiter=',') \n",
    "\n",
    "woon_19 = pd.read_csv(\"Distance\\\\woon_19_distance.csv\", delimiter=',') \n",
    "winkel_19  = pd.read_csv(\"Distance\\\\winkel_19_distance.csv\", delimiter=',') \n",
    "gezondheid_19  = pd.read_csv(\"Distance\\\\gezondheid_19_distance.csv\", delimiter=',') \n",
    "kantoor_19  = pd.read_csv(\"Distance\\\\kantoor_19_distance.csv\", delimiter=',') \n",
    "bijeenkomst_19  = pd.read_csv(\"Distance\\\\bijeenkomst_19_distance.csv\", delimiter=',') \n",
    "onderwijs_19  = pd.read_csv(\"Distance\\\\onderwijs_19_distance.csv\", delimiter=',') \n",
    "sport_19  = pd.read_csv(\"Distance\\\\sport_19_distance.csv\", delimiter=',') \n",
    "industrie_19  = pd.read_csv(\"Distance\\\\industrie_19_distance.csv\", delimiter=',') \n",
    "logies_19  = pd.read_csv(\"Distance\\\\logies_19_distance.csv\", delimiter=',') \n",
    "mean_construction_year_19  = pd.read_csv(\"Distance\\\\mean_construction_year_19_distance.csv\", delimiter=',') \n",
    "\n",
    "WONING_17  = pd.read_csv(\"Distance\\\\WONING_17_distance.csv\", delimiter=',') \n",
    "WONING_18  = pd.read_csv(\"Distance\\\\WONING_18_distance.csv\", delimiter=',') \n",
    "WONING_19  = pd.read_csv(\"Distance\\\\WONING_19_distance.csv\", delimiter=',') \n",
    "\n",
    "variablelists_17 = [AFS_SUPERM_17, AFS_TREINS_17, AFS_ONDBAS_17, AFS_ONDVRT_17, AFS_HAPRAK_17, AFS_ZIEK_E_17, AFS_HORECA_17, \n",
    "                    woon_17, winkel_17,gezondheid_17,kantoor_17,bijeenkomst_17, onderwijs_17, sport_17,industrie_17, logies_17,\n",
    "                     mean_construction_year_17, WONING_17]\n",
    "variablelists_18 = [woon_18, winkel_18,gezondheid_18,kantoor_18,bijeenkomst_18, onderwijs_18, sport_18,industrie_18, logies_18,\n",
    "                     mean_construction_year_18, WONING_18]\n",
    "variablelists_19 = [woon_19, winkel_19,gezondheid_19,kantoor_19,bijeenkomst_19, onderwijs_19, sport_19,industrie_19, logies_19,\n",
    "                     mean_construction_year_19, WONING_19]\n",
    "\n",
    "variablenam_17 = [\"AFS_SUPERM_17\",\"AFS_TREINS_17\",\"AFS_ONDBAS_17\",\"AFS_ONDVRT_17\",\"AFS_HAPRAK_17\",\"AFS_ZIEK_E_17\",\"AFS_HORECA_17\",\n",
    "                   \"woon_17\",\"winkel_17\",\"gezondheid_17\",\"kantoor_17\",\"bijeenkomst_17\",\"onderwijs_17\",\"sport_17\",\"industrie_17\",\"logies_17\",\n",
    "                   \"mean_construction_year_17\", \"WONING_17\"]\n",
    "variablenam_18 = [\"woon_18\",\"winkel_18\",\"gezondheid_18\",\"kantoor_18\",\"bijeenkomst_18\",\"onderwijs_18\",\"sport_18\",\"industrie_18\",\"logies_18\",\n",
    "                   \"mean_construction_year_18\", \"WONING_18\"]\n",
    "variablenam_19 = [\"woon_19\",\"winkel_19\",\"gezondheid_19\",\"kantoor_19\",\"bijeenkomst_19\",\"onderwijs_19\",\"sport_19\",\"industrie_19\",\"logies_19\",\n",
    "                   \"mean_construction_year_19\", \"WONING_19\"]"
   ]
  },
  {
   "cell_type": "code",
   "execution_count": 3,
   "metadata": {},
   "outputs": [],
   "source": [
    "def train_val(dataset):\n",
    "    if len(dataset)> 300000:\n",
    "        train = dataset.sample(n=225000)\n",
    "    else:\n",
    "        train = dataset.sample(frac=0.75)\n",
    "    test = dataset[~(dataset.c28992r100.isin(train[\"c28992r100\"]))]\n",
    "    val = test.sample(frac=0.9) \n",
    "    val2 = test[~(test.c28992r100.isin(val[\"c28992r100\"]))]\n",
    "    return train, val, val2\n",
    "\n",
    "def X_Y(train, val, val2):\n",
    "    X_train = train.drop(labels=[label,\"c28992r100\",\"row\",\"column\", \"row_1\",\"column_1\", \"row_2\",\"column_2\", \"row_3\",\n",
    "                                 \"column_3\", \"row_4\",\"column_4\",\"index\"], axis=1)\n",
    "    X_train = X_train.to_numpy()\n",
    "    y_train = train[[label]].to_numpy()\n",
    "    \n",
    "    X_val = val.drop(labels=[label,\"c28992r100\",\"row\",\"column\", \"row_1\",\"column_1\", \"row_2\",\"column_2\", \"row_3\",\n",
    "                                 \"column_3\", \"row_4\",\"column_4\",\"index\"], axis=1)\n",
    "    X_val = X_val.to_numpy()\n",
    "    y_val = val[[label]].to_numpy()\n",
    "    \n",
    "    X_val2 = val2.drop(labels=[label,\"c28992r100\",\"row\",\"column\", \"row_1\",\"column_1\", \"row_2\",\"column_2\", \"row_3\",\n",
    "                                 \"column_3\", \"row_4\",\"column_4\",\"index\"], axis=1)\n",
    "    X_val2 = X_val2.to_numpy()\n",
    "    y_val2 = val2[[label]].to_numpy()\n",
    "    return X_train, y_train, X_val ,y_val, X_val2 ,y_val2\n",
    "\n",
    "\n",
    "variablenam = []\n",
    "for i in variablenam_17:\n",
    "    variablenam.append(i)\n",
    "for i in variablenam_18:\n",
    "    variablenam.append(i)\n",
    "for i in variablenam_19:\n",
    "    variablenam.append(i)\n",
    "    \n",
    "variablelists = []\n",
    "for i in variablelists_17:\n",
    "    variablelists.append(i)\n",
    "for i in variablelists_18:\n",
    "    variablelists.append(i)\n",
    "for i in variablelists_19:\n",
    "    variablelists.append(i)\n",
    "    \n",
    "    \n",
    "classifiers = []\n",
    "classifier = RandomForestRegressor(max_depth=18, min_samples_leaf=7, n_estimators=75,\n",
    "                      n_jobs=-1)\n",
    "classifiers.append(classifier)\n",
    "\n",
    "classifier = RandomForestRegressor(max_depth=18, min_samples_leaf=4, min_samples_split=8,\n",
    "                      n_estimators=45, n_jobs=-1)\n",
    "classifiers.append(classifier)\n",
    "\n",
    "classifier = RandomForestRegressor(max_depth=16, min_samples_leaf=4, n_estimators=90,\n",
    "                      n_jobs=-1)\n",
    "classifiers.append(classifier)\n",
    "\n",
    "classifier = RandomForestRegressor(max_depth=18, min_samples_leaf=4, n_estimators=70,\n",
    "                      n_jobs=-1)\n",
    "classifiers.append(classifier)\n",
    "\n",
    "classifier = RandomForestRegressor(max_depth=18, min_samples_leaf=5, min_samples_split=5,\n",
    "                      n_estimators=60, n_jobs=-1)\n",
    "classifiers.append(classifier)\n",
    "\n",
    "classifier = RandomForestRegressor(max_depth=18, min_samples_leaf=7, n_estimators=75,\n",
    "                      n_jobs=-1)\n",
    "classifiers.append(classifier)\n",
    "\n",
    "classifier = RandomForestRegressor(max_depth=18, min_samples_leaf=10, min_samples_split=23,\n",
    "                      n_estimators=95, n_jobs=-1)\n",
    "classifiers.append(classifier)  \n",
    "\n",
    "classifier = RandomForestRegressor(max_depth=12, min_samples_leaf=5, min_samples_split=23,\n",
    "                      n_estimators=90, n_jobs=-1)\n",
    "classifiers.append(classifier)\n",
    "\n",
    "classifier = RandomForestRegressor(max_depth=12, min_samples_leaf=9, min_samples_split=20,\n",
    "                      n_estimators=85, n_jobs=-1)\n",
    "classifiers.append(classifier)\n",
    "\n",
    "classifier = RandomForestRegressor(max_depth=10, min_samples_leaf=8, min_samples_split=17,\n",
    "                      n_estimators=30, n_jobs=-1)\n",
    "classifiers.append(classifier)\n",
    "    \n",
    "classifier = RandomForestRegressor(max_depth=8, min_samples_leaf=6, min_samples_split=20,\n",
    "                      n_estimators=80, n_jobs=-1)\n",
    "classifiers.append(classifier)\n",
    "\n",
    "classifier = RandomForestRegressor(max_depth=14, min_samples_leaf=7, min_samples_split=8,\n",
    "                      n_estimators=35, n_jobs=-1)\n",
    "classifiers.append(classifier)\n",
    "\n",
    "classifier = RandomForestRegressor(max_depth=4, min_samples_split=14, n_estimators=10,\n",
    "                      n_jobs=-1)\n",
    "classifiers.append(classifier)\n",
    "\n",
    "classifier = RandomForestRegressor(max_depth=12, min_samples_leaf=5, min_samples_split=11,\n",
    "                      n_estimators=40, n_jobs=-1)\n",
    "classifiers.append(classifier)\n",
    "\n",
    "\n",
    "classifier = RandomForestRegressor(max_depth=18, min_samples_leaf=10, min_samples_split=11,\n",
    "                      n_estimators=85, n_jobs=-1)\n",
    "classifiers.append(classifier)\n",
    "\n",
    "\n",
    "classifier = RandomForestRegressor(max_depth=14, min_samples_leaf=9, min_samples_split=14,\n",
    "                      n_estimators=30, n_jobs=-1)\n",
    "classifiers.append(classifier)\n",
    "\n",
    "classifier = RandomForestRegressor(max_depth=14, min_samples_leaf=6, min_samples_split=17,\n",
    "                      n_estimators=90, n_jobs=-1)\n",
    "classifiers.append(classifier)\n",
    "\n",
    "classifier = RandomForestRegressor(max_depth=18, min_samples_leaf=9, min_samples_split=17,\n",
    "                      n_estimators=95, n_jobs=-1)\n",
    "classifiers.append(classifier)\n",
    "\n",
    "classifier = RandomForestRegressor(max_depth=12, min_samples_leaf=9, min_samples_split=14,\n",
    "                      n_estimators=50, n_jobs=-1)\n",
    "classifiers.append(classifier)\n",
    "\n",
    "classifier = RandomForestRegressor(max_depth=10, min_samples_leaf=6, min_samples_split=8,\n",
    "                      n_estimators=85, n_jobs=-1)\n",
    "classifiers.append(classifier)\n",
    "\n",
    "classifier = RandomForestRegressor(max_depth=12, min_samples_leaf=8, min_samples_split=26,\n",
    "                      n_estimators=10, n_jobs=-1)\n",
    "classifiers.append(classifier)\n",
    "\n",
    "classifier = RandomForestRegressor(max_depth=16, min_samples_leaf=10, min_samples_split=11,\n",
    "                      n_estimators=60, n_jobs=-1)\n",
    "classifiers.append(classifier)\n",
    "\n",
    "classifier = RandomForestRegressor(max_depth=10, min_samples_leaf=6, min_samples_split=29,\n",
    "                      n_estimators=80, n_jobs=-1)\n",
    "classifiers.append(classifier)\n",
    "\n",
    "classifier = RandomForestRegressor(max_depth=4, min_samples_leaf=8, min_samples_split=23,\n",
    "                      n_estimators=85, n_jobs=-1)\n",
    "classifiers.append(classifier)\n",
    "\n",
    "classifier = RandomForestRegressor(max_depth=12, min_samples_leaf=10, n_estimators=15,\n",
    "                      n_jobs=-1)\n",
    "classifiers.append(classifier)\n",
    "\n",
    "classifier = RandomForestRegressor(max_depth=10, min_samples_leaf=10, min_samples_split=14,\n",
    "                      n_estimators=90, n_jobs=-1)\n",
    "classifiers.append(classifier)\n",
    "\n",
    "classifier = RandomForestRegressor(max_depth=14, min_samples_leaf=9, min_samples_split=20,\n",
    "                      n_estimators=20, n_jobs=-1)\n",
    "classifiers.append(classifier)\n",
    "\n",
    "classifier = RandomForestRegressor(max_depth=16, min_samples_leaf=9, min_samples_split=20,\n",
    "                      n_estimators=90, n_jobs=-1)\n",
    "classifiers.append(classifier)\n",
    "\n",
    "classifier = RandomForestRegressor(max_depth=18, min_samples_leaf=9, min_samples_split=23,\n",
    "                      n_estimators=70, n_jobs=-1)\n",
    "classifiers.append(classifier)\n",
    "\n",
    "classifier = RandomForestRegressor(max_depth=12, min_samples_leaf=9, min_samples_split=26,\n",
    "                      n_estimators=45, n_jobs=-1)\n",
    "classifiers.append(classifier)\n",
    "\n",
    "classifier = RandomForestRegressor(max_depth=12, min_samples_leaf=9, min_samples_split=11,\n",
    "                      n_estimators=25, n_jobs=-1)\n",
    "classifiers.append(classifier)\n",
    "\n",
    "classifier = RandomForestRegressor(max_depth=10, min_samples_leaf=5, min_samples_split=14,\n",
    "                      n_estimators=10, n_jobs=-1)\n",
    "classifiers.append(classifier)\n",
    "\n",
    "classifier = RandomForestRegressor(max_depth=10, min_samples_leaf=7, min_samples_split=26,\n",
    "                      n_estimators=25, n_jobs=-1)\n",
    "classifiers.append(classifier)\n",
    "\n",
    "classifier = RandomForestRegressor(max_depth=12, min_samples_leaf=10, min_samples_split=5,\n",
    "                      n_estimators=80, n_jobs=-1)\n",
    "classifiers.append(classifier)\n",
    "\n",
    "classifier = RandomForestRegressor(max_depth=10, min_samples_leaf=8, min_samples_split=5,\n",
    "                      n_estimators=15, n_jobs=-1)\n",
    "classifiers.append(classifier)\n",
    "\n",
    "classifier = RandomForestRegressor(max_depth=14, min_samples_leaf=2, min_samples_split=5,\n",
    "                      n_estimators=10, n_jobs=-1)\n",
    "classifiers.append(classifier)\n",
    "\n",
    "classifier = RandomForestRegressor(max_depth=14, min_samples_leaf=10, min_samples_split=14,\n",
    "                      n_estimators=80, n_jobs=-1)\n",
    "classifiers.append(classifier)\n",
    "\n",
    "classifier = RandomForestRegressor(max_depth=16, min_samples_leaf=2, min_samples_split=11,\n",
    "                      n_estimators=65, n_jobs=-1)\n",
    "classifiers.append(classifier)\n",
    "\n",
    "classifier = RandomForestRegressor(max_depth=12, min_samples_leaf=2, n_estimators=50,\n",
    "                      n_jobs=-1)\n",
    "classifiers.append(classifier)\n",
    "\n",
    "classifier = RandomForestRegressor(max_depth=18, min_samples_leaf=6, n_estimators=75,\n",
    "                      n_jobs=-1)\n",
    "classifiers.append(classifier)\n"
   ]
  },
  {
   "cell_type": "code",
   "execution_count": 4,
   "metadata": {},
   "outputs": [
    {
     "name": "stderr",
     "output_type": "stream",
     "text": [
      "<ipython-input-4-266e169216b4>:6: DataConversionWarning: A column-vector y was passed when a 1d array was expected. Please change the shape of y to (n_samples,), for example using ravel().\n",
      "  classifier.fit(X_train, y_train)\n"
     ]
    },
    {
     "name": "stdout",
     "output_type": "stream",
     "text": [
      "AFS_SUPERM_17 0.07432171700166174\n",
      "Accuracy_score_metric: 0.08323550202084457\n",
      "Accuracy_score_metric: 0.08271967709871433\n"
     ]
    },
    {
     "name": "stderr",
     "output_type": "stream",
     "text": [
      "<ipython-input-4-266e169216b4>:6: DataConversionWarning: A column-vector y was passed when a 1d array was expected. Please change the shape of y to (n_samples,), for example using ravel().\n",
      "  classifier.fit(X_train, y_train)\n"
     ]
    },
    {
     "name": "stdout",
     "output_type": "stream",
     "text": [
      "AFS_TREINS_17 0.07336726171243602\n",
      "Accuracy_score_metric: 0.08919281047447267\n",
      "Accuracy_score_metric: 0.0889613583217671\n"
     ]
    },
    {
     "name": "stderr",
     "output_type": "stream",
     "text": [
      "<ipython-input-4-266e169216b4>:6: DataConversionWarning: A column-vector y was passed when a 1d array was expected. Please change the shape of y to (n_samples,), for example using ravel().\n",
      "  classifier.fit(X_train, y_train)\n"
     ]
    },
    {
     "name": "stdout",
     "output_type": "stream",
     "text": [
      "AFS_ONDBAS_17 0.07343219021839305\n",
      "Accuracy_score_metric: 0.08258311841660072\n",
      "Accuracy_score_metric: 0.08378641021502009\n"
     ]
    },
    {
     "name": "stderr",
     "output_type": "stream",
     "text": [
      "<ipython-input-4-266e169216b4>:6: DataConversionWarning: A column-vector y was passed when a 1d array was expected. Please change the shape of y to (n_samples,), for example using ravel().\n",
      "  classifier.fit(X_train, y_train)\n"
     ]
    },
    {
     "name": "stdout",
     "output_type": "stream",
     "text": [
      "AFS_ONDVRT_17 0.0729556399522285\n",
      "Accuracy_score_metric: 0.08728304447408189\n",
      "Accuracy_score_metric: 0.08643969810656944\n"
     ]
    },
    {
     "name": "stderr",
     "output_type": "stream",
     "text": [
      "<ipython-input-4-266e169216b4>:6: DataConversionWarning: A column-vector y was passed when a 1d array was expected. Please change the shape of y to (n_samples,), for example using ravel().\n",
      "  classifier.fit(X_train, y_train)\n"
     ]
    },
    {
     "name": "stdout",
     "output_type": "stream",
     "text": [
      "AFS_HAPRAK_17 0.07275335268154379\n",
      "Accuracy_score_metric: 0.08289305933081761\n",
      "Accuracy_score_metric: 0.08457552649951794\n"
     ]
    },
    {
     "name": "stderr",
     "output_type": "stream",
     "text": [
      "<ipython-input-4-266e169216b4>:6: DataConversionWarning: A column-vector y was passed when a 1d array was expected. Please change the shape of y to (n_samples,), for example using ravel().\n",
      "  classifier.fit(X_train, y_train)\n"
     ]
    },
    {
     "name": "stdout",
     "output_type": "stream",
     "text": [
      "AFS_ZIEK_E_17 0.07808036712574078\n",
      "Accuracy_score_metric: 0.0892802995371125\n",
      "Accuracy_score_metric: 0.0887622160746653\n"
     ]
    },
    {
     "name": "stderr",
     "output_type": "stream",
     "text": [
      "<ipython-input-4-266e169216b4>:6: DataConversionWarning: A column-vector y was passed when a 1d array was expected. Please change the shape of y to (n_samples,), for example using ravel().\n",
      "  classifier.fit(X_train, y_train)\n"
     ]
    },
    {
     "name": "stdout",
     "output_type": "stream",
     "text": [
      "AFS_HORECA_17 0.07580231009898908\n",
      "Accuracy_score_metric: 0.08273836198478886\n",
      "Accuracy_score_metric: 0.08298498639531482\n"
     ]
    },
    {
     "name": "stderr",
     "output_type": "stream",
     "text": [
      "<ipython-input-4-266e169216b4>:6: DataConversionWarning: A column-vector y was passed when a 1d array was expected. Please change the shape of y to (n_samples,), for example using ravel().\n",
      "  classifier.fit(X_train, y_train)\n"
     ]
    },
    {
     "name": "stdout",
     "output_type": "stream",
     "text": [
      "woon_17 8.927870103241265\n",
      "Accuracy_score_metric: 9.45113803261911\n",
      "Accuracy_score_metric: 9.20758256884163\n"
     ]
    },
    {
     "name": "stderr",
     "output_type": "stream",
     "text": [
      "<ipython-input-4-266e169216b4>:6: DataConversionWarning: A column-vector y was passed when a 1d array was expected. Please change the shape of y to (n_samples,), for example using ravel().\n",
      "  classifier.fit(X_train, y_train)\n"
     ]
    },
    {
     "name": "stdout",
     "output_type": "stream",
     "text": [
      "winkel_17 0.404778850978181\n",
      "Accuracy_score_metric: 0.43239144669589336\n",
      "Accuracy_score_metric: 0.43826233224611844\n"
     ]
    },
    {
     "name": "stderr",
     "output_type": "stream",
     "text": [
      "<ipython-input-4-266e169216b4>:6: DataConversionWarning: A column-vector y was passed when a 1d array was expected. Please change the shape of y to (n_samples,), for example using ravel().\n",
      "  classifier.fit(X_train, y_train)\n"
     ]
    },
    {
     "name": "stdout",
     "output_type": "stream",
     "text": [
      "gezondheid_17 0.2603737351802509\n",
      "Accuracy_score_metric: 0.26357513413768024\n",
      "Accuracy_score_metric: 0.28519896539150313\n"
     ]
    },
    {
     "name": "stderr",
     "output_type": "stream",
     "text": [
      "<ipython-input-4-266e169216b4>:6: DataConversionWarning: A column-vector y was passed when a 1d array was expected. Please change the shape of y to (n_samples,), for example using ravel().\n",
      "  classifier.fit(X_train, y_train)\n"
     ]
    },
    {
     "name": "stdout",
     "output_type": "stream",
     "text": [
      "kantoor_17 0.24972509515484925\n",
      "Accuracy_score_metric: 0.24851399558591486\n",
      "Accuracy_score_metric: 0.2553814032553376\n"
     ]
    },
    {
     "name": "stderr",
     "output_type": "stream",
     "text": [
      "<ipython-input-4-266e169216b4>:6: DataConversionWarning: A column-vector y was passed when a 1d array was expected. Please change the shape of y to (n_samples,), for example using ravel().\n",
      "  classifier.fit(X_train, y_train)\n"
     ]
    },
    {
     "name": "stdout",
     "output_type": "stream",
     "text": [
      "bijeenkomst_17 0.19190347801985902\n",
      "Accuracy_score_metric: 0.1963160278249289\n",
      "Accuracy_score_metric: 0.19293801065616084\n"
     ]
    },
    {
     "name": "stderr",
     "output_type": "stream",
     "text": [
      "<ipython-input-4-266e169216b4>:6: DataConversionWarning: A column-vector y was passed when a 1d array was expected. Please change the shape of y to (n_samples,), for example using ravel().\n",
      "  classifier.fit(X_train, y_train)\n"
     ]
    },
    {
     "name": "stdout",
     "output_type": "stream",
     "text": [
      "onderwijs_17 0.07169097791046147\n",
      "Accuracy_score_metric: 0.07087558909376689\n",
      "Accuracy_score_metric: 0.07241450922172533\n"
     ]
    },
    {
     "name": "stderr",
     "output_type": "stream",
     "text": [
      "<ipython-input-4-266e169216b4>:6: DataConversionWarning: A column-vector y was passed when a 1d array was expected. Please change the shape of y to (n_samples,), for example using ravel().\n",
      "  classifier.fit(X_train, y_train)\n"
     ]
    },
    {
     "name": "stdout",
     "output_type": "stream",
     "text": [
      "sport_17 0.025093960673360644\n",
      "Accuracy_score_metric: 0.024452528660371415\n",
      "Accuracy_score_metric: 0.024971706609691047\n"
     ]
    },
    {
     "name": "stderr",
     "output_type": "stream",
     "text": [
      "<ipython-input-4-266e169216b4>:6: DataConversionWarning: A column-vector y was passed when a 1d array was expected. Please change the shape of y to (n_samples,), for example using ravel().\n",
      "  classifier.fit(X_train, y_train)\n"
     ]
    },
    {
     "name": "stdout",
     "output_type": "stream",
     "text": [
      "industrie_17 0.3049486977857213\n",
      "Accuracy_score_metric: 0.3172707623838803\n",
      "Accuracy_score_metric: 0.3202937213069938\n"
     ]
    },
    {
     "name": "stderr",
     "output_type": "stream",
     "text": [
      "<ipython-input-4-266e169216b4>:6: DataConversionWarning: A column-vector y was passed when a 1d array was expected. Please change the shape of y to (n_samples,), for example using ravel().\n",
      "  classifier.fit(X_train, y_train)\n"
     ]
    },
    {
     "name": "stdout",
     "output_type": "stream",
     "text": [
      "logies_17 0.0881081304282323\n",
      "Accuracy_score_metric: 0.09679470740420322\n",
      "Accuracy_score_metric: 0.09510988137690642\n"
     ]
    },
    {
     "name": "stderr",
     "output_type": "stream",
     "text": [
      "<ipython-input-4-266e169216b4>:6: DataConversionWarning: A column-vector y was passed when a 1d array was expected. Please change the shape of y to (n_samples,), for example using ravel().\n",
      "  classifier.fit(X_train, y_train)\n"
     ]
    },
    {
     "name": "stdout",
     "output_type": "stream",
     "text": [
      "mean_construction_year_17 10.572616275713825\n",
      "Accuracy_score_metric: 11.678755631053447\n",
      "Accuracy_score_metric: 11.636449185172118\n"
     ]
    },
    {
     "name": "stderr",
     "output_type": "stream",
     "text": [
      "<ipython-input-4-266e169216b4>:6: DataConversionWarning: A column-vector y was passed when a 1d array was expected. Please change the shape of y to (n_samples,), for example using ravel().\n",
      "  classifier.fit(X_train, y_train)\n"
     ]
    },
    {
     "name": "stdout",
     "output_type": "stream",
     "text": [
      "WONING_17 2.8222094141905294\n",
      "Accuracy_score_metric: 3.564206076906315\n",
      "Accuracy_score_metric: 3.5718434224454403\n"
     ]
    },
    {
     "name": "stderr",
     "output_type": "stream",
     "text": [
      "<ipython-input-4-266e169216b4>:6: DataConversionWarning: A column-vector y was passed when a 1d array was expected. Please change the shape of y to (n_samples,), for example using ravel().\n",
      "  classifier.fit(X_train, y_train)\n"
     ]
    },
    {
     "name": "stdout",
     "output_type": "stream",
     "text": [
      "woon_18 8.997178635235192\n",
      "Accuracy_score_metric: 9.446864313687724\n",
      "Accuracy_score_metric: 9.409869965078956\n"
     ]
    },
    {
     "name": "stderr",
     "output_type": "stream",
     "text": [
      "<ipython-input-4-266e169216b4>:6: DataConversionWarning: A column-vector y was passed when a 1d array was expected. Please change the shape of y to (n_samples,), for example using ravel().\n",
      "  classifier.fit(X_train, y_train)\n"
     ]
    },
    {
     "name": "stdout",
     "output_type": "stream",
     "text": [
      "winkel_18 0.41180040834148784\n",
      "Accuracy_score_metric: 0.42922550452216357\n",
      "Accuracy_score_metric: 0.42894596084545794\n"
     ]
    },
    {
     "name": "stderr",
     "output_type": "stream",
     "text": [
      "<ipython-input-4-266e169216b4>:6: DataConversionWarning: A column-vector y was passed when a 1d array was expected. Please change the shape of y to (n_samples,), for example using ravel().\n",
      "  classifier.fit(X_train, y_train)\n"
     ]
    },
    {
     "name": "stdout",
     "output_type": "stream",
     "text": [
      "gezondheid_18 0.2677223877598375\n",
      "Accuracy_score_metric: 0.27405952447552\n",
      "Accuracy_score_metric: 0.23287684676820875\n"
     ]
    },
    {
     "name": "stderr",
     "output_type": "stream",
     "text": [
      "<ipython-input-4-266e169216b4>:6: DataConversionWarning: A column-vector y was passed when a 1d array was expected. Please change the shape of y to (n_samples,), for example using ravel().\n",
      "  classifier.fit(X_train, y_train)\n"
     ]
    },
    {
     "name": "stdout",
     "output_type": "stream",
     "text": [
      "kantoor_18 0.23847049779153898\n",
      "Accuracy_score_metric: 0.255540478215643\n",
      "Accuracy_score_metric: 0.2515180973348478\n"
     ]
    },
    {
     "name": "stderr",
     "output_type": "stream",
     "text": [
      "<ipython-input-4-266e169216b4>:6: DataConversionWarning: A column-vector y was passed when a 1d array was expected. Please change the shape of y to (n_samples,), for example using ravel().\n",
      "  classifier.fit(X_train, y_train)\n"
     ]
    },
    {
     "name": "stdout",
     "output_type": "stream",
     "text": [
      "bijeenkomst_18 0.19387337786188757\n",
      "Accuracy_score_metric: 0.19752262541073798\n",
      "Accuracy_score_metric: 0.19447320844697916\n"
     ]
    },
    {
     "name": "stderr",
     "output_type": "stream",
     "text": [
      "<ipython-input-4-266e169216b4>:6: DataConversionWarning: A column-vector y was passed when a 1d array was expected. Please change the shape of y to (n_samples,), for example using ravel().\n",
      "  classifier.fit(X_train, y_train)\n"
     ]
    },
    {
     "name": "stdout",
     "output_type": "stream",
     "text": [
      "onderwijs_18 0.06704212716652506\n",
      "Accuracy_score_metric: 0.07691097943151758\n",
      "Accuracy_score_metric: 0.0684753980726942\n"
     ]
    },
    {
     "name": "stderr",
     "output_type": "stream",
     "text": [
      "<ipython-input-4-266e169216b4>:6: DataConversionWarning: A column-vector y was passed when a 1d array was expected. Please change the shape of y to (n_samples,), for example using ravel().\n",
      "  classifier.fit(X_train, y_train)\n"
     ]
    },
    {
     "name": "stdout",
     "output_type": "stream",
     "text": [
      "sport_18 0.025601513129442078\n",
      "Accuracy_score_metric: 0.02481514882669684\n",
      "Accuracy_score_metric: 0.0270027246817176\n"
     ]
    },
    {
     "name": "stderr",
     "output_type": "stream",
     "text": [
      "<ipython-input-4-266e169216b4>:6: DataConversionWarning: A column-vector y was passed when a 1d array was expected. Please change the shape of y to (n_samples,), for example using ravel().\n",
      "  classifier.fit(X_train, y_train)\n"
     ]
    },
    {
     "name": "stdout",
     "output_type": "stream",
     "text": [
      "industrie_18 0.30855617615228315\n",
      "Accuracy_score_metric: 0.31941528754594345\n",
      "Accuracy_score_metric: 0.31251999465730623\n"
     ]
    },
    {
     "name": "stderr",
     "output_type": "stream",
     "text": [
      "<ipython-input-4-266e169216b4>:6: DataConversionWarning: A column-vector y was passed when a 1d array was expected. Please change the shape of y to (n_samples,), for example using ravel().\n",
      "  classifier.fit(X_train, y_train)\n"
     ]
    },
    {
     "name": "stdout",
     "output_type": "stream",
     "text": [
      "logies_18 0.09097993637135596\n",
      "Accuracy_score_metric: 0.10329692695723493\n",
      "Accuracy_score_metric: 0.09474125262195014\n"
     ]
    },
    {
     "name": "stderr",
     "output_type": "stream",
     "text": [
      "<ipython-input-4-266e169216b4>:6: DataConversionWarning: A column-vector y was passed when a 1d array was expected. Please change the shape of y to (n_samples,), for example using ravel().\n",
      "  classifier.fit(X_train, y_train)\n"
     ]
    },
    {
     "name": "stdout",
     "output_type": "stream",
     "text": [
      "mean_construction_year_18 10.389688750377974\n",
      "Accuracy_score_metric: 11.800047620440937\n",
      "Accuracy_score_metric: 11.760036213577527\n"
     ]
    },
    {
     "name": "stderr",
     "output_type": "stream",
     "text": [
      "<ipython-input-4-266e169216b4>:6: DataConversionWarning: A column-vector y was passed when a 1d array was expected. Please change the shape of y to (n_samples,), for example using ravel().\n",
      "  classifier.fit(X_train, y_train)\n"
     ]
    },
    {
     "name": "stdout",
     "output_type": "stream",
     "text": [
      "WONING_18 2.882012855368385\n",
      "Accuracy_score_metric: 3.5910902667607734\n",
      "Accuracy_score_metric: 3.698611464645454\n"
     ]
    },
    {
     "name": "stderr",
     "output_type": "stream",
     "text": [
      "<ipython-input-4-266e169216b4>:6: DataConversionWarning: A column-vector y was passed when a 1d array was expected. Please change the shape of y to (n_samples,), for example using ravel().\n",
      "  classifier.fit(X_train, y_train)\n"
     ]
    },
    {
     "name": "stdout",
     "output_type": "stream",
     "text": [
      "woon_19 9.084526245508606\n",
      "Accuracy_score_metric: 9.450480368426604\n",
      "Accuracy_score_metric: 9.525045818437835\n"
     ]
    },
    {
     "name": "stderr",
     "output_type": "stream",
     "text": [
      "<ipython-input-4-266e169216b4>:6: DataConversionWarning: A column-vector y was passed when a 1d array was expected. Please change the shape of y to (n_samples,), for example using ravel().\n",
      "  classifier.fit(X_train, y_train)\n"
     ]
    },
    {
     "name": "stdout",
     "output_type": "stream",
     "text": [
      "winkel_19 0.406886843797662\n",
      "Accuracy_score_metric: 0.4309756604516171\n",
      "Accuracy_score_metric: 0.41642712072512844\n"
     ]
    },
    {
     "name": "stderr",
     "output_type": "stream",
     "text": [
      "<ipython-input-4-266e169216b4>:6: DataConversionWarning: A column-vector y was passed when a 1d array was expected. Please change the shape of y to (n_samples,), for example using ravel().\n",
      "  classifier.fit(X_train, y_train)\n"
     ]
    },
    {
     "name": "stdout",
     "output_type": "stream",
     "text": [
      "gezondheid_19 0.2729306281171714\n",
      "Accuracy_score_metric: 0.2728136884895401\n",
      "Accuracy_score_metric: 0.2806329336190621\n"
     ]
    },
    {
     "name": "stderr",
     "output_type": "stream",
     "text": [
      "<ipython-input-4-266e169216b4>:6: DataConversionWarning: A column-vector y was passed when a 1d array was expected. Please change the shape of y to (n_samples,), for example using ravel().\n",
      "  classifier.fit(X_train, y_train)\n"
     ]
    },
    {
     "name": "stdout",
     "output_type": "stream",
     "text": [
      "kantoor_19 0.24745177738628274\n",
      "Accuracy_score_metric: 0.24873142878798818\n",
      "Accuracy_score_metric: 0.2626545259276922\n"
     ]
    },
    {
     "name": "stderr",
     "output_type": "stream",
     "text": [
      "<ipython-input-4-266e169216b4>:6: DataConversionWarning: A column-vector y was passed when a 1d array was expected. Please change the shape of y to (n_samples,), for example using ravel().\n",
      "  classifier.fit(X_train, y_train)\n"
     ]
    },
    {
     "name": "stdout",
     "output_type": "stream",
     "text": [
      "bijeenkomst_19 0.19606745973476816\n",
      "Accuracy_score_metric: 0.19743368026770072\n",
      "Accuracy_score_metric: 0.19561814470314998\n"
     ]
    },
    {
     "name": "stderr",
     "output_type": "stream",
     "text": [
      "<ipython-input-4-266e169216b4>:6: DataConversionWarning: A column-vector y was passed when a 1d array was expected. Please change the shape of y to (n_samples,), for example using ravel().\n",
      "  classifier.fit(X_train, y_train)\n"
     ]
    },
    {
     "name": "stdout",
     "output_type": "stream",
     "text": [
      "onderwijs_19 0.07615109413992903\n",
      "Accuracy_score_metric: 0.07382864929552924\n",
      "Accuracy_score_metric: 0.06126661109810457\n"
     ]
    },
    {
     "name": "stderr",
     "output_type": "stream",
     "text": [
      "<ipython-input-4-266e169216b4>:6: DataConversionWarning: A column-vector y was passed when a 1d array was expected. Please change the shape of y to (n_samples,), for example using ravel().\n",
      "  classifier.fit(X_train, y_train)\n"
     ]
    },
    {
     "name": "stdout",
     "output_type": "stream",
     "text": [
      "sport_19 0.025628880696952572\n",
      "Accuracy_score_metric: 0.02551641476259304\n",
      "Accuracy_score_metric: 0.026476467210522055\n"
     ]
    },
    {
     "name": "stderr",
     "output_type": "stream",
     "text": [
      "<ipython-input-4-266e169216b4>:6: DataConversionWarning: A column-vector y was passed when a 1d array was expected. Please change the shape of y to (n_samples,), for example using ravel().\n",
      "  classifier.fit(X_train, y_train)\n"
     ]
    },
    {
     "name": "stdout",
     "output_type": "stream",
     "text": [
      "industrie_19 0.3059103906054482\n",
      "Accuracy_score_metric: 0.31265863759767987\n",
      "Accuracy_score_metric: 0.33118185021712526\n"
     ]
    },
    {
     "name": "stderr",
     "output_type": "stream",
     "text": [
      "<ipython-input-4-266e169216b4>:6: DataConversionWarning: A column-vector y was passed when a 1d array was expected. Please change the shape of y to (n_samples,), for example using ravel().\n",
      "  classifier.fit(X_train, y_train)\n"
     ]
    },
    {
     "name": "stdout",
     "output_type": "stream",
     "text": [
      "logies_19 0.09007817299797877\n",
      "Accuracy_score_metric: 0.10434848751177823\n",
      "Accuracy_score_metric: 0.11194335347677938\n"
     ]
    },
    {
     "name": "stderr",
     "output_type": "stream",
     "text": [
      "<ipython-input-4-266e169216b4>:6: DataConversionWarning: A column-vector y was passed when a 1d array was expected. Please change the shape of y to (n_samples,), for example using ravel().\n",
      "  classifier.fit(X_train, y_train)\n"
     ]
    },
    {
     "name": "stdout",
     "output_type": "stream",
     "text": [
      "mean_construction_year_19 10.943467825868288\n",
      "Accuracy_score_metric: 11.86544973800836\n",
      "Accuracy_score_metric: 11.720963641973224\n"
     ]
    },
    {
     "name": "stderr",
     "output_type": "stream",
     "text": [
      "<ipython-input-4-266e169216b4>:6: DataConversionWarning: A column-vector y was passed when a 1d array was expected. Please change the shape of y to (n_samples,), for example using ravel().\n",
      "  classifier.fit(X_train, y_train)\n"
     ]
    },
    {
     "name": "stdout",
     "output_type": "stream",
     "text": [
      "WONING_19 2.5948088355081964\n",
      "Accuracy_score_metric: 3.604250188905797\n",
      "Accuracy_score_metric: 3.602884841037123\n"
     ]
    }
   ],
   "source": [
    "training = []\n",
    "for name, var, classifier in zip(variablenam,variablelists, classifiers):\n",
    "    train, val, val2 = train_val(var)\n",
    "    label = (name.split('_1'))[0]\n",
    "    X_train, y_train, X_val ,y_val, X_val2 ,y_val2 = X_Y(train, val, val2)\n",
    "    classifier.fit(X_train, y_train)\n",
    "    pr_rf = classifier.predict(X_train)\n",
    "    accuracy = mean_absolute_error(y_train,pr_rf)\n",
    "    training.append([name, accuracy])\n",
    "    print(name, accuracy)\n",
    "    predictions = classifier.predict(X_val)\n",
    "    accuracy_score_metric = mean_absolute_error(y_val, predictions)\n",
    "    print(\"Accuracy_score_metric:\", accuracy_score_metric)\n",
    "    predictions = classifier.predict(X_val2)\n",
    "    accuracy_score_metric = mean_absolute_error(y_val2, predictions)\n",
    "    print(\"Accuracy_score_metric:\", accuracy_score_metric)\n",
    "    "
   ]
  },
  {
   "cell_type": "code",
   "execution_count": 5,
   "metadata": {},
   "outputs": [],
   "source": [
    "min_construction_year_17  = pd.read_csv(\"UpDistance\\\\min_construction_year_17_distance.csv\", delimiter=',') \n",
    "max_construction_year_17  = pd.read_csv(\"UpDistance\\\\max_construction_year_17_distance.csv\", delimiter=',')\n",
    "min_construction_year_18  = pd.read_csv(\"UpDistance\\\\min_construction_year_18_distance.csv\", delimiter=',') \n",
    "max_construction_year_18  = pd.read_csv(\"UpDistance\\\\max_construction_year_18_distance.csv\", delimiter=',')\n",
    "min_construction_year_19  = pd.read_csv(\"UpDistance\\\\min_construction_year_19_distance.csv\", delimiter=',') \n",
    "max_construction_year_19  = pd.read_csv(\"UpDistance\\\\max_construction_year_19_distance.csv\", delimiter=',')\n",
    "\n",
    "variablelists = [min_construction_year_17,max_construction_year_17, min_construction_year_18,max_construction_year_18, \n",
    "                 min_construction_year_19,max_construction_year_19]\n",
    "variablenam = [\"min_construction_year_17\",\"max_construction_year_17\",\"min_construction_year_18\",\"max_construction_year_18\",\n",
    "                \"min_construction_year_19\",\"max_construction_year_19\" ]\n",
    "\n",
    "classifiers = []\n",
    "classifier = RandomForestRegressor(max_depth=18, min_samples_leaf=9, min_samples_split=5,\n",
    "                      n_estimators=95, n_jobs=-1)\n",
    "classifiers.append(classifier)\n",
    "\n",
    "classifier = RandomForestRegressor(max_depth=18, min_samples_leaf=7, min_samples_split=23,\n",
    "                      n_estimators=55, n_jobs=-1)\n",
    "classifiers.append(classifier)\n",
    "\n",
    "classifier = RandomForestRegressor(max_depth=18, min_samples_leaf=9, min_samples_split=29,\n",
    "                      n_estimators=55, n_jobs=-1)\n",
    "classifiers.append(classifier)\n",
    "\n",
    "classifier = RandomForestRegressor(max_depth=18, min_samples_leaf=6, min_samples_split=20,\n",
    "                      n_estimators=90, n_jobs=-1)\n",
    "classifiers.append(classifier)\n",
    "\n",
    "classifier = RandomForestRegressor(max_depth=16, min_samples_leaf=3, min_samples_split=14,\n",
    "                      n_estimators=70, n_jobs=-1)\n",
    "classifiers.append(classifier)\n",
    "\n",
    "classifier = RandomForestRegressor(max_depth=18, min_samples_leaf=5, min_samples_split=8,\n",
    "                      n_estimators=65, n_jobs=-1)\n",
    "classifiers.append(classifier)"
   ]
  },
  {
   "cell_type": "code",
   "execution_count": 6,
   "metadata": {},
   "outputs": [
    {
     "name": "stderr",
     "output_type": "stream",
     "text": [
      "<ipython-input-6-74afc454f5bb>:5: DataConversionWarning: A column-vector y was passed when a 1d array was expected. Please change the shape of y to (n_samples,), for example using ravel().\n",
      "  classifier.fit(X_train, y_train)\n"
     ]
    },
    {
     "name": "stdout",
     "output_type": "stream",
     "text": [
      "min_construction_year_17 11.871748010986861\n",
      "Accuracy_score_metric: 14.705849930170157\n",
      "Accuracy_score_metric: 14.74046065179951\n"
     ]
    },
    {
     "name": "stderr",
     "output_type": "stream",
     "text": [
      "<ipython-input-6-74afc454f5bb>:5: DataConversionWarning: A column-vector y was passed when a 1d array was expected. Please change the shape of y to (n_samples,), for example using ravel().\n",
      "  classifier.fit(X_train, y_train)\n"
     ]
    },
    {
     "name": "stdout",
     "output_type": "stream",
     "text": [
      "max_construction_year_17 9.22452679234521\n",
      "Accuracy_score_metric: 11.043697349574197\n",
      "Accuracy_score_metric: 11.08571785177087\n"
     ]
    },
    {
     "name": "stderr",
     "output_type": "stream",
     "text": [
      "<ipython-input-6-74afc454f5bb>:5: DataConversionWarning: A column-vector y was passed when a 1d array was expected. Please change the shape of y to (n_samples,), for example using ravel().\n",
      "  classifier.fit(X_train, y_train)\n"
     ]
    },
    {
     "name": "stdout",
     "output_type": "stream",
     "text": [
      "min_construction_year_18 12.461645483886418\n",
      "Accuracy_score_metric: 14.779006525469223\n",
      "Accuracy_score_metric: 14.699590140944073\n"
     ]
    },
    {
     "name": "stderr",
     "output_type": "stream",
     "text": [
      "<ipython-input-6-74afc454f5bb>:5: DataConversionWarning: A column-vector y was passed when a 1d array was expected. Please change the shape of y to (n_samples,), for example using ravel().\n",
      "  classifier.fit(X_train, y_train)\n"
     ]
    },
    {
     "name": "stdout",
     "output_type": "stream",
     "text": [
      "max_construction_year_18 9.091208567363005\n",
      "Accuracy_score_metric: 11.1528898764483\n",
      "Accuracy_score_metric: 11.202180511529386\n"
     ]
    },
    {
     "name": "stderr",
     "output_type": "stream",
     "text": [
      "<ipython-input-6-74afc454f5bb>:5: DataConversionWarning: A column-vector y was passed when a 1d array was expected. Please change the shape of y to (n_samples,), for example using ravel().\n",
      "  classifier.fit(X_train, y_train)\n"
     ]
    },
    {
     "name": "stdout",
     "output_type": "stream",
     "text": [
      "min_construction_year_19 11.798057115749243\n",
      "Accuracy_score_metric: 14.963636740509282\n",
      "Accuracy_score_metric: 14.934190620078423\n"
     ]
    },
    {
     "name": "stderr",
     "output_type": "stream",
     "text": [
      "<ipython-input-6-74afc454f5bb>:5: DataConversionWarning: A column-vector y was passed when a 1d array was expected. Please change the shape of y to (n_samples,), for example using ravel().\n",
      "  classifier.fit(X_train, y_train)\n"
     ]
    },
    {
     "name": "stdout",
     "output_type": "stream",
     "text": [
      "max_construction_year_19 8.567560871671978\n",
      "Accuracy_score_metric: 11.27185286633899\n",
      "Accuracy_score_metric: 11.193221021101225\n"
     ]
    }
   ],
   "source": [
    "for name, var, classifier in zip(variablenam,variablelists, classifiers):\n",
    "    train, val, val2 = train_val(var)\n",
    "    label = (name.split('_1'))[0]\n",
    "    X_train, y_train, X_val ,y_val, X_val2 ,y_val2 = X_Y(train, val, val2)\n",
    "    classifier.fit(X_train, y_train)\n",
    "    pr_rf = classifier.predict(X_train)\n",
    "    accuracy = mean_absolute_error(y_train,pr_rf)\n",
    "    training.append([name, accuracy])\n",
    "    print(name, accuracy)\n",
    "    predictions = classifier.predict(X_val)\n",
    "    accuracy_score_metric = mean_absolute_error(y_val, predictions)\n",
    "    print(\"Accuracy_score_metric:\", accuracy_score_metric)\n",
    "    predictions = classifier.predict(X_val2)\n",
    "    accuracy_score_metric = mean_absolute_error(y_val2, predictions)\n",
    "    print(\"Accuracy_score_metric:\", accuracy_score_metric)"
   ]
  },
  {
   "cell_type": "code",
   "execution_count": 7,
   "metadata": {},
   "outputs": [],
   "source": [
    "G_GAS_WON_17 = pd.read_csv(\"..\\\\Data\\\\UpDistance\\\\G_GAS_WON_17_distance.csv\", delimiter=',') \n",
    "G_ELEK_WON_17 = pd.read_csv(\"..\\\\Data\\\\UpDistance\\\\G_ELEK_WON_17_distance.csv\", delimiter=',') \n",
    "WOZWONING_17 = pd.read_csv(\"..\\\\Data\\\\UpDistance\\\\WOZWONING_17_distance.csv\", delimiter=',') \n",
    "AANTAL_HH_17 = pd.read_csv(\"..\\\\Data\\\\UpDistance\\\\AANTAL_HH_17_distance.csv\", delimiter=',') \n",
    "GEM_HH_GR_17 = pd.read_csv(\"..\\\\Data\\\\UpDistance\\\\GEM_HH_GR_17_distance.csv\", delimiter=',') \n",
    "P_HUURWON_17 = pd.read_csv(\"..\\\\Data\\\\UpDistance\\\\P_HUURWON_17_distance.csv\", delimiter=',') \n",
    "P_KOOPWON_17 = pd.read_csv(\"..\\\\Data\\\\UpDistance\\\\P_KOOPWON_17_distance.csv\", delimiter=',') \n",
    "\n",
    "G_GAS_WON_18 = pd.read_csv(\"..\\\\Data\\\\UpDistance\\\\G_GAS_WON_18_distance.csv\", delimiter=',') \n",
    "G_ELEK_WON_18 = pd.read_csv(\"..\\\\Data\\\\UpDistance\\\\G_ELEK_WON_18_distance.csv\", delimiter=',') \n",
    "WOZWONING_18 = pd.read_csv(\"..\\\\Data\\\\UpDistance\\\\WOZWONING_18_distance.csv\", delimiter=',') \n",
    "AANTAL_HH_18 = pd.read_csv(\"..\\\\Data\\\\UpDistance\\\\AANTAL_HH_18_distance.csv\", delimiter=',') \n",
    "GEM_HH_GR_18 = pd.read_csv(\"..\\\\Data\\\\UpDistance\\\\GEM_HH_GR_18_distance.csv\", delimiter=',') \n",
    "P_HUURWON_18 = pd.read_csv(\"..\\\\Data\\\\UpDistance\\\\P_HUURWON_18_distance.csv\", delimiter=',') \n",
    "P_KOOPWON_18 = pd.read_csv(\"..\\\\Data\\\\UpDistance\\\\P_KOOPWON_18_distance.csv\", delimiter=',') \n",
    "\n",
    "G_GAS_WON_19 = pd.read_csv(\"..\\\\Data\\\\UpDistance\\\\G_GAS_WON_19_distance.csv\", delimiter=',') \n",
    "G_ELEK_WON_19 = pd.read_csv(\"..\\\\Data\\\\UpDistance\\\\G_ELEK_WON_19_distance.csv\", delimiter=',') \n",
    "WOZWONING_19 = pd.read_csv(\"..\\\\Data\\\\UpDistance\\\\WOZWONING_19_distance.csv\", delimiter=',') \n",
    "AANTAL_HH_19 = pd.read_csv(\"..\\\\Data\\\\UpDistance\\\\AANTAL_HH_19_distance.csv\", delimiter=',') \n",
    "GEM_HH_GR_19 = pd.read_csv(\"..\\\\Data\\\\UpDistance\\\\GEM_HH_GR_19_distance.csv\", delimiter=',') \n",
    "P_HUURWON_19 = pd.read_csv(\"..\\\\Data\\\\UpDistance\\\\P_HUURWON_19_distance.csv\", delimiter=',') \n",
    "P_KOOPWON_19 = pd.read_csv(\"..\\\\Data\\\\UpDistance\\\\P_KOOPWON_19_distance.csv\", delimiter=',') \n",
    "\n",
    "variablel_17 = [AANTAL_HH_17,GEM_HH_GR_17,P_HUURWON_17,P_KOOPWON_17,G_ELEK_WON_17, G_GAS_WON_17,WOZWONING_17]  \n",
    "variablel_18 = [AANTAL_HH_18,GEM_HH_GR_18,P_HUURWON_18,P_KOOPWON_18,G_ELEK_WON_18, G_GAS_WON_18,WOZWONING_18]  \n",
    "variablel_19 = [AANTAL_HH_19,GEM_HH_GR_19,P_HUURWON_19,P_KOOPWON_19,G_ELEK_WON_19, G_GAS_WON_19,WOZWONING_19] \n",
    "variablenames_17 = [\"AANTAL_HH_17\",\"GEM_HH_GR_17\",\"P_HUURWON_17\",\"P_KOOPWON_17\",\"G_ELEK_WON_17\", \"G_GAS_WON_17\",\n",
    "                    \"WOZWONING_17\"]  \n",
    "variablenames_18 = [\"AANTAL_HH_18\",\"GEM_HH_GR_18\",\"P_HUURWON_18\",\"P_KOOPWON_18\",\"G_ELEK_WON_18\", \"G_GAS_WON_18\",\n",
    "                    \"WOZWONING_18\"]  \n",
    "variablenames_19 = [\"AANTAL_HH_19\",\"GEM_HH_GR_19\",\"P_HUURWON_19\",\"P_KOOPWON_19\",\"G_ELEK_WON_19\", \"G_GAS_WON_19\",\n",
    "                    \"WOZWONING_19\"] \n",
    "\n",
    "variablelists = []\n",
    "for i in variablel_17:\n",
    "    variablelists.append(i)\n",
    "for i in variablel_18:\n",
    "    variablelists.append(i)\n",
    "for i in variablel_19:\n",
    "    variablelists.append(i)\n",
    "    \n",
    "variablenames = []\n",
    "for i in variablenames_17:\n",
    "    variablenames.append(i)\n",
    "for i in variablenames_18:\n",
    "    variablenames.append(i)\n",
    "for i in variablenames_19:\n",
    "    variablenames.append(i)\n",
    "    \n",
    "classifiers = []\n",
    "    \n",
    "classifier = RandomForestRegressor(max_depth=14, min_samples_leaf=4, n_estimators=85,\n",
    "                      n_jobs=-1)\n",
    "classifiers.append(classifier)\n",
    "\n",
    "\n",
    "classifier = RandomForestRegressor(max_depth=16, min_samples_leaf=3, n_estimators=90,\n",
    "                      n_jobs=-1)\n",
    "classifiers.append(classifier)\n",
    "\n",
    "classifier = RandomForestRegressor(max_depth=14, min_samples_leaf=7, min_samples_split=14,\n",
    "                      n_estimators=60, n_jobs=-1)\n",
    "classifiers.append(classifier)\n",
    "\n",
    "\n",
    "classifier = RandomForestRegressor(max_depth=16, min_samples_leaf=4, min_samples_split=14,\n",
    "                      n_estimators=90, n_jobs=-1)\n",
    "classifiers.append(classifier)\n",
    "\n",
    "\n",
    "classifier = RandomForestRegressor(max_depth=14, min_samples_leaf=8, min_samples_split=5,\n",
    "                      n_estimators=90, n_jobs=-1)\n",
    "classifiers.append(classifier)\n",
    "\n",
    "\n",
    "classifier = RandomForestRegressor(max_depth=18, min_samples_leaf=5, min_samples_split=11,\n",
    "                      n_estimators=75, n_jobs=-1)\n",
    "classifiers.append(classifier)\n",
    "\n",
    "classifier = RandomForestRegressor(max_depth=16, min_samples_leaf=8, min_samples_split=17,\n",
    "                      n_estimators=60, n_jobs=-1)\n",
    "classifiers.append(classifier)\n",
    "\n",
    "\n",
    "classifier = RandomForestRegressor(max_depth=18, min_samples_leaf=3, min_samples_split=5,\n",
    "                      n_estimators=80, n_jobs=-1)\n",
    "classifiers.append(classifier)\n",
    "\n",
    "\n",
    "classifier = RandomForestRegressor(max_depth=18, min_samples_leaf=5, min_samples_split=20,\n",
    "                      n_estimators=70, n_jobs=-1)\n",
    "classifiers.append(classifier)\n",
    "\n",
    "\n",
    "classifier = RandomForestRegressor(max_depth=18, min_samples_leaf=10, min_samples_split=11,\n",
    "                      n_estimators=90, n_jobs=-1)\n",
    "classifiers.append(classifier)\n",
    "\n",
    "\n",
    "classifier = RandomForestRegressor(max_depth=16, min_samples_leaf=8, min_samples_split=8,\n",
    "                      n_estimators=80, n_jobs=-1)\n",
    "classifiers.append(classifier)\n",
    "\n",
    "\n",
    "classifier = RandomForestRegressor(max_depth=18, min_samples_leaf=7, min_samples_split=29,\n",
    "                      n_estimators=45, n_jobs=-1)\n",
    "classifiers.append(classifier)\n",
    "\n",
    "\n",
    "classifier = RandomForestRegressor(max_depth=18, min_samples_leaf=5, min_samples_split=29,\n",
    "                      n_estimators=80, n_jobs=-1)\n",
    "classifiers.append(classifier)\n",
    "\n",
    "classifier = RandomForestRegressor(max_depth=14, min_samples_leaf=10, min_samples_split=17,\n",
    "                      n_estimators=85, n_jobs=-1)\n",
    "classifiers.append(classifier)\n",
    "\n",
    "\n",
    "classifier = RandomForestRegressor(max_depth=18, min_samples_leaf=4, min_samples_split=8,\n",
    "                      n_estimators=40, n_jobs=-1)\n",
    "classifiers.append(classifier)\n",
    "\n",
    "classifier = RandomForestRegressor(max_depth=18, min_samples_leaf=6, min_samples_split=14,\n",
    "                      n_estimators=80, n_jobs=-1)\n",
    "classifiers.append(classifier)\n",
    "\n",
    "classifier = RandomForestRegressor(max_depth=16, min_samples_leaf=5, min_samples_split=5,\n",
    "                      n_estimators=90, n_jobs=-1)\n",
    "classifiers.append(classifier)\n",
    "\n",
    "classifier = RandomForestRegressor(max_depth=14, min_samples_leaf=5, min_samples_split=11,\n",
    "                      n_estimators=75, n_jobs=-1)\n",
    "classifiers.append(classifier)\n",
    "\n",
    "classifier = RandomForestRegressor(max_depth=16, min_samples_leaf=10, min_samples_split=20,\n",
    "                      n_estimators=70, n_jobs=-1)\n",
    "classifiers.append(classifier)\n",
    "\n",
    "classifier = RandomForestRegressor(max_depth=18, min_samples_leaf=7, min_samples_split=8,\n",
    "                      n_estimators=75, n_jobs=-1)\n",
    "classifiers.append(classifier)\n",
    "\n",
    "classifier = RandomForestRegressor(max_depth=18, min_samples_leaf=3, min_samples_split=8,\n",
    "                      n_estimators=80, n_jobs=-1)\n",
    "classifiers.append(classifier)  "
   ]
  },
  {
   "cell_type": "code",
   "execution_count": 8,
   "metadata": {},
   "outputs": [
    {
     "name": "stderr",
     "output_type": "stream",
     "text": [
      "<ipython-input-8-77c0345a30c2>:5: DataConversionWarning: A column-vector y was passed when a 1d array was expected. Please change the shape of y to (n_samples,), for example using ravel().\n",
      "  classifier.fit(X_train, y_train)\n"
     ]
    },
    {
     "name": "stdout",
     "output_type": "stream",
     "text": [
      "AANTAL_HH_17 1.57372109233524\n",
      "Accuracy_score_metric: 1.8876524800546703\n",
      "Accuracy_score_metric: 1.8071458494853032\n"
     ]
    },
    {
     "name": "stderr",
     "output_type": "stream",
     "text": [
      "<ipython-input-8-77c0345a30c2>:5: DataConversionWarning: A column-vector y was passed when a 1d array was expected. Please change the shape of y to (n_samples,), for example using ravel().\n",
      "  classifier.fit(X_train, y_train)\n"
     ]
    },
    {
     "name": "stdout",
     "output_type": "stream",
     "text": [
      "GEM_HH_GR_17 0.18519196607082972\n",
      "Accuracy_score_metric: 0.2371933096403096\n",
      "Accuracy_score_metric: 0.24504137966256187\n"
     ]
    },
    {
     "name": "stderr",
     "output_type": "stream",
     "text": [
      "<ipython-input-8-77c0345a30c2>:5: DataConversionWarning: A column-vector y was passed when a 1d array was expected. Please change the shape of y to (n_samples,), for example using ravel().\n",
      "  classifier.fit(X_train, y_train)\n"
     ]
    },
    {
     "name": "stdout",
     "output_type": "stream",
     "text": [
      "P_HUURWON_17 13.428185719932745\n",
      "Accuracy_score_metric: 16.51131912566452\n",
      "Accuracy_score_metric: 16.757261940097035\n"
     ]
    },
    {
     "name": "stderr",
     "output_type": "stream",
     "text": [
      "<ipython-input-8-77c0345a30c2>:5: DataConversionWarning: A column-vector y was passed when a 1d array was expected. Please change the shape of y to (n_samples,), for example using ravel().\n",
      "  classifier.fit(X_train, y_train)\n"
     ]
    },
    {
     "name": "stdout",
     "output_type": "stream",
     "text": [
      "P_KOOPWON_17 10.889775033984149\n",
      "Accuracy_score_metric: 14.790685024888946\n",
      "Accuracy_score_metric: 14.887255965534314\n"
     ]
    },
    {
     "name": "stderr",
     "output_type": "stream",
     "text": [
      "<ipython-input-8-77c0345a30c2>:5: DataConversionWarning: A column-vector y was passed when a 1d array was expected. Please change the shape of y to (n_samples,), for example using ravel().\n",
      "  classifier.fit(X_train, y_train)\n"
     ]
    },
    {
     "name": "stdout",
     "output_type": "stream",
     "text": [
      "G_ELEK_WON_17 435.9635503437715\n",
      "Accuracy_score_metric: 507.2998826765264\n",
      "Accuracy_score_metric: 509.1359112065448\n"
     ]
    },
    {
     "name": "stderr",
     "output_type": "stream",
     "text": [
      "<ipython-input-8-77c0345a30c2>:5: DataConversionWarning: A column-vector y was passed when a 1d array was expected. Please change the shape of y to (n_samples,), for example using ravel().\n",
      "  classifier.fit(X_train, y_train)\n"
     ]
    },
    {
     "name": "stdout",
     "output_type": "stream",
     "text": [
      "G_GAS_WON_17 184.20030599324747\n",
      "Accuracy_score_metric: 252.48475715438715\n",
      "Accuracy_score_metric: 252.1924037117333\n"
     ]
    },
    {
     "name": "stderr",
     "output_type": "stream",
     "text": [
      "<ipython-input-8-77c0345a30c2>:5: DataConversionWarning: A column-vector y was passed when a 1d array was expected. Please change the shape of y to (n_samples,), for example using ravel().\n",
      "  classifier.fit(X_train, y_train)\n"
     ]
    },
    {
     "name": "stdout",
     "output_type": "stream",
     "text": [
      "WOZWONING_17 34.81245171230751\n",
      "Accuracy_score_metric: 42.90223171671085\n",
      "Accuracy_score_metric: 43.64479369907464\n"
     ]
    },
    {
     "name": "stderr",
     "output_type": "stream",
     "text": [
      "<ipython-input-8-77c0345a30c2>:5: DataConversionWarning: A column-vector y was passed when a 1d array was expected. Please change the shape of y to (n_samples,), for example using ravel().\n",
      "  classifier.fit(X_train, y_train)\n"
     ]
    },
    {
     "name": "stdout",
     "output_type": "stream",
     "text": [
      "AANTAL_HH_18 1.3448303621364044\n",
      "Accuracy_score_metric: 1.867162778240903\n",
      "Accuracy_score_metric: 1.8974990482505303\n"
     ]
    },
    {
     "name": "stderr",
     "output_type": "stream",
     "text": [
      "<ipython-input-8-77c0345a30c2>:5: DataConversionWarning: A column-vector y was passed when a 1d array was expected. Please change the shape of y to (n_samples,), for example using ravel().\n",
      "  classifier.fit(X_train, y_train)\n"
     ]
    },
    {
     "name": "stdout",
     "output_type": "stream",
     "text": [
      "GEM_HH_GR_18 0.17192890046472226\n",
      "Accuracy_score_metric: 0.21669529994106776\n",
      "Accuracy_score_metric: 0.21855226328563043\n"
     ]
    },
    {
     "name": "stderr",
     "output_type": "stream",
     "text": [
      "<ipython-input-8-77c0345a30c2>:5: DataConversionWarning: A column-vector y was passed when a 1d array was expected. Please change the shape of y to (n_samples,), for example using ravel().\n",
      "  classifier.fit(X_train, y_train)\n"
     ]
    },
    {
     "name": "stdout",
     "output_type": "stream",
     "text": [
      "P_HUURWON_18 12.904323824529332\n",
      "Accuracy_score_metric: 16.571295677851193\n",
      "Accuracy_score_metric: 16.66861100162079\n"
     ]
    },
    {
     "name": "stderr",
     "output_type": "stream",
     "text": [
      "<ipython-input-8-77c0345a30c2>:5: DataConversionWarning: A column-vector y was passed when a 1d array was expected. Please change the shape of y to (n_samples,), for example using ravel().\n",
      "  classifier.fit(X_train, y_train)\n"
     ]
    },
    {
     "name": "stdout",
     "output_type": "stream",
     "text": [
      "P_KOOPWON_18 11.4680824679969\n",
      "Accuracy_score_metric: 14.877380689371934\n",
      "Accuracy_score_metric: 14.990422749190213\n"
     ]
    },
    {
     "name": "stderr",
     "output_type": "stream",
     "text": [
      "<ipython-input-8-77c0345a30c2>:5: DataConversionWarning: A column-vector y was passed when a 1d array was expected. Please change the shape of y to (n_samples,), for example using ravel().\n",
      "  classifier.fit(X_train, y_train)\n"
     ]
    },
    {
     "name": "stdout",
     "output_type": "stream",
     "text": [
      "G_ELEK_WON_18 407.4262988416989\n",
      "Accuracy_score_metric: 499.03713645588755\n",
      "Accuracy_score_metric: 491.85400176122414\n"
     ]
    },
    {
     "name": "stderr",
     "output_type": "stream",
     "text": [
      "<ipython-input-8-77c0345a30c2>:5: DataConversionWarning: A column-vector y was passed when a 1d array was expected. Please change the shape of y to (n_samples,), for example using ravel().\n",
      "  classifier.fit(X_train, y_train)\n"
     ]
    },
    {
     "name": "stdout",
     "output_type": "stream",
     "text": [
      "G_GAS_WON_18 204.38936937814444\n",
      "Accuracy_score_metric: 252.69536610857753\n",
      "Accuracy_score_metric: 254.84785788348987\n"
     ]
    },
    {
     "name": "stderr",
     "output_type": "stream",
     "text": [
      "<ipython-input-8-77c0345a30c2>:5: DataConversionWarning: A column-vector y was passed when a 1d array was expected. Please change the shape of y to (n_samples,), for example using ravel().\n",
      "  classifier.fit(X_train, y_train)\n"
     ]
    },
    {
     "name": "stdout",
     "output_type": "stream",
     "text": [
      "WOZWONING_18 39.40775202756653\n",
      "Accuracy_score_metric: 44.938623828032604\n",
      "Accuracy_score_metric: 44.954108907152694\n"
     ]
    },
    {
     "name": "stderr",
     "output_type": "stream",
     "text": [
      "<ipython-input-8-77c0345a30c2>:5: DataConversionWarning: A column-vector y was passed when a 1d array was expected. Please change the shape of y to (n_samples,), for example using ravel().\n",
      "  classifier.fit(X_train, y_train)\n"
     ]
    },
    {
     "name": "stdout",
     "output_type": "stream",
     "text": [
      "AANTAL_HH_19 1.4023809885802199\n",
      "Accuracy_score_metric: 1.8498519078995146\n",
      "Accuracy_score_metric: 1.7975183517616913\n"
     ]
    },
    {
     "name": "stderr",
     "output_type": "stream",
     "text": [
      "<ipython-input-8-77c0345a30c2>:5: DataConversionWarning: A column-vector y was passed when a 1d array was expected. Please change the shape of y to (n_samples,), for example using ravel().\n",
      "  classifier.fit(X_train, y_train)\n"
     ]
    },
    {
     "name": "stdout",
     "output_type": "stream",
     "text": [
      "GEM_HH_GR_19 0.16514922838894194\n",
      "Accuracy_score_metric: 0.21853473540241855\n",
      "Accuracy_score_metric: 0.21636922266646302\n"
     ]
    },
    {
     "name": "stderr",
     "output_type": "stream",
     "text": [
      "<ipython-input-8-77c0345a30c2>:5: DataConversionWarning: A column-vector y was passed when a 1d array was expected. Please change the shape of y to (n_samples,), for example using ravel().\n",
      "  classifier.fit(X_train, y_train)\n"
     ]
    },
    {
     "name": "stdout",
     "output_type": "stream",
     "text": [
      "P_HUURWON_19 11.795197425413432\n",
      "Accuracy_score_metric: 16.438408783649297\n",
      "Accuracy_score_metric: 16.833208948534764\n"
     ]
    },
    {
     "name": "stderr",
     "output_type": "stream",
     "text": [
      "<ipython-input-8-77c0345a30c2>:5: DataConversionWarning: A column-vector y was passed when a 1d array was expected. Please change the shape of y to (n_samples,), for example using ravel().\n",
      "  classifier.fit(X_train, y_train)\n"
     ]
    },
    {
     "name": "stdout",
     "output_type": "stream",
     "text": [
      "P_KOOPWON_19 11.95774756552083\n",
      "Accuracy_score_metric: 14.958887740015003\n",
      "Accuracy_score_metric: 14.984445426937553\n"
     ]
    },
    {
     "name": "stderr",
     "output_type": "stream",
     "text": [
      "<ipython-input-8-77c0345a30c2>:5: DataConversionWarning: A column-vector y was passed when a 1d array was expected. Please change the shape of y to (n_samples,), for example using ravel().\n",
      "  classifier.fit(X_train, y_train)\n"
     ]
    },
    {
     "name": "stdout",
     "output_type": "stream",
     "text": [
      "G_ELEK_WON_19 401.511727088305\n",
      "Accuracy_score_metric: 485.99168548620156\n",
      "Accuracy_score_metric: 482.6688307039879\n"
     ]
    },
    {
     "name": "stderr",
     "output_type": "stream",
     "text": [
      "<ipython-input-8-77c0345a30c2>:5: DataConversionWarning: A column-vector y was passed when a 1d array was expected. Please change the shape of y to (n_samples,), for example using ravel().\n",
      "  classifier.fit(X_train, y_train)\n"
     ]
    },
    {
     "name": "stdout",
     "output_type": "stream",
     "text": [
      "G_GAS_WON_19 178.04952093457985\n",
      "Accuracy_score_metric: 234.4757490205459\n",
      "Accuracy_score_metric: 237.64032058045083\n"
     ]
    },
    {
     "name": "stderr",
     "output_type": "stream",
     "text": [
      "<ipython-input-8-77c0345a30c2>:5: DataConversionWarning: A column-vector y was passed when a 1d array was expected. Please change the shape of y to (n_samples,), for example using ravel().\n",
      "  classifier.fit(X_train, y_train)\n"
     ]
    },
    {
     "name": "stdout",
     "output_type": "stream",
     "text": [
      "WOZWONING_19 32.770347227344175\n",
      "Accuracy_score_metric: 47.91443834056677\n",
      "Accuracy_score_metric: 47.5138120997281\n"
     ]
    }
   ],
   "source": [
    "for name, var, classifier in zip(variablenames,variablelists, classifiers):\n",
    "    train, val, val2 = train_val(var)\n",
    "    label = (name.split('_1'))[0]\n",
    "    X_train, y_train, X_val ,y_val, X_val2 ,y_val2 = X_Y(train, val, val2)\n",
    "    classifier.fit(X_train, y_train)\n",
    "    pr_rf = classifier.predict(X_train)\n",
    "    accuracy = mean_absolute_error(y_train,pr_rf)\n",
    "    training.append([name, accuracy])\n",
    "    print(name, accuracy)\n",
    "    predictions = classifier.predict(X_val)\n",
    "    accuracy_score_metric = mean_absolute_error(y_val, predictions)\n",
    "    print(\"Accuracy_score_metric:\", accuracy_score_metric)\n",
    "    predictions = classifier.predict(X_val2)\n",
    "    accuracy_score_metric = mean_absolute_error(y_val2, predictions)\n",
    "    print(\"Accuracy_score_metric:\", accuracy_score_metric)"
   ]
  },
  {
   "cell_type": "code",
   "execution_count": 9,
   "metadata": {},
   "outputs": [],
   "source": [
    "P_HINK_HH_17 = pd.read_csv(\"..\\\\Data\\\\UpDistance\\\\P_HINK_HH_17_distance.csv\", delimiter=',') \n",
    "P_LINK_HH_17 = pd.read_csv(\"..\\\\Data\\\\UpDistance\\\\P_LINK_HH_17_distance.csv\", delimiter=',') \n",
    "WON_NBEW_17 = pd.read_csv(\"..\\\\Data\\\\UpDistance\\\\WON_NBEW_17_distance.csv\", delimiter=',')  \n",
    "\n",
    "P_HINK_HH_18 = pd.read_csv(\"..\\\\Data\\\\UpDistance\\\\P_HINK_HH_18_distance.csv\", delimiter=',') \n",
    "P_LINK_HH_18 = pd.read_csv(\"..\\\\Data\\\\UpDistance\\\\P_LINK_HH_18_distance.csv\", delimiter=',') \n",
    "WON_NBEW_18 = pd.read_csv(\"..\\\\Data\\\\UpDistance\\\\WON_NBEW_18_distance.csv\", delimiter=',') \n",
    "\n",
    "P_HINK_HH_19 = pd.read_csv(\"..\\\\Data\\\\UpDistance\\\\P_HINK_HH_19_distance.csv\", delimiter=',') \n",
    "P_LINK_HH_19 = pd.read_csv(\"..\\\\Data\\\\UpDistance\\\\P_LINK_HH_19_distance.csv\", delimiter=',') \n",
    "WON_NBEW_19 = pd.read_csv(\"..\\\\Data\\\\UpDistance\\\\WON_NBEW_19_distance.csv\", delimiter=',') \n",
    "\n",
    "variablel_17 = [P_HINK_HH_17 ,P_LINK_HH_17 ,WON_NBEW_17]\n",
    "variablel_18 = [P_HINK_HH_18 ,P_LINK_HH_18 ,WON_NBEW_18]               \n",
    "variablel_19 = [P_HINK_HH_19 ,P_LINK_HH_19 ,WON_NBEW_19]\n",
    "variablenames_17 = [\"P_HINK_HH_17\",\"P_LINK_HH_17\",\"WON_NBEW_17\"]\n",
    "variablenames_18 = [\"P_HINK_HH_18\",\"P_LINK_HH_18\",\"WON_NBEW_18\"]\n",
    "variablenames_19 = [\"P_HINK_HH_19\",\"P_LINK_HH_19\",\"WON_NBEW_19\"]\n",
    "\n",
    "variablelists = []\n",
    "for i in variablel_17:\n",
    "    variablelists.append(i)\n",
    "for i in variablel_18:\n",
    "    variablelists.append(i)\n",
    "for i in variablel_19:\n",
    "    variablelists.append(i)\n",
    "    \n",
    "variablenames = []\n",
    "for i in variablenames_17:\n",
    "    variablenames.append(i)\n",
    "for i in variablenames_18:\n",
    "    variablenames.append(i)\n",
    "for i in variablenames_19:\n",
    "    variablenames.append(i)\n",
    "\n",
    "classifiers = []\n",
    "classifier = RandomForestRegressor(max_depth=18, min_samples_leaf=3, n_estimators=50,\n",
    "                      n_jobs=-1)\n",
    "classifiers.append(classifier)\n",
    "\n",
    "classifier = RandomForestRegressor(max_depth=18, min_samples_split=8, n_estimators=50,\n",
    "                      n_jobs=-1)\n",
    "classifiers.append(classifier)\n",
    "\n",
    "classifier = RandomForestRegressor(max_depth=18, min_samples_leaf=4, min_samples_split=8,\n",
    "                      n_estimators=60, n_jobs=-1)\n",
    "classifiers.append(classifier)\n",
    "\n",
    "classifier = RandomForestRegressor(max_depth=16, min_samples_leaf=3, min_samples_split=11,\n",
    "                      n_estimators=90, n_jobs=-1)\n",
    "classifiers.append(classifier)\n",
    "\n",
    "\n",
    "classifier = RandomForestRegressor(max_depth=18, min_samples_leaf=3, min_samples_split=26,\n",
    "                      n_estimators=25, n_jobs=-1)\n",
    "classifiers.append(classifier)\n",
    "\n",
    "classifier = RandomForestRegressor(max_depth=16, min_samples_leaf=5, min_samples_split=11,\n",
    "                      n_estimators=40, n_jobs=-1)\n",
    "classifiers.append(classifier)\n",
    "\n",
    "classifier = RandomForestRegressor(max_depth=18, min_samples_leaf=8, min_samples_split=14,\n",
    "                      n_estimators=35, n_jobs=-1)\n",
    "classifiers.append(classifier)\n",
    "\n",
    "classifier = RandomForestRegressor(max_depth=18, min_samples_leaf=5, min_samples_split=8,\n",
    "                      n_estimators=70, n_jobs=-1)\n",
    "classifiers.append(classifier)\n",
    "\n",
    "classifier = RandomForestRegressor(max_depth=18, min_samples_leaf=4, min_samples_split=23,\n",
    "                      n_estimators=80, n_jobs=-1)\n",
    "classifiers.append(classifier)"
   ]
  },
  {
   "cell_type": "code",
   "execution_count": 10,
   "metadata": {},
   "outputs": [
    {
     "name": "stderr",
     "output_type": "stream",
     "text": [
      "<ipython-input-10-77c0345a30c2>:5: DataConversionWarning: A column-vector y was passed when a 1d array was expected. Please change the shape of y to (n_samples,), for example using ravel().\n",
      "  classifier.fit(X_train, y_train)\n"
     ]
    },
    {
     "name": "stdout",
     "output_type": "stream",
     "text": [
      "P_HINK_HH_17 0.4347301046608438\n",
      "Accuracy_score_metric: 0.6806218199869581\n",
      "Accuracy_score_metric: 0.6851961113843124\n"
     ]
    },
    {
     "name": "stderr",
     "output_type": "stream",
     "text": [
      "<ipython-input-10-77c0345a30c2>:5: DataConversionWarning: A column-vector y was passed when a 1d array was expected. Please change the shape of y to (n_samples,), for example using ravel().\n",
      "  classifier.fit(X_train, y_train)\n"
     ]
    },
    {
     "name": "stdout",
     "output_type": "stream",
     "text": [
      "P_LINK_HH_17 0.5918597344280548\n",
      "Accuracy_score_metric: 1.0067724580501842\n",
      "Accuracy_score_metric: 1.0418520924841959\n"
     ]
    },
    {
     "name": "stderr",
     "output_type": "stream",
     "text": [
      "<ipython-input-10-77c0345a30c2>:5: DataConversionWarning: A column-vector y was passed when a 1d array was expected. Please change the shape of y to (n_samples,), for example using ravel().\n",
      "  classifier.fit(X_train, y_train)\n"
     ]
    },
    {
     "name": "stdout",
     "output_type": "stream",
     "text": [
      "WON_NBEW_17 0.25259046206659064\n",
      "Accuracy_score_metric: 0.35132603479072017\n",
      "Accuracy_score_metric: 0.3534469611118282\n"
     ]
    },
    {
     "name": "stderr",
     "output_type": "stream",
     "text": [
      "<ipython-input-10-77c0345a30c2>:5: DataConversionWarning: A column-vector y was passed when a 1d array was expected. Please change the shape of y to (n_samples,), for example using ravel().\n",
      "  classifier.fit(X_train, y_train)\n"
     ]
    },
    {
     "name": "stdout",
     "output_type": "stream",
     "text": [
      "P_HINK_HH_18 0.49576531147597014\n",
      "Accuracy_score_metric: 0.6693670106616326\n",
      "Accuracy_score_metric: 0.6983969767530239\n"
     ]
    },
    {
     "name": "stderr",
     "output_type": "stream",
     "text": [
      "<ipython-input-10-77c0345a30c2>:5: DataConversionWarning: A column-vector y was passed when a 1d array was expected. Please change the shape of y to (n_samples,), for example using ravel().\n",
      "  classifier.fit(X_train, y_train)\n"
     ]
    },
    {
     "name": "stdout",
     "output_type": "stream",
     "text": [
      "P_LINK_HH_18 0.8295806053244292\n",
      "Accuracy_score_metric: 1.0252972338978499\n",
      "Accuracy_score_metric: 1.013933900426062\n"
     ]
    },
    {
     "name": "stderr",
     "output_type": "stream",
     "text": [
      "<ipython-input-10-77c0345a30c2>:5: DataConversionWarning: A column-vector y was passed when a 1d array was expected. Please change the shape of y to (n_samples,), for example using ravel().\n",
      "  classifier.fit(X_train, y_train)\n"
     ]
    },
    {
     "name": "stdout",
     "output_type": "stream",
     "text": [
      "WON_NBEW_18 0.26683025027731294\n",
      "Accuracy_score_metric: 0.3604952889386729\n",
      "Accuracy_score_metric: 0.3373896449907159\n"
     ]
    },
    {
     "name": "stderr",
     "output_type": "stream",
     "text": [
      "<ipython-input-10-77c0345a30c2>:5: DataConversionWarning: A column-vector y was passed when a 1d array was expected. Please change the shape of y to (n_samples,), for example using ravel().\n",
      "  classifier.fit(X_train, y_train)\n"
     ]
    },
    {
     "name": "stdout",
     "output_type": "stream",
     "text": [
      "P_HINK_HH_19 0.5853776365400805\n",
      "Accuracy_score_metric: 0.7225691503212649\n",
      "Accuracy_score_metric: 0.7119360913038374\n"
     ]
    },
    {
     "name": "stderr",
     "output_type": "stream",
     "text": [
      "<ipython-input-10-77c0345a30c2>:5: DataConversionWarning: A column-vector y was passed when a 1d array was expected. Please change the shape of y to (n_samples,), for example using ravel().\n",
      "  classifier.fit(X_train, y_train)\n"
     ]
    },
    {
     "name": "stdout",
     "output_type": "stream",
     "text": [
      "P_LINK_HH_19 0.7284862444148424\n",
      "Accuracy_score_metric: 1.0128421637038425\n",
      "Accuracy_score_metric: 1.0110149018333847\n"
     ]
    },
    {
     "name": "stderr",
     "output_type": "stream",
     "text": [
      "<ipython-input-10-77c0345a30c2>:5: DataConversionWarning: A column-vector y was passed when a 1d array was expected. Please change the shape of y to (n_samples,), for example using ravel().\n",
      "  classifier.fit(X_train, y_train)\n"
     ]
    },
    {
     "name": "stdout",
     "output_type": "stream",
     "text": [
      "WON_NBEW_19 0.28243002634303455\n",
      "Accuracy_score_metric: 0.33281421358864993\n",
      "Accuracy_score_metric: 0.42909288429452447\n"
     ]
    }
   ],
   "source": [
    "for name, var, classifier in zip(variablenames,variablelists, classifiers):\n",
    "    train, val, val2 = train_val(var)\n",
    "    label = (name.split('_1'))[0]\n",
    "    X_train, y_train, X_val ,y_val, X_val2 ,y_val2 = X_Y(train, val, val2)\n",
    "    classifier.fit(X_train, y_train)\n",
    "    pr_rf = classifier.predict(X_train)\n",
    "    accuracy = mean_absolute_error(y_train,pr_rf)\n",
    "    training.append([name, accuracy])\n",
    "    print(name, accuracy)\n",
    "    predictions = classifier.predict(X_val)\n",
    "    accuracy_score_metric = mean_absolute_error(y_val, predictions)\n",
    "    print(\"Accuracy_score_metric:\", accuracy_score_metric)\n",
    "    predictions = classifier.predict(X_val2)\n",
    "    accuracy_score_metric = mean_absolute_error(y_val2, predictions)\n",
    "    print(\"Accuracy_score_metric:\", accuracy_score_metric)"
   ]
  },
  {
   "cell_type": "code",
   "execution_count": 15,
   "metadata": {},
   "outputs": [],
   "source": [
    "UITKMINAOW_17 = pd.read_csv(\"..\\\\Data\\\\UpDistance\\\\UITKMINAOW_17_distance.csv\", delimiter=',')\n",
    "\n",
    "UITKMINAOW_18 = pd.read_csv(\"..\\\\Data\\\\UpDistance\\\\UITKMINAOW_18_distance.csv\", delimiter=',') \n",
    "\n",
    "UITKMINAOW_19 = pd.read_csv(\"..\\\\Data\\\\UpDistance\\\\UITKMINAOW_19_distance.csv\", delimiter=',') \n",
    "\n",
    "variablenames_17 = [\"UITKMINAOW_17\"]\n",
    "variablenames_18 = [\"UITKMINAOW_18\"]\n",
    "variablenames_19 = [\"UITKMINAOW_19\"]\n",
    "\n",
    "variablelists = [UITKMINAOW_17 ,UITKMINAOW_18,UITKMINAOW_19]\n",
    "    \n",
    "variablenames = []\n",
    "for i in variablenames_17:\n",
    "    variablenames.append(i)\n",
    "for i in variablenames_18:\n",
    "    variablenames.append(i)\n",
    "for i in variablenames_19:\n",
    "    variablenames.append(i)\n",
    "    \n",
    "classifiers = []\n",
    "classifier = RandomForestRegressor(max_depth = 16, min_samples_leaf= 10, min_samples_split = 23, n_estimators = 90)\n",
    "classifiers.append(classifier)\n",
    "    \n",
    "classifier = RandomForestRegressor(max_depth = 18, min_samples_leaf= 8, min_samples_split = 23, n_estimators = 45)\n",
    "classifiers.append(classifier)\n",
    "                            \n",
    "classifier = RandomForestRegressor(max_depth = 18, min_samples_leaf=8, min_samples_split = 8, n_estimators = 95)\n",
    "classifiers.append(classifier)"
   ]
  },
  {
   "cell_type": "code",
   "execution_count": 16,
   "metadata": {},
   "outputs": [
    {
     "name": "stderr",
     "output_type": "stream",
     "text": [
      "<ipython-input-16-77c0345a30c2>:5: DataConversionWarning: A column-vector y was passed when a 1d array was expected. Please change the shape of y to (n_samples,), for example using ravel().\n",
      "  classifier.fit(X_train, y_train)\n"
     ]
    },
    {
     "name": "stdout",
     "output_type": "stream",
     "text": [
      "UITKMINAOW_17 4.367571451443868\n",
      "Accuracy_score_metric: 5.25412398796004\n",
      "Accuracy_score_metric: 5.277313722222689\n"
     ]
    },
    {
     "name": "stderr",
     "output_type": "stream",
     "text": [
      "<ipython-input-16-77c0345a30c2>:5: DataConversionWarning: A column-vector y was passed when a 1d array was expected. Please change the shape of y to (n_samples,), for example using ravel().\n",
      "  classifier.fit(X_train, y_train)\n"
     ]
    },
    {
     "name": "stdout",
     "output_type": "stream",
     "text": [
      "UITKMINAOW_18 4.26651710901608\n",
      "Accuracy_score_metric: 5.264950856025313\n",
      "Accuracy_score_metric: 5.339042745961849\n"
     ]
    },
    {
     "name": "stderr",
     "output_type": "stream",
     "text": [
      "<ipython-input-16-77c0345a30c2>:5: DataConversionWarning: A column-vector y was passed when a 1d array was expected. Please change the shape of y to (n_samples,), for example using ravel().\n",
      "  classifier.fit(X_train, y_train)\n"
     ]
    },
    {
     "name": "stdout",
     "output_type": "stream",
     "text": [
      "UITKMINAOW_19 4.043621850049587\n",
      "Accuracy_score_metric: 5.144367056838285\n",
      "Accuracy_score_metric: 5.176323649673048\n"
     ]
    }
   ],
   "source": [
    "for name, var, classifier in zip(variablenames,variablelists, classifiers):\n",
    "    train, val, val2 = train_val(var)\n",
    "    label = (name.split('_1'))[0]\n",
    "    X_train, y_train, X_val ,y_val, X_val2 ,y_val2 = X_Y(train, val, val2)\n",
    "    classifier.fit(X_train, y_train)\n",
    "    pr_rf = classifier.predict(X_train)\n",
    "    accuracy = mean_absolute_error(y_train,pr_rf)\n",
    "    training.append([name, accuracy])\n",
    "    print(name, accuracy)\n",
    "    predictions = classifier.predict(X_val)\n",
    "    accuracy_score_metric = mean_absolute_error(y_val, predictions)\n",
    "    print(\"Accuracy_score_metric:\", accuracy_score_metric)\n",
    "    predictions = classifier.predict(X_val2)\n",
    "    accuracy_score_metric = mean_absolute_error(y_val2, predictions)\n",
    "    print(\"Accuracy_score_metric:\", accuracy_score_metric)"
   ]
  },
  {
   "cell_type": "code",
   "execution_count": 17,
   "metadata": {},
   "outputs": [
    {
     "name": "stdout",
     "output_type": "stream",
     "text": [
      "[['AFS_SUPERM_17', 0.07432171700166174], ['AFS_TREINS_17', 0.07336726171243602], ['AFS_ONDBAS_17', 0.07343219021839305], ['AFS_ONDVRT_17', 0.0729556399522285], ['AFS_HAPRAK_17', 0.07275335268154379], ['AFS_ZIEK_E_17', 0.07808036712574078], ['AFS_HORECA_17', 0.07580231009898908], ['woon_17', 8.927870103241265], ['winkel_17', 0.404778850978181], ['gezondheid_17', 0.2603737351802509], ['kantoor_17', 0.24972509515484925], ['bijeenkomst_17', 0.19190347801985902], ['onderwijs_17', 0.07169097791046147], ['sport_17', 0.025093960673360644], ['industrie_17', 0.3049486977857213], ['logies_17', 0.0881081304282323], ['mean_construction_year_17', 10.572616275713825], ['WONING_17', 2.8222094141905294], ['woon_18', 8.997178635235192], ['winkel_18', 0.41180040834148784], ['gezondheid_18', 0.2677223877598375], ['kantoor_18', 0.23847049779153898], ['bijeenkomst_18', 0.19387337786188757], ['onderwijs_18', 0.06704212716652506], ['sport_18', 0.025601513129442078], ['industrie_18', 0.30855617615228315], ['logies_18', 0.09097993637135596], ['mean_construction_year_18', 10.389688750377974], ['WONING_18', 2.882012855368385], ['woon_19', 9.084526245508606], ['winkel_19', 0.406886843797662], ['gezondheid_19', 0.2729306281171714], ['kantoor_19', 0.24745177738628274], ['bijeenkomst_19', 0.19606745973476816], ['onderwijs_19', 0.07615109413992903], ['sport_19', 0.025628880696952572], ['industrie_19', 0.3059103906054482], ['logies_19', 0.09007817299797877], ['mean_construction_year_19', 10.943467825868288], ['WONING_19', 2.5948088355081964], ['min_construction_year_17', 11.871748010986861], ['max_construction_year_17', 9.22452679234521], ['min_construction_year_18', 12.461645483886418], ['max_construction_year_18', 9.091208567363005], ['min_construction_year_19', 11.798057115749243], ['max_construction_year_19', 8.567560871671978], ['AANTAL_HH_17', 1.57372109233524], ['GEM_HH_GR_17', 0.18519196607082972], ['P_HUURWON_17', 13.428185719932745], ['P_KOOPWON_17', 10.889775033984149], ['G_ELEK_WON_17', 435.9635503437715], ['G_GAS_WON_17', 184.20030599324747], ['WOZWONING_17', 34.81245171230751], ['AANTAL_HH_18', 1.3448303621364044], ['GEM_HH_GR_18', 0.17192890046472226], ['P_HUURWON_18', 12.904323824529332], ['P_KOOPWON_18', 11.4680824679969], ['G_ELEK_WON_18', 407.4262988416989], ['G_GAS_WON_18', 204.38936937814444], ['WOZWONING_18', 39.40775202756653], ['AANTAL_HH_19', 1.4023809885802199], ['GEM_HH_GR_19', 0.16514922838894194], ['P_HUURWON_19', 11.795197425413432], ['P_KOOPWON_19', 11.95774756552083], ['G_ELEK_WON_19', 401.511727088305], ['G_GAS_WON_19', 178.04952093457985], ['WOZWONING_19', 32.770347227344175], ['P_HINK_HH_17', 0.4347301046608438], ['P_LINK_HH_17', 0.5918597344280548], ['WON_NBEW_17', 0.25259046206659064], ['P_HINK_HH_18', 0.49576531147597014], ['P_LINK_HH_18', 0.8295806053244292], ['WON_NBEW_18', 0.26683025027731294], ['P_HINK_HH_19', 0.5853776365400805], ['P_LINK_HH_19', 0.7284862444148424], ['WON_NBEW_19', 0.28243002634303455], ['UITKMINAOW_17', 4.367571451443868], ['UITKMINAOW_18', 4.26651710901608], ['UITKMINAOW_19', 4.043621850049587]]\n"
     ]
    }
   ],
   "source": [
    "print(training)"
   ]
  },
  {
   "cell_type": "code",
   "execution_count": null,
   "metadata": {},
   "outputs": [],
   "source": []
  }
 ],
 "metadata": {
  "kernelspec": {
   "display_name": "Python 3",
   "language": "python",
   "name": "python3"
  },
  "language_info": {
   "codemirror_mode": {
    "name": "ipython",
    "version": 3
   },
   "file_extension": ".py",
   "mimetype": "text/x-python",
   "name": "python",
   "nbconvert_exporter": "python",
   "pygments_lexer": "ipython3",
   "version": "3.8.3"
  }
 },
 "nbformat": 4,
 "nbformat_minor": 4
}
