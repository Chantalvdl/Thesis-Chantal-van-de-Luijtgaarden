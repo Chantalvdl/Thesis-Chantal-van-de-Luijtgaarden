{
 "cells": [
  {
   "cell_type": "code",
   "execution_count": 1,
   "metadata": {},
   "outputs": [],
   "source": [
    "# Import packages\n",
    "import pandas as pd\n",
    "import numpy as np\n",
    "import math"
   ]
  },
  {
   "cell_type": "code",
   "execution_count": 2,
   "metadata": {},
   "outputs": [],
   "source": [
    "# Load pand data\n",
    "pandt = pd.read_csv(\"..\\Data\\pandtotal.csv\", delimiter=';')"
   ]
  },
  {
   "cell_type": "code",
   "execution_count": 3,
   "metadata": {},
   "outputs": [],
   "source": [
    "# Load VBO data\n",
    "VBOc = pd.read_csv(\"..\\Data\\VBOcompleet.csv\", delimiter=';')"
   ]
  },
  {
   "cell_type": "code",
   "execution_count": 4,
   "metadata": {},
   "outputs": [],
   "source": [
    "# Filter out historical data\n",
    "pand = pandt[(pandt[\"einddatumTijdvakGeldigheid\"]>\"2015-12-31\")|(pandt[\"einddatumTijdvakGeldigheid\"].isnull())]"
   ]
  },
  {
   "cell_type": "code",
   "execution_count": 5,
   "metadata": {},
   "outputs": [],
   "source": [
    "# Filter out historical data\n",
    "VBO = VBOc[(VBOc[\"einddatumTijdvakGeldigheid\"]>\"2015-12-31\")|(VBOc[\"einddatumTijdvakGeldigheid\"].isnull())]"
   ]
  },
  {
   "cell_type": "code",
   "execution_count": 6,
   "metadata": {},
   "outputs": [],
   "source": [
    "# Drop not useful columns\n",
    "pand = pand[[\"bouwjaar\", \"identificatie\", \"begindatumTijdvakGeldigheid\",\"einddatumTijdvakGeldigheid\" ]]\n",
    "pand.to_csv(\"..\\\\Data\\\\pand.csv\", index=False)"
   ]
  },
  {
   "cell_type": "code",
   "execution_count": 8,
   "metadata": {},
   "outputs": [],
   "source": [
    "# Drop not useful columns\n",
    "VBO = VBO[[\"gebruiksdoelVerblijfsobject\", \"pand_id\", \"begindatumTijdvakGeldigheid\",\"einddatumTijdvakGeldigheid\" ]]\n",
    "VBO.to_csv(\"..\\\\Data\\\\VBOcom.csv\", index=False)"
   ]
  },
  {
   "cell_type": "code",
   "execution_count": 9,
   "metadata": {},
   "outputs": [],
   "source": [
    "# Make datasets for all different years\n",
    "pand_17 = pand[((pand[\"begindatumTijdvakGeldigheid\"]<\"2017-01-01\") & ((pand[\"einddatumTijdvakGeldigheid\"]>\"2017-01-01\")|(pand[\"einddatumTijdvakGeldigheid\"].isnull())))]\n",
    "pand_18 = pand[((pand[\"begindatumTijdvakGeldigheid\"]<\"2018-01-01\") & ((pand[\"einddatumTijdvakGeldigheid\"]>\"2018-01-01\")|(pand[\"einddatumTijdvakGeldigheid\"].isnull())))]\n",
    "pand_19 = pand[((pand[\"begindatumTijdvakGeldigheid\"]<\"2019-01-01\") & ((pand[\"einddatumTijdvakGeldigheid\"]>\"2019-01-01\")|(pand[\"einddatumTijdvakGeldigheid\"].isnull())))]"
   ]
  },
  {
   "cell_type": "code",
   "execution_count": 10,
   "metadata": {},
   "outputs": [],
   "source": [
    "# Rename column for the merge\n",
    "pand_17 = pand_17.rename(columns={\"identificatie\": \"pand_id\"})\n",
    "pand_18 = pand_18.rename(columns={\"identificatie\": \"pand_id\"})\n",
    "pand_19 = pand_19.rename(columns={\"identificatie\": \"pand_id\"})"
   ]
  },
  {
   "cell_type": "code",
   "execution_count": 11,
   "metadata": {},
   "outputs": [],
   "source": [
    "# Drop more useless columns\n",
    "pand_17 = pand_17[[\"bouwjaar\", \"pand_id\"]]\n",
    "pand_19 = pand_19[[\"bouwjaar\", \"pand_id\"]]\n",
    "pand_18 = pand_18[[\"bouwjaar\", \"pand_id\"]]"
   ]
  },
  {
   "cell_type": "code",
   "execution_count": 12,
   "metadata": {},
   "outputs": [],
   "source": [
    "# Create csv's\n",
    "pand_17.to_csv(\"..\\\\Data\\\\pand17.csv\", index=False)\n",
    "pand_18.to_csv(\"..\\\\Data\\\\pand18.csv\", index=False)\n",
    "pand_19.to_csv(\"..\\\\Data\\\\pand19.csv\", index=False)"
   ]
  },
  {
   "cell_type": "code",
   "execution_count": 13,
   "metadata": {},
   "outputs": [],
   "source": [
    "# Make datasets for all different years\n",
    "VBO_17 = VBO[((VBO[\"begindatumTijdvakGeldigheid\"]<\"2017-01-01\") & ((VBO[\"einddatumTijdvakGeldigheid\"]>\"2017-01-01\")|(VBO[\"einddatumTijdvakGeldigheid\"].isnull())))]\n",
    "VBO_18 = VBO[((VBO[\"begindatumTijdvakGeldigheid\"]<\"2018-01-01\") & ((VBO[\"einddatumTijdvakGeldigheid\"]>\"2018-01-01\")|(VBO[\"einddatumTijdvakGeldigheid\"].isnull())))]\n",
    "VBO_19 = VBO[((VBO[\"begindatumTijdvakGeldigheid\"]<\"2019-01-01\") & ((VBO[\"einddatumTijdvakGeldigheid\"]>\"2019-01-01\")|(VBO[\"einddatumTijdvakGeldigheid\"].isnull())))]"
   ]
  },
  {
   "cell_type": "code",
   "execution_count": 14,
   "metadata": {},
   "outputs": [],
   "source": [
    "# Drop useless columns\n",
    "VBO_17 = VBO_17[[\"gebruiksdoelVerblijfsobject\", \"pand_id\"]]\n",
    "VBO_19 = VBO_19[[\"gebruiksdoelVerblijfsobject\", \"pand_id\"]]\n",
    "VBO_18 = VBO_18[[\"gebruiksdoelVerblijfsobject\", \"pand_id\"]]"
   ]
  },
  {
   "cell_type": "code",
   "execution_count": 15,
   "metadata": {},
   "outputs": [],
   "source": [
    "# Create csv's\n",
    "VBO_17.to_csv(\"..\\\\Data\\\\VBO17.csv\", index=False)\n",
    "VBO_18.to_csv(\"..\\\\Data\\\\VBO18.csv\", index=False)\n",
    "VBO_19.to_csv(\"..\\\\Data\\\\VBO19.csv\", index=False)"
   ]
  },
  {
   "cell_type": "code",
   "execution_count": 2,
   "metadata": {},
   "outputs": [],
   "source": [
    "# Reload csv's\n",
    "VBO_17 = pd.read_csv(\"..\\\\Data\\\\VBO17.csv\", delimiter=',')\n",
    "pand_17 = pd.read_csv(\"..\\\\Data\\\\pand17.csv\", delimiter=',')\n",
    "VBO_18 = pd.read_csv(\"..\\\\Data\\\\VBO18.csv\", delimiter=',')\n",
    "pand_18 = pd.read_csv(\"..\\\\Data\\\\pand18.csv\", delimiter=',')\n",
    "VBO_19 = pd.read_csv(\"..\\\\Data\\\\VBO19.csv\", delimiter=',')\n",
    "pand_19 = pd.read_csv(\"..\\\\Data\\\\pand19.csv\", delimiter=',')"
   ]
  },
  {
   "cell_type": "code",
   "execution_count": 3,
   "metadata": {},
   "outputs": [],
   "source": [
    "# Get unique values\n",
    "koppel_CBS_BAG = pd.read_csv(\"..\\\\Data\\\\cbs_grid_bag_pand_koppelunique.csv\", delimiter=',')"
   ]
  },
  {
   "cell_type": "code",
   "execution_count": 4,
   "metadata": {},
   "outputs": [],
   "source": [
    "# Merge unique values with the year specific files\n",
    "pand_17_koppel = pd.merge(pand_17, koppel_CBS_BAG, on=\"pand_id\", how=\"left\")\n",
    "pand_18_koppel = pd.merge(pand_18, koppel_CBS_BAG, on=\"pand_id\", how=\"left\")\n",
    "pand_19_koppel = pd.merge(pand_19, koppel_CBS_BAG, on=\"pand_id\", how=\"left\")"
   ]
  },
  {
   "cell_type": "code",
   "execution_count": 5,
   "metadata": {},
   "outputs": [],
   "source": [
    "VBO_17_koppel = pd.merge(VBO_17, koppel_CBS_BAG, on=\"pand_id\", how=\"left\")\n",
    "VBO_18_koppel = pd.merge(VBO_18, koppel_CBS_BAG, on=\"pand_id\", how=\"left\")\n",
    "VBO_19_koppel = pd.merge(VBO_19, koppel_CBS_BAG, on=\"pand_id\", how=\"left\")"
   ]
  },
  {
   "cell_type": "code",
   "execution_count": 6,
   "metadata": {},
   "outputs": [],
   "source": [
    "# Write to csv's\n",
    "VBO_17_koppel.to_csv(\"..\\\\Data\\\\VBO17koppel.csv\", index=False)\n",
    "VBO_18_koppel.to_csv(\"..\\\\Data\\\\VBO18koppel.csv\", index=False)\n",
    "VBO_19_koppel.to_csv(\"..\\\\Data\\\\VBO19koppel.csv\", index=False)"
   ]
  },
  {
   "cell_type": "code",
   "execution_count": 7,
   "metadata": {},
   "outputs": [],
   "source": [
    "pand_17_koppel.to_csv(\"..\\\\Data\\\\pand17koppel.csv\", index=False)\n",
    "pand_18_koppel.to_csv(\"..\\\\Data\\\\pand18koppel.csv\", index=False)\n",
    "pand_19_koppel.to_csv(\"..\\\\Data\\\\pand19koppel.csv\", index=False)"
   ]
  },
  {
   "cell_type": "code",
   "execution_count": null,
   "metadata": {},
   "outputs": [],
   "source": []
  }
 ],
 "metadata": {
  "kernelspec": {
   "display_name": "Python 3",
   "language": "python",
   "name": "python3"
  },
  "language_info": {
   "codemirror_mode": {
    "name": "ipython",
    "version": 3
   },
   "file_extension": ".py",
   "mimetype": "text/x-python",
   "name": "python",
   "nbconvert_exporter": "python",
   "pygments_lexer": "ipython3",
   "version": "3.8.3"
  }
 },
 "nbformat": 4,
 "nbformat_minor": 4
}
