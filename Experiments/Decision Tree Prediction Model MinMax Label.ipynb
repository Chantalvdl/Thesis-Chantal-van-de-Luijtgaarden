{
 "cells": [
  {
   "cell_type": "code",
   "execution_count": 1,
   "metadata": {},
   "outputs": [],
   "source": [
    "# Import packages\n",
    "import pandas as pd\n",
    "import numpy as np\n",
    "import math\n",
    "import time\n",
    "\n",
    "from sklearn.tree import DecisionTreeClassifier\n",
    "from sklearn.metrics import f1_score, roc_auc_score, accuracy_score, recall_score, confusion_matrix, ConfusionMatrixDisplay\n",
    "from sklearn.model_selection import cross_val_score\n",
    "import matplotlib.pyplot as plt\n",
    "from IPython import display\n",
    "%matplotlib inline\n",
    "\n",
    "from hyperopt import *\n",
    "import pyspark \n",
    "import mlflow\n",
    "\n",
    "import seaborn as sns\n",
    "\n",
    "import warnings"
   ]
  },
  {
   "cell_type": "code",
   "execution_count": 2,
   "metadata": {},
   "outputs": [],
   "source": [
    "# Import Data\n",
    "train = pd.read_csv(\"..\\\\Predictive Models\\\\Datasets\\\\17MinMax_newlabel.csv\", delimiter=',')\n",
    "test = pd.read_csv(\"..\\\\Predictive Models\\\\Datasets\\\\172MinMax_newlabel.csv\", delimiter=',')\n",
    "validation = pd.read_csv(\"..\\\\Predictive Models\\\\Datasets\\\\18MinMax_newlabel.csv\", delimiter=',')\n",
    "validation2 = pd.read_csv(\"..\\\\Predictive Models\\\\Datasets\\\\19MinMax_newlabel.csv\", delimiter=',')\n",
    "\n",
    "# Define X and y\n",
    "X_train = (train.drop(labels=[\"label\",\"c28992r100\"], axis=1))\n",
    "y_train = train[[\"label\"]]\n",
    "X_test = test.drop(labels=[\"label\",\"c28992r100\"], axis=1)\n",
    "y_test =test[[\"label\"]]\n",
    "\n",
    "X_val1 = validation.drop(labels=[\"label\",\"c28992r100\"], axis=1)\n",
    "y_val1 = validation[[\"label\"]]\n",
    "X_val2 = validation2.drop(labels=[\"label\",\"c28992r100\"], axis=1)\n",
    "y_val2 = validation2[[\"label\"]]\n",
    "\n",
    "# Make column list\n",
    "columns = X_train.columns\n",
    "\n",
    "X_train = X_train.to_numpy()\n",
    "y_train = y_train.to_numpy()"
   ]
  },
  {
   "cell_type": "markdown",
   "metadata": {},
   "source": [
    "# Define hyperopt settings"
   ]
  },
  {
   "cell_type": "code",
   "execution_count": 3,
   "metadata": {},
   "outputs": [
    {
     "name": "stdout",
     "output_type": "stream",
     "text": [
      "DecisionTreeClassifier(max_depth=3, min_samples_leaf=5, min_samples_split=8)                                           \n",
      "0.9641583177732715                                                                                                     \n",
      "0.0                                                                                                                    \n",
      "0.0                                                                                                                    \n",
      "DecisionTreeClassifier(criterion='entropy', max_depth=8, min_samples_leaf=5,                                           \n",
      "                       min_samples_split=10)\n",
      "0.9641783952724182                                                                                                     \n",
      "0.0026087766700829216                                                                                                  \n",
      "0.0013070675007002147                                                                                                  \n",
      "DecisionTreeClassifier(max_depth=9, min_samples_leaf=10, min_samples_split=8)                                          \n",
      "0.9641650102729871                                                                                                     \n",
      "0.0011192985728943196                                                                                                  \n",
      "0.0005601717860143778                                                                                                  \n",
      "DecisionTreeClassifier(max_depth=5, min_samples_leaf=11, min_samples_split=7)                                          \n",
      "0.9641583177732715                                                                                                     \n",
      "0.0                                                                                                                    \n",
      "0.0                                                                                                                    \n",
      "DecisionTreeClassifier(criterion='entropy', max_depth=4, min_samples_leaf=11,                                          \n",
      "                       min_samples_split=8)\n",
      "0.9641583177732715                                                                                                     \n",
      "0.0                                                                                                                    \n",
      "0.0                                                                                                                    \n",
      "DecisionTreeClassifier(max_depth=6, min_samples_leaf=5, min_samples_split=7)                                           \n",
      "0.9641683565228448                                                                                                     \n",
      "0.0014919806042521446                                                                                                  \n",
      "0.000746895714685837                                                                                                   \n",
      "DecisionTreeClassifier(criterion='entropy', max_depth=2, min_samples_leaf=6)                                           \n",
      "0.9641583177732715                                                                                                     \n",
      "0.0                                                                                                                    \n",
      "0.0                                                                                                                    \n",
      "DecisionTreeClassifier(max_depth=9, min_samples_leaf=4, min_samples_split=8)                                           \n",
      "0.9642051652712805                                                                                                     \n",
      "0.004281857954016568                                                                                                   \n",
      "0.002147325179721781                                                                                                   \n",
      "DecisionTreeClassifier(criterion='entropy', max_depth=7, min_samples_split=6)                                          \n",
      "0.9641850877721337                                                                                                     \n",
      "0.0016789478593414793                                                                                                  \n",
      "0.0008402576790215666                                                                                                  \n",
      "DecisionTreeClassifier(criterion='entropy', max_depth=7, min_samples_leaf=5)                                           \n",
      "0.9641717027727026                                                                                                     \n",
      "0.0013058483350433727                                                                                                  \n",
      "0.0006535337503501073                                                                                                  \n",
      "DecisionTreeClassifier(criterion='entropy', max_depth=8, min_samples_leaf=3,                                           \n",
      "                       min_samples_split=7)\n",
      "0.9641884340219915                                                                                                     \n",
      "0.003538175046554935                                                                                                   \n",
      "0.0017738773223788628                                                                                                  \n",
      "DecisionTreeClassifier(max_depth=5, min_samples_leaf=11, min_samples_split=3)                                          \n",
      "0.9641583177732715                                                                                                     \n",
      "0.0                                                                                                                    \n",
      "0.0                                                                                                                    \n",
      "DecisionTreeClassifier(criterion='entropy', max_depth=5, min_samples_leaf=5,                                           \n",
      "                       min_samples_split=5)\n",
      "0.9641583177732715                                                                                                     \n",
      "0.0                                                                                                                    \n",
      "0.0                                                                                                                    \n",
      "DecisionTreeClassifier(max_depth=5, min_samples_leaf=2, min_samples_split=7)                                           \n",
      "0.9641616640231293                                                                                                     \n",
      "0.00037334328915437746                                                                                                 \n",
      "0.00018672392867145925                                                                                                 \n",
      "DecisionTreeClassifier(criterion='entropy', max_depth=5, min_samples_leaf=10,                                          \n",
      "                       min_samples_split=6)\n",
      "0.9641583177732715                                                                                                     \n",
      "0.0                                                                                                                    \n",
      "0.0                                                                                                                    \n",
      "DecisionTreeClassifier(criterion='entropy', max_depth=8, min_samples_leaf=3,                                           \n",
      "                       min_samples_split=9)\n",
      "0.9641884340219915                                                                                                     \n",
      "0.003538175046554935                                                                                                   \n",
      "0.0017738773223788628                                                                                                  \n",
      "DecisionTreeClassifier(criterion='entropy', max_depth=8, min_samples_leaf=3,                                           \n",
      "                       min_samples_split=8)\n"
     ]
    },
    {
     "name": "stdout",
     "output_type": "stream",
     "text": [
      "0.9641884340219915                                                                                                     \n",
      "0.003538175046554935                                                                                                   \n",
      "0.0017738773223788628                                                                                                  \n",
      "DecisionTreeClassifier(criterion='entropy', max_depth=5, min_samples_leaf=4,                                           \n",
      "                       min_samples_split=10)\n",
      "0.9641583177732715                                                                                                     \n",
      "0.0                                                                                                                    \n",
      "0.0                                                                                                                    \n",
      "DecisionTreeClassifier(max_depth=7, min_samples_leaf=6)                                                                \n",
      "0.9641650102729871                                                                                                     \n",
      "0.0009329228472805298                                                                                                  \n",
      "0.00046680982167864813                                                                                                 \n",
      "DecisionTreeClassifier(max_depth=9, min_samples_leaf=9, min_samples_split=11)                                          \n",
      "0.9641616640231293                                                                                                     \n",
      "0.0009328358208955224                                                                                                  \n",
      "0.00046680982167864813                                                                                                 \n",
      "DecisionTreeClassifier(max_depth=9, min_samples_leaf=7, min_samples_split=4)                                           \n",
      "0.9641683565228448                                                                                                     \n",
      "0.001678165206041395                                                                                                   \n",
      "0.0008402576790215666                                                                                                  \n",
      "DecisionTreeClassifier(max_depth=4, min_samples_leaf=4, min_samples_split=11)                                          \n",
      "0.9641583177732715                                                                                                     \n",
      "0.0                                                                                                                    \n",
      "0.0                                                                                                                    \n",
      "DecisionTreeClassifier(max_depth=3, min_samples_leaf=8, min_samples_split=5)                                           \n",
      "0.9641583177732715                                                                                                     \n",
      "0.0                                                                                                                    \n",
      "0.0                                                                                                                    \n",
      "DecisionTreeClassifier(criterion='entropy', max_depth=6, min_samples_leaf=3,                                           \n",
      "                       min_samples_split=9)\n",
      "0.9641683565228448                                                                                                     \n",
      "0.0007465472191116088                                                                                                  \n",
      "0.0003734478573429185                                                                                                  \n",
      "DecisionTreeClassifier(max_depth=2, min_samples_leaf=4, min_samples_split=7)                                           \n",
      "0.9641583177732715                                                                                                     \n",
      "0.0                                                                                                                    \n",
      "0.0                                                                                                                    \n",
      "DecisionTreeClassifier(criterion='entropy', max_depth=9, min_samples_leaf=7,                                           \n",
      "                       min_samples_split=8)\n",
      "0.9641717027727026                                                                                                     \n",
      "0.0013058483350433727                                                                                                  \n",
      "0.0006535337503501073                                                                                                  \n",
      "DecisionTreeClassifier(criterion='entropy', max_depth=8, min_samples_leaf=9,                                           \n",
      "                       min_samples_split=8)\n",
      "0.9641583177732715                                                                                                     \n",
      "0.0                                                                                                                    \n",
      "0.0                                                                                                                    \n",
      "DecisionTreeClassifier(max_depth=8, min_samples_leaf=2, min_samples_split=9)                                           \n",
      "0.9641750490225605                                                                                                     \n",
      "0.001678478179783663                                                                                                   \n",
      "0.0008402576790215666                                                                                                  \n",
      "DecisionTreeClassifier(max_depth=3, min_samples_leaf=3, min_samples_split=3)                                           \n",
      "0.9641616640231293                                                                                                     \n",
      "0.00037334328915437746                                                                                                 \n",
      "0.00018672392867145925                                                                                                 \n",
      "DecisionTreeClassifier(criterion='entropy', max_depth=9, min_samples_leaf=8,                                           \n",
      "                       min_samples_split=4)\n",
      "0.9641717027727026                                                                                                     \n",
      "0.001119507416736636                                                                                                   \n",
      "0.0005601717860143778                                                                                                  \n",
      "100%|█████████████████████████████████████████████| 30/30 [03:01<00:00,  6.06s/trial, best loss: -0.002147325179721781]\n",
      "--- 182.8488278388977 seconds ---\n"
     ]
    }
   ],
   "source": [
    "import warnings\n",
    "warnings.filterwarnings(\"ignore\")\n",
    "\n",
    "start_time = time.time()\n",
    "# Define objectives\n",
    "def objective(params):\n",
    "    classifier_type = params['type']\n",
    "    del params['type']\n",
    "    if classifier_type == 'dt':\n",
    "        clf = DecisionTreeClassifier(**params)\n",
    "    else:\n",
    "        return 0\n",
    "    classifier = clf\n",
    "    print(classifier)\n",
    "    classifier.fit(X_train, y_train)\n",
    "    pr_dt = classifier.predict(X_train)\n",
    "    accuracy = accuracy_score(y_train,pr_dt)\n",
    "    f1 = f1_score(y_train,pr_dt)\n",
    "    recall = recall_score(y_train,pr_dt)\n",
    "    print(accuracy, f1, recall)\n",
    "\n",
    "    # Because fmin() tries to minimize the objective, this function must return the negative accuracy. \n",
    "    return {'loss': -recall, 'status': STATUS_OK}\n",
    "\n",
    "# Define search space\n",
    "space = hp.choice('classifier_type', [\n",
    "        {\n",
    "            \"type\": 'dt',\n",
    "            'criterion':hp.choice('criterion',[\"gini\",\"entropy\"]),\n",
    "           'max_depth':hp.choice('max_depth',range(2,10)),\n",
    "           'min_samples_leaf':hp.choice('min_samples_leaf',range(1,12)),\n",
    "           'min_samples_split':hp.choice('min_samples_split',range(2,12))}\n",
    "])\n",
    "    \n",
    "with mlflow.start_run():\n",
    "    best = fmin(\n",
    "    fn=objective, \n",
    "    space=space,\n",
    "    algo=tpe.suggest,\n",
    "    max_evals=30, \n",
    "    verbose = 1,\n",
    "    return_argmin=False)\n",
    "    \n",
    "print(\"--- %s seconds ---\" % (time.time() - start_time))"
   ]
  },
  {
   "cell_type": "code",
   "execution_count": 4,
   "metadata": {},
   "outputs": [
    {
     "name": "stdout",
     "output_type": "stream",
     "text": [
      "{'criterion': 'gini', 'max_depth': 9, 'min_samples_leaf': 4, 'min_samples_split': 8, 'type': 'dt'}\n"
     ]
    }
   ],
   "source": [
    "# Results\n",
    "print(best)"
   ]
  },
  {
   "cell_type": "code",
   "execution_count": 5,
   "metadata": {},
   "outputs": [
    {
     "name": "stdout",
     "output_type": "stream",
     "text": [
      "0.9641984727715649 0.003724741596051774 0.0018672392867145925\n",
      "0.5159476079748618\n"
     ]
    }
   ],
   "source": [
    "# Fitting Randomforest to the Training set\n",
    "classifier = DecisionTreeClassifier(criterion = best['criterion'],\n",
    "                            max_depth = best['max_depth'],\n",
    "                            min_samples_leaf = int(best['min_samples_leaf']),\n",
    "                            min_samples_split= int(best['min_samples_split']))\n",
    "classifier.fit(X_train, y_train)\n",
    "pr_dt = classifier.predict(X_train)\n",
    "accuracy = accuracy_score(y_train,pr_dt)\n",
    "f1 = f1_score(y_train,pr_dt)\n",
    "recall = recall_score(y_train,pr_dt)\n",
    "print(accuracy, f1, recall)\n",
    "print(roc_auc_score(y_train, classifier.predict_proba(X_train)[:, 1]))"
   ]
  },
  {
   "cell_type": "markdown",
   "metadata": {},
   "source": [
    "# Results"
   ]
  },
  {
   "cell_type": "code",
   "execution_count": 6,
   "metadata": {},
   "outputs": [
    {
     "name": "stdout",
     "output_type": "stream",
     "text": [
      "Accuracy:0.9709443099273608\n",
      "F1:0.0\n",
      "Recall:0.0\n"
     ]
    },
    {
     "data": {
      "image/png": "[encoded data removed]",
      "text/plain": [
       "<Figure size 432x288 with 2 Axes>"
      ]
     },
     "metadata": {
      "needs_background": "light"
     },
     "output_type": "display_data"
    },
    {
     "name": "stdout",
     "output_type": "stream",
     "text": [
      "Accuracy:0.9660809308450354\n",
      "F1:0.00047709923664122136\n",
      "Recall:0.00023908192540643926\n"
     ]
    },
    {
     "data": {
      "image/png": "[encoded data removed]",
      "text/plain": [
       "<Figure size 432x288 with 2 Axes>"
      ]
     },
     "metadata": {
      "needs_background": "light"
     },
     "output_type": "display_data"
    },
    {
     "name": "stdout",
     "output_type": "stream",
     "text": [
      "Accuracy:0.9790555794452805\n",
      "F1:0.0005130178273695011\n",
      "Recall:0.0002577984016499098\n"
     ]
    },
    {
     "data": {
      "image/png": "[encoded data removed]",
      "text/plain": [
       "<Figure size 432x288 with 2 Axes>"
      ]
     },
     "metadata": {
      "needs_background": "light"
     },
     "output_type": "display_data"
    }
   ],
   "source": [
    "# Make confusion matrixes, accuracy, recall and f1 score for testset\n",
    "p_dt = classifier.predict(X_test)\n",
    "print(\"Accuracy:\" + str(classifier.score(X_test, y_test)))\n",
    "print(\"F1:\" + str(f1_score(y_test,p_dt)))\n",
    "print(\"Recall:\" + str(recall_score(y_test,p_dt)))\n",
    "ConfusionMatrixDisplay(confusion_matrix=confusion_matrix(y_test,p_dt),display_labels=classifier.classes_).plot()\n",
    "plt.savefig('New Figures\\con_test_dt_MM.png', dpi=300)\n",
    "plt.show()\n",
    "\n",
    "# Make confusion matrixes, accuracy, recall and f1 score for validationset 1\n",
    "pre_dt = classifier.predict(X_val1)\n",
    "print(\"Accuracy:\" + str(classifier.score(X_val1, y_val1)))\n",
    "print(\"F1:\" + str(f1_score(y_val1,pre_dt)))\n",
    "print(\"Recall:\" + str(recall_score(y_val1,pre_dt)))\n",
    "ConfusionMatrixDisplay(confusion_matrix=confusion_matrix(y_val1,pre_dt),display_labels=classifier.classes_).plot()\n",
    "plt.savefig('New Figures\\con_val_dt_MM.png', dpi=300)\n",
    "plt.show()\n",
    "\n",
    "\n",
    "# Make confusion matrixes, accuracy, recall and f1 score for validationset 2\n",
    "pred_dt = classifier.predict(X_val2)\n",
    "print(\"Accuracy:\" + str(classifier.score(X_val2, y_val2)))\n",
    "print(\"F1:\" + str(f1_score(y_val2, pred_dt)))\n",
    "print(\"Recall:\" + str(recall_score(y_val2, pred_dt)))\n",
    "ConfusionMatrixDisplay(confusion_matrix=confusion_matrix(y_val2, pred_dt),display_labels=classifier.classes_).plot()\n",
    "plt.savefig('New Figures\\con_val2_dt_MM.png', dpi=300)\n",
    "plt.show()"
   ]
  },
  {
   "cell_type": "code",
   "execution_count": 7,
   "metadata": {},
   "outputs": [
    {
     "name": "stdout",
     "output_type": "stream",
     "text": [
      "0.5158283066248996\n",
      "0.49506848466718556\n",
      "0.4808645472363508\n"
     ]
    }
   ],
   "source": [
    "print(roc_auc_score(y_test, classifier.predict_proba(X_test)[:, 1]))\n",
    "print(roc_auc_score(y_val1, classifier.predict_proba(X_val1)[:, 1]))\n",
    "print(roc_auc_score(y_val2, classifier.predict_proba(X_val2)[:, 1]))"
   ]
  },
  {
   "cell_type": "code",
   "execution_count": 8,
   "metadata": {},
   "outputs": [
    {
     "data": {
      "image/png": "[encoded data removed]",
      "text/plain": [
       "<Figure size 432x288 with 1 Axes>"
      ]
     },
     "metadata": {
      "needs_background": "light"
     },
     "output_type": "display_data"
    }
   ],
   "source": [
    "# Create feature importance plot\n",
    "feat_importances = pd.Series(classifier.feature_importances_, index=columns)\n",
    "feat_importances.nlargest(20).plot(kind='barh')\n",
    "plt.savefig('New Figures\\import_dt_MM.png', dpi=300, bbox_inches = \"tight\")"
   ]
  },
  {
   "cell_type": "markdown",
   "metadata": {},
   "source": [
    "# Make QGIS File"
   ]
  },
  {
   "cell_type": "code",
   "execution_count": 9,
   "metadata": {},
   "outputs": [],
   "source": [
    "# Create Dataframe with TP, TN, FP, FN and gridnumber\n",
    "qgis_koppel_train = []\n",
    "qgis_koppel_test = []\n",
    "qgis_koppel_val1 = []\n",
    "qgis_koppel_val2 = []\n",
    "qgis_train = pd.DataFrame(train[\"c28992r100\"],columns=[\"c28992r100\"])\n",
    "qgis_test = pd.DataFrame(test[\"c28992r100\"],columns=[\"c28992r100\"])\n",
    "qgis_val1 = pd.DataFrame(validation[\"c28992r100\"],columns=[\"c28992r100\"])\n",
    "qgis_val2 = pd.DataFrame(validation2[\"c28992r100\"],columns=[\"c28992r100\"])\n",
    "\n",
    "for y, yt in zip(y_train, pr_dt):\n",
    "    if y == 0 and yt == 0:\n",
    "        qgis_koppel_train.append(\"TN\")\n",
    "    if y == 0 and yt == 1:\n",
    "        qgis_koppel_train.append(\"FN\")\n",
    "    if y == 1 and yt == 0:\n",
    "        qgis_koppel_train.append(\"FP\")\n",
    "    if y == 1 and yt == 1:\n",
    "        qgis_koppel_train.append(\"TP\")\n",
    "\n",
    "for y, yt in zip(y_test.to_numpy(), p_dt):\n",
    "    if y == 0 and yt == 0:\n",
    "        qgis_koppel_test.append(\"TN\")\n",
    "    if y == 0 and yt == 1:\n",
    "        qgis_koppel_test.append(\"FN\")\n",
    "    if y == 1 and yt == 0:\n",
    "        qgis_koppel_test.append(\"FP\")\n",
    "    if y == 1 and yt == 1:\n",
    "        qgis_koppel_test.append(\"TP\")\n",
    "        \n",
    "for y, yt in zip(y_val1.to_numpy(), pre_dt):\n",
    "    if y == 0 and yt == 0:\n",
    "        qgis_koppel_val1.append(\"TN\")\n",
    "    if y == 0 and yt == 1:\n",
    "        qgis_koppel_val1.append(\"FN\")\n",
    "    if y == 1 and yt == 0:\n",
    "        qgis_koppel_val1.append(\"FP\")\n",
    "    if y == 1 and yt == 1:\n",
    "        qgis_koppel_val1.append(\"TP\")\n",
    "\n",
    "for y, yt in zip(y_val2.to_numpy(), pred_dt):\n",
    "    if y == 0 and yt == 0:\n",
    "        qgis_koppel_val2.append(\"TN\")\n",
    "    if y == 0 and yt == 1:\n",
    "        qgis_koppel_val2.append(\"FN\")\n",
    "    if y == 1 and yt == 0:\n",
    "        qgis_koppel_val2.append(\"FP\")\n",
    "    if y == 1 and yt == 1:\n",
    "        qgis_koppel_val2.append(\"TP\")\n",
    "\n",
    "qgis_train[\"label\"] = pd.Series(qgis_koppel_train)\n",
    "qgis_test[\"label\"] = pd.Series(qgis_koppel_test)\n",
    "qgis_val1[\"label\"] = pd.Series(qgis_koppel_val1)\n",
    "qgis_val2[\"label\"] = pd.Series(qgis_koppel_val2)\n",
    "\n",
    "qgis_train.to_csv(\"New Figures\\qgistraindtMM.csv\", index=False)\n",
    "qgis_test.to_csv(\"New Figures\\qgistestdtMM.csv\", index=False)\n",
    "qgis_val1.to_csv(\"New Figures\\qgisval1dtMM.csv\", index=False)\n",
    "qgis_val2.to_csv(\"New Figures\\qgisval2dtMM.csv\", index=False)"
   ]
  },
  {
   "cell_type": "code",
   "execution_count": null,
   "metadata": {},
   "outputs": [],
   "source": []
  }
 ],
 "metadata": {
  "kernelspec": {
   "display_name": "Python 3",
   "language": "python",
   "name": "python3"
  },
  "language_info": {
   "codemirror_mode": {
    "name": "ipython",
    "version": 3
   },
   "file_extension": ".py",
   "mimetype": "text/x-python",
   "name": "python",
   "nbconvert_exporter": "python",
   "pygments_lexer": "ipython3",
   "version": "3.8.3"
  }
 },
 "nbformat": 4,
 "nbformat_minor": 4
}
