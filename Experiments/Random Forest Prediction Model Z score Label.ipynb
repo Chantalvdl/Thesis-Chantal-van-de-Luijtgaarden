{
 "cells": [
  {
   "cell_type": "code",
   "execution_count": 1,
   "metadata": {},
   "outputs": [],
   "source": [
    "# Import packages\n",
    "import pandas as pd\n",
    "import numpy as np\n",
    "import math\n",
    "import time\n",
    "\n",
    "from sklearn.ensemble import RandomForestClassifier\n",
    "from sklearn.metrics import f1_score, accuracy_score, roc_auc_score, recall_score, confusion_matrix, ConfusionMatrixDisplay\n",
    "from sklearn.model_selection import cross_val_score\n",
    "import matplotlib.pyplot as plt\n",
    "from IPython import display\n",
    "%matplotlib inline\n",
    "\n",
    "from hyperopt import *\n",
    "import pyspark \n",
    "import mlflow\n",
    "\n",
    "import seaborn as sns\n",
    "\n",
    "import warnings"
   ]
  },
  {
   "cell_type": "code",
   "execution_count": 2,
   "metadata": {},
   "outputs": [],
   "source": [
    "# Import Data\n",
    "train = pd.read_csv(\"..\\\\Predictive Models\\\\Datasets\\\\17zScore_newlabel.csv\", delimiter=',')\n",
    "test = pd.read_csv(\"..\\\\Predictive Models\\\\Datasets\\\\172zScore_newlabel.csv\", delimiter=',')\n",
    "validation = pd.read_csv(\"..\\\\Predictive Models\\\\Datasets\\\\18zScore_newlabel.csv\", delimiter=',')\n",
    "validation2 = pd.read_csv(\"..\\\\Predictive Models\\\\Datasets\\\\19zScore_newlabel.csv\", delimiter=',')\n",
    "\n",
    "# Define X and y\n",
    "X_train = (train.drop(labels=[\"label\",\"c28992r100\"], axis=1))\n",
    "y_train = train[[\"label\"]]\n",
    "X_test = test.drop(labels=[\"label\",\"c28992r100\"], axis=1)\n",
    "y_test =test[[\"label\"]]\n",
    "\n",
    "X_val1 = validation.drop(labels=[\"label\",\"c28992r100\"], axis=1)\n",
    "y_val1 = validation[[\"label\"]]\n",
    "X_val2 = validation2.drop(labels=[\"label\",\"c28992r100\"], axis=1)\n",
    "y_val2 = validation2[[\"label\"]]\n",
    "\n",
    "# Make column list\n",
    "columns = X_train.columns\n",
    "\n",
    "X_train = X_train.to_numpy()\n",
    "y_train = y_train.to_numpy()"
   ]
  },
  {
   "cell_type": "markdown",
   "metadata": {},
   "source": [
    "# Define hyperopt settings"
   ]
  },
  {
   "cell_type": "code",
   "execution_count": 3,
   "metadata": {},
   "outputs": [
    {
     "name": "stdout",
     "output_type": "stream",
     "text": [
      "RandomForestClassifier(max_depth=3, max_features=1.0, min_samples_leaf=5,                                              \n",
      "                       min_samples_split=4, n_estimators=50, n_jobs=-1)\n",
      "0.9641583177732715                                                                                                     \n",
      "0.0                                                                                                                    \n",
      "0.0                                                                                                                    \n",
      "RandomForestClassifier(max_depth=5, max_features=1.0, min_samples_leaf=7,                                              \n",
      "                       min_samples_split=9, n_jobs=-1)\n",
      "0.9641583177732715                                                                                                     \n",
      "0.0                                                                                                                    \n",
      "0.0                                                                                                                    \n",
      "RandomForestClassifier(max_depth=6, max_features=1.0, min_samples_leaf=7,                                              \n",
      "                       min_samples_split=7, n_estimators=200, n_jobs=-1)\n",
      "0.9641583177732715                                                                                                     \n",
      "0.0                                                                                                                    \n",
      "0.0                                                                                                                    \n",
      "RandomForestClassifier(max_depth=7, max_features=1.0, min_samples_leaf=9,                                              \n",
      "                       min_samples_split=6, n_jobs=-1)\n",
      "0.9641583177732715                                                                                                     \n",
      "0.0                                                                                                                    \n",
      "0.0                                                                                                                    \n",
      "RandomForestClassifier(max_depth=5, max_features=1.0, min_samples_split=7,                                             \n",
      "                       n_estimators=150, n_jobs=-1)\n",
      "0.9641616640231293                                                                                                     \n",
      "0.00018670649738610905                                                                                                 \n",
      "9.336196433572963e-05                                                                                                  \n",
      "RandomForestClassifier(max_depth=9, max_features=1.0, min_samples_leaf=9,                                              \n",
      "                       min_samples_split=4, n_estimators=250, n_jobs=-1)\n",
      "0.9641583177732715                                                                                                     \n",
      "0.0                                                                                                                    \n",
      "0.0                                                                                                                    \n",
      "RandomForestClassifier(max_depth=5, max_features=1.0, min_samples_split=5,                                             \n",
      "                       n_estimators=250, n_jobs=-1)\n",
      "0.9641616640231293                                                                                                     \n",
      "0.00018670649738610905                                                                                                 \n",
      "9.336196433572963e-05                                                                                                  \n",
      "RandomForestClassifier(max_depth=9, max_features=1.0, min_samples_split=9,                                             \n",
      "                       n_estimators=50, n_jobs=-1)\n",
      "0.9641616640231293                                                                                                     \n",
      "0.00018670649738610905                                                                                                 \n",
      "9.336196433572963e-05                                                                                                  \n",
      "RandomForestClassifier(max_depth=4, max_features=1.0, min_samples_leaf=6,                                              \n",
      "                       min_samples_split=7, n_estimators=300, n_jobs=-1)\n",
      "0.9641583177732715                                                                                                     \n",
      "0.0                                                                                                                    \n",
      "0.0                                                                                                                    \n",
      "RandomForestClassifier(max_depth=5, max_features=1.0, min_samples_leaf=6,                                              \n",
      "                       min_samples_split=4, n_estimators=300, n_jobs=-1)\n",
      "0.9641583177732715                                                                                                     \n",
      "0.0                                                                                                                    \n",
      "0.0                                                                                                                    \n",
      "RandomForestClassifier(max_depth=2, max_features=1.0, min_samples_leaf=9,                                              \n",
      "                       min_samples_split=4, n_jobs=-1)\n",
      "0.9641583177732715                                                                                                     \n",
      "0.0                                                                                                                    \n",
      "0.0                                                                                                                    \n",
      "RandomForestClassifier(max_depth=9, max_features=1.0, min_samples_leaf=8,                                              \n",
      "                       n_estimators=250, n_jobs=-1)\n",
      "0.9641583177732715                                                                                                     \n",
      "0.0                                                                                                                    \n",
      "0.0                                                                                                                    \n",
      "RandomForestClassifier(max_depth=8, max_features=1.0, min_samples_leaf=7,                                              \n",
      "                       min_samples_split=4, n_estimators=200, n_jobs=-1)\n",
      "0.9641583177732715                                                                                                     \n",
      "0.0                                                                                                                    \n",
      "0.0                                                                                                                    \n",
      "RandomForestClassifier(max_depth=7, max_features=1.0, min_samples_leaf=4,                                              \n",
      "                       min_samples_split=3, n_estimators=250, n_jobs=-1)\n",
      "0.9641583177732715                                                                                                     \n",
      "0.0                                                                                                                    \n",
      "0.0                                                                                                                    \n",
      "RandomForestClassifier(max_depth=6, max_features=1.0, min_samples_leaf=3,                                              \n",
      "                       min_samples_split=6, n_estimators=350, n_jobs=-1)\n",
      "0.9641583177732715                                                                                                     \n",
      "0.0                                                                                                                    \n",
      "0.0                                                                                                                    \n"
     ]
    },
    {
     "name": "stdout",
     "output_type": "stream",
     "text": [
      "RandomForestClassifier(max_depth=2, max_features=1.0, min_samples_leaf=7,                                              \n",
      "                       min_samples_split=7, n_estimators=200, n_jobs=-1)\n",
      "0.9641583177732715                                                                                                     \n",
      "0.0                                                                                                                    \n",
      "0.0                                                                                                                    \n",
      "RandomForestClassifier(max_depth=3, max_features=1.0, min_samples_leaf=2,                                              \n",
      "                       min_samples_split=6, n_estimators=50, n_jobs=-1)\n",
      "0.9641583177732715                                                                                                     \n",
      "0.0                                                                                                                    \n",
      "0.0                                                                                                                    \n",
      "RandomForestClassifier(max_depth=2, max_features=1.0, min_samples_leaf=3,                                              \n",
      "                       min_samples_split=6, n_estimators=150, n_jobs=-1)\n",
      "0.9641583177732715                                                                                                     \n",
      "0.0                                                                                                                    \n",
      "0.0                                                                                                                    \n",
      "RandomForestClassifier(max_depth=2, max_features=1.0, min_samples_leaf=3,                                              \n",
      "                       n_estimators=200, n_jobs=-1)\n",
      "0.9641583177732715                                                                                                     \n",
      "0.0                                                                                                                    \n",
      "0.0                                                                                                                    \n",
      "RandomForestClassifier(max_depth=8, max_features=1.0, min_samples_leaf=3,                                              \n",
      "                       n_jobs=-1)\n",
      "0.9641583177732715                                                                                                     \n",
      "0.0                                                                                                                    \n",
      "0.0                                                                                                                    \n",
      "RandomForestClassifier(max_depth=5, max_features=1.0, min_samples_split=5,                                             \n",
      "                       n_estimators=150, n_jobs=-1)\n",
      "0.9641616640231293                                                                                                     \n",
      "0.00018670649738610905                                                                                                 \n",
      "9.336196433572963e-05                                                                                                  \n",
      "RandomForestClassifier(max_depth=5, max_features=1.0, min_samples_split=8,                                             \n",
      "                       n_estimators=150, n_jobs=-1)\n",
      "0.9641616640231293                                                                                                     \n",
      "0.00018670649738610905                                                                                                 \n",
      "9.336196433572963e-05                                                                                                  \n",
      "RandomForestClassifier(max_depth=5, max_features=1.0, min_samples_split=8,                                             \n",
      "                       n_estimators=150, n_jobs=-1)\n",
      "0.9641616640231293                                                                                                     \n",
      "0.00018670649738610905                                                                                                 \n",
      "9.336196433572963e-05                                                                                                  \n",
      "RandomForestClassifier(max_depth=4, max_features=1.0, min_samples_split=5,                                             \n",
      "                       n_estimators=150, n_jobs=-1)\n",
      "0.9641616640231293                                                                                                     \n",
      "0.00018670649738610905                                                                                                 \n",
      "9.336196433572963e-05                                                                                                  \n",
      "RandomForestClassifier(max_depth=4, max_features=1.0, min_samples_split=8,                                             \n",
      "                       n_estimators=150, n_jobs=-1)\n",
      "0.9641616640231293                                                                                                     \n",
      "0.00018670649738610905                                                                                                 \n",
      "9.336196433572963e-05                                                                                                  \n",
      "RandomForestClassifier(max_depth=4, max_features=1.0, min_samples_leaf=4,                                              \n",
      "                       min_samples_split=8, n_estimators=350, n_jobs=-1)\n",
      "0.9641583177732715                                                                                                     \n",
      "0.0                                                                                                                    \n",
      "0.0                                                                                                                    \n",
      "RandomForestClassifier(max_depth=4, max_features=1.0, min_samples_leaf=5,                                              \n",
      "                       min_samples_split=5, n_estimators=150, n_jobs=-1)\n",
      "0.9641583177732715                                                                                                     \n",
      "0.0                                                                                                                    \n",
      "0.0                                                                                                                    \n",
      "RandomForestClassifier(max_depth=4, max_features=1.0, min_samples_leaf=2,                                              \n",
      "                       min_samples_split=3, n_estimators=150, n_jobs=-1)\n",
      "0.9641583177732715                                                                                                     \n",
      "0.0                                                                                                                    \n",
      "0.0                                                                                                                    \n",
      "RandomForestClassifier(max_depth=4, max_features=1.0, min_samples_leaf=8,                                              \n",
      "                       min_samples_split=8, n_estimators=150, n_jobs=-1)\n",
      "0.9641583177732715                                                                                                     \n",
      "0.0                                                                                                                    \n",
      "0.0                                                                                                                    \n",
      "RandomForestClassifier(max_depth=3, max_features=1.0, min_samples_leaf=5,                                              \n",
      "                       min_samples_split=7, n_estimators=150, n_jobs=-1)\n",
      "0.9641583177732715                                                                                                     \n",
      "0.0                                                                                                                    \n",
      "0.0                                                                                                                    \n"
     ]
    },
    {
     "name": "stdout",
     "output_type": "stream",
     "text": [
      "100%|█████████████████████████████████████████| 30/30 [3:44:31<00:00, 449.05s/trial, best loss: -9.336196433572963e-05]\n",
      "--- 13480.691346406937 seconds ---\n"
     ]
    }
   ],
   "source": [
    "import warnings\n",
    "warnings.filterwarnings(\"ignore\")\n",
    "\n",
    "start_time = time.time()\n",
    "# Define objectives\n",
    "def objective(params):\n",
    "    classifier_type = params['type']\n",
    "    del params['type']\n",
    "    if classifier_type == 'rf':\n",
    "        clf = RandomForestClassifier(**params,\n",
    "                                     max_features = 1.0,\n",
    "                                     n_jobs=-1)\n",
    "    else:\n",
    "        return 0\n",
    "    classifier = clf\n",
    "    print(classifier)\n",
    "    classifier.fit(X_train, y_train)\n",
    "    pr_rf = classifier.predict(X_train)\n",
    "    accuracy = accuracy_score(y_train,pr_rf)\n",
    "    f1 = f1_score(y_train,pr_rf)\n",
    "    recall = recall_score(y_train,pr_rf)\n",
    "    print(accuracy, f1, recall)\n",
    "\n",
    "    # Because fmin() tries to minimize the objective, this function must return the negative accuracy. \n",
    "    return {'loss': -recall, 'status': STATUS_OK}\n",
    "\n",
    "# Define search space\n",
    "space = hp.choice('classifier_type', [\n",
    "        {\n",
    "            \"type\": 'rf',\n",
    "            'n_estimators':hp.choice('n_estimators',range(50,400,50)),\n",
    "           'max_depth':hp.choice('max_depth',range(2,10)),\n",
    "           'min_samples_leaf':hp.choice('min_samples_leaf',range(1,10)),\n",
    "           'min_samples_split':hp.choice('min_samples_split',range(2,10))}\n",
    "])\n",
    "    \n",
    "with mlflow.start_run():\n",
    "    best = fmin(\n",
    "    fn=objective, \n",
    "    space=space,\n",
    "    algo=tpe.suggest,\n",
    "    max_evals=30, \n",
    "    verbose = 1,\n",
    "    return_argmin=False)\n",
    "    \n",
    "print(\"--- %s seconds ---\" % (time.time() - start_time))"
   ]
  },
  {
   "cell_type": "code",
   "execution_count": 4,
   "metadata": {},
   "outputs": [
    {
     "name": "stdout",
     "output_type": "stream",
     "text": [
      "{'max_depth': 5, 'min_samples_leaf': 1, 'min_samples_split': 7, 'n_estimators': 150, 'type': 'rf'}\n"
     ]
    }
   ],
   "source": [
    "# Results\n",
    "print(best)"
   ]
  },
  {
   "cell_type": "code",
   "execution_count": 5,
   "metadata": {},
   "outputs": [
    {
     "name": "stdout",
     "output_type": "stream",
     "text": [
      "0.9641616640231293 0.00018670649738610905 9.336196433572963e-05\n",
      "0.5485457750575213\n"
     ]
    }
   ],
   "source": [
    "# Fitting Randomforest to the Training set\n",
    "classifier = RandomForestClassifier(n_estimators = best['n_estimators'],\n",
    "                                max_depth = best['max_depth'],\n",
    "                                min_samples_leaf = int(best['min_samples_leaf']),\n",
    "                                min_samples_split= int(best['min_samples_split']),\n",
    "                                max_features = 1.0,\n",
    "                               n_jobs = -1,)\n",
    "classifier.fit(X_train, y_train)\n",
    "pr_rf = classifier.predict(X_train)\n",
    "accuracy = accuracy_score(y_train,pr_rf)\n",
    "f1 = f1_score(y_train,pr_rf)\n",
    "recall = recall_score(y_train,pr_rf)\n",
    "print(accuracy, f1, recall)\n",
    "print(roc_auc_score(y_train, classifier.predict_proba(X_train)[:, 1]))"
   ]
  },
  {
   "cell_type": "markdown",
   "metadata": {},
   "source": [
    "# Results"
   ]
  },
  {
   "cell_type": "code",
   "execution_count": 6,
   "metadata": {},
   "outputs": [
    {
     "name": "stdout",
     "output_type": "stream",
     "text": [
      "Accuracy:0.9712133440947001\n",
      "F1:0.0\n",
      "Recall:0.0\n"
     ]
    },
    {
     "data": {
      "image/png": "[encoded data removed]",
      "text/plain": [
       "<Figure size 432x288 with 2 Axes>"
      ]
     },
     "metadata": {
      "needs_background": "light"
     },
     "output_type": "display_data"
    },
    {
     "name": "stdout",
     "output_type": "stream",
     "text": [
      "Accuracy:0.966137597547681\n",
      "F1:0.0\n",
      "Recall:0.0\n"
     ]
    },
    {
     "data": {
      "image/png": "[encoded data removed]",
      "text/plain": [
       "<Figure size 432x288 with 2 Axes>"
      ]
     },
     "metadata": {
      "needs_background": "light"
     },
     "output_type": "display_data"
    },
    {
     "name": "stdout",
     "output_type": "stream",
     "text": [
      "Accuracy:0.9791469576435176\n",
      "F1:0.0\n",
      "Recall:0.0\n"
     ]
    },
    {
     "data": {
      "image/png": "[encoded data removed]",
      "text/plain": [
       "<Figure size 432x288 with 2 Axes>"
      ]
     },
     "metadata": {
      "needs_background": "light"
     },
     "output_type": "display_data"
    }
   ],
   "source": [
    "# Make confusion matrixes, accuracy, recall and f1 score for testset\n",
    "p_rf = classifier.predict(X_test)\n",
    "print(\"Accuracy:\" + str(classifier.score(X_test, y_test)))\n",
    "print(\"F1:\" + str(f1_score(y_test,p_rf)))\n",
    "print(\"Recall:\" + str(recall_score(y_test,p_rf)))\n",
    "ConfusionMatrixDisplay(confusion_matrix=confusion_matrix(y_test,p_rf),display_labels=classifier.classes_).plot()\n",
    "plt.savefig('New Figures\\con_test_rf_z.png', dpi=300)\n",
    "plt.show()\n",
    "\n",
    "# Make confusion matrixes, accuracy, recall and f1 score for validationset 1\n",
    "pre_rf = classifier.predict(X_val1)\n",
    "print(\"Accuracy:\" + str(classifier.score(X_val1, y_val1)))\n",
    "print(\"F1:\" + str(f1_score(y_val1,pre_rf)))\n",
    "print(\"Recall:\" + str(recall_score(y_val1,pre_rf)))\n",
    "ConfusionMatrixDisplay(confusion_matrix=confusion_matrix(y_val1,pre_rf),display_labels=classifier.classes_).plot()\n",
    "plt.savefig('New Figures\\con_val_rf_z.png', dpi=300)\n",
    "plt.show()\n",
    "\n",
    "\n",
    "# Make confusion matrixes, accuracy, recall and f1 score for validationset 2\n",
    "pred_rf = classifier.predict(X_val2)\n",
    "print(\"Accuracy:\" + str(classifier.score(X_val2, y_val2)))\n",
    "print(\"F1:\" + str(f1_score(y_val2, pred_rf)))\n",
    "print(\"Recall:\" + str(recall_score(y_val2, pred_rf)))\n",
    "ConfusionMatrixDisplay(confusion_matrix=confusion_matrix(y_val2, pred_rf),display_labels=classifier.classes_).plot()\n",
    "plt.savefig('New Figures\\con_val2_rf_z.png', dpi=300)\n",
    "plt.show()"
   ]
  },
  {
   "cell_type": "code",
   "execution_count": 7,
   "metadata": {},
   "outputs": [
    {
     "name": "stdout",
     "output_type": "stream",
     "text": [
      "0.48560592331788643\n",
      "0.49875075898917953\n",
      "0.49894276204809285\n"
     ]
    }
   ],
   "source": [
    "print(roc_auc_score(y_test, classifier.predict_proba(X_test)[:, 1]))\n",
    "print(roc_auc_score(y_val1, classifier.predict_proba(X_val1)[:, 1]))\n",
    "print(roc_auc_score(y_val2, classifier.predict_proba(X_val2)[:, 1]))"
   ]
  },
  {
   "cell_type": "code",
   "execution_count": 8,
   "metadata": {},
   "outputs": [
    {
     "data": {
      "image/png": "[encoded data removed]",
      "text/plain": [
       "<Figure size 432x288 with 1 Axes>"
      ]
     },
     "metadata": {
      "needs_background": "light"
     },
     "output_type": "display_data"
    }
   ],
   "source": [
    "# Create feature importance plot\n",
    "feat_importances = pd.Series(classifier.feature_importances_, index=columns)\n",
    "feat_importances.nlargest(20).plot(kind='barh')\n",
    "plt.savefig('New Figures\\import_rf_z.png', dpi=300, bbox_inches = \"tight\")"
   ]
  },
  {
   "cell_type": "markdown",
   "metadata": {},
   "source": [
    "# Make QGIS File"
   ]
  },
  {
   "cell_type": "code",
   "execution_count": 9,
   "metadata": {},
   "outputs": [],
   "source": [
    "# Create Dataframe with TP, TN, FP, FN and gridnumber\n",
    "qgis_koppel_train = []\n",
    "qgis_koppel_test = []\n",
    "qgis_koppel_val1 = []\n",
    "qgis_koppel_val2 = []\n",
    "qgis_train = pd.DataFrame(train[\"c28992r100\"],columns=[\"c28992r100\"])\n",
    "qgis_test = pd.DataFrame(test[\"c28992r100\"],columns=[\"c28992r100\"])\n",
    "qgis_val1 = pd.DataFrame(validation[\"c28992r100\"],columns=[\"c28992r100\"])\n",
    "qgis_val2 = pd.DataFrame(validation2[\"c28992r100\"],columns=[\"c28992r100\"])\n",
    "\n",
    "for y, yt in zip(y_train, pr_rf):\n",
    "    if y == 0 and yt == 0:\n",
    "        qgis_koppel_train.append(\"TN\")\n",
    "    if y == 0 and yt == 1:\n",
    "        qgis_koppel_train.append(\"FN\")\n",
    "    if y == 1 and yt == 0:\n",
    "        qgis_koppel_train.append(\"FP\")\n",
    "    if y == 1 and yt == 1:\n",
    "        qgis_koppel_train.append(\"TP\")\n",
    "\n",
    "for y, yt in zip(y_test.to_numpy(), p_rf):\n",
    "    if y == 0 and yt == 0:\n",
    "        qgis_koppel_test.append(\"TN\")\n",
    "    if y == 0 and yt == 1:\n",
    "        qgis_koppel_test.append(\"FN\")\n",
    "    if y == 1 and yt == 0:\n",
    "        qgis_koppel_test.append(\"FP\")\n",
    "    if y == 1 and yt == 1:\n",
    "        qgis_koppel_test.append(\"TP\")\n",
    "        \n",
    "for y, yt in zip(y_val1.to_numpy(), pre_rf):\n",
    "    if y == 0 and yt == 0:\n",
    "        qgis_koppel_val1.append(\"TN\")\n",
    "    if y == 0 and yt == 1:\n",
    "        qgis_koppel_val1.append(\"FN\")\n",
    "    if y == 1 and yt == 0:\n",
    "        qgis_koppel_val1.append(\"FP\")\n",
    "    if y == 1 and yt == 1:\n",
    "        qgis_koppel_val1.append(\"TP\")\n",
    "\n",
    "for y, yt in zip(y_val2.to_numpy(), pred_rf):\n",
    "    if y == 0 and yt == 0:\n",
    "        qgis_koppel_val2.append(\"TN\")\n",
    "    if y == 0 and yt == 1:\n",
    "        qgis_koppel_val2.append(\"FN\")\n",
    "    if y == 1 and yt == 0:\n",
    "        qgis_koppel_val2.append(\"FP\")\n",
    "    if y == 1 and yt == 1:\n",
    "        qgis_koppel_val2.append(\"TP\")\n",
    "\n",
    "qgis_train[\"label\"] = pd.Series(qgis_koppel_train)\n",
    "qgis_test[\"label\"] = pd.Series(qgis_koppel_test)\n",
    "qgis_val1[\"label\"] = pd.Series(qgis_koppel_val1)\n",
    "qgis_val2[\"label\"] = pd.Series(qgis_koppel_val2)\n",
    "\n",
    "qgis_train.to_csv(\"New Figures\\qgistrainrfZ.csv\", index=False)\n",
    "qgis_test.to_csv(\"New Figures\\qgistestrfZ.csv\", index=False)\n",
    "qgis_val1.to_csv(\"New Figures\\qgisval1rfZ.csv\", index=False)\n",
    "qgis_val2.to_csv(\"New Figures\\qgisval2rfZ.csv\", index=False)"
   ]
  },
  {
   "cell_type": "code",
   "execution_count": null,
   "metadata": {},
   "outputs": [],
   "source": []
  }
 ],
 "metadata": {
  "kernelspec": {
   "display_name": "Python 3",
   "language": "python",
   "name": "python3"
  },
  "language_info": {
   "codemirror_mode": {
    "name": "ipython",
    "version": 3
   },
   "file_extension": ".py",
   "mimetype": "text/x-python",
   "name": "python",
   "nbconvert_exporter": "python",
   "pygments_lexer": "ipython3",
   "version": "3.8.3"
  }
 },
 "nbformat": 4,
 "nbformat_minor": 4
}
