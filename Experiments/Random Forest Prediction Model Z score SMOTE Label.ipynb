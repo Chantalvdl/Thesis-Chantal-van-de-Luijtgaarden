{
 "cells": [
  {
   "cell_type": "code",
   "execution_count": 1,
   "metadata": {},
   "outputs": [],
   "source": [
    "# Import packages\n",
    "import pandas as pd\n",
    "import numpy as np\n",
    "import math\n",
    "import time\n",
    "\n",
    "from sklearn.ensemble import RandomForestClassifier\n",
    "from sklearn.metrics import f1_score, accuracy_score, roc_auc_score, recall_score, confusion_matrix, ConfusionMatrixDisplay\n",
    "from sklearn.model_selection import cross_val_score\n",
    "import matplotlib.pyplot as plt\n",
    "from IPython import display\n",
    "%matplotlib inline\n",
    "\n",
    "from hyperopt import *\n",
    "import pyspark \n",
    "import mlflow\n",
    "\n",
    "import seaborn as sns\n",
    "\n",
    "import warnings"
   ]
  },
  {
   "cell_type": "code",
   "execution_count": 2,
   "metadata": {},
   "outputs": [],
   "source": [
    "# Import Data\n",
    "train = pd.read_csv(\"..\\\\Predictive Models\\\\Datasets\\\\17zScoreSMOTE_0.75_newlabel.csv\", delimiter=',')\n",
    "test = pd.read_csv(\"..\\\\Predictive Models\\\\Datasets\\\\172zScore_newlabel.csv\", delimiter=',')\n",
    "validation = pd.read_csv(\"..\\\\Predictive Models\\\\Datasets\\\\18zScore_newlabel.csv\", delimiter=',')\n",
    "validation2 = pd.read_csv(\"..\\\\Predictive Models\\\\Datasets\\\\19zScore_newlabel.csv\", delimiter=',')\n",
    "\n",
    "# Define X and y\n",
    "X_train = (train.drop(labels=[\"label\"], axis=1))\n",
    "y_train = train[[\"label\"]]\n",
    "X_test = test.drop(labels=[\"label\",\"c28992r100\"], axis=1)\n",
    "y_test =test[[\"label\"]]\n",
    "\n",
    "X_val1 = validation.drop(labels=[\"label\",\"c28992r100\"], axis=1)\n",
    "y_val1 = validation[[\"label\"]]\n",
    "X_val2 = validation2.drop(labels=[\"label\",\"c28992r100\"], axis=1)\n",
    "y_val2 = validation2[[\"label\"]]\n",
    "\n",
    "# Make column list\n",
    "columns = X_train.columns\n",
    "\n",
    "X_train = X_train.to_numpy()\n",
    "y_train = y_train.to_numpy()"
   ]
  },
  {
   "cell_type": "markdown",
   "metadata": {},
   "source": [
    "# Define hyperopt settings"
   ]
  },
  {
   "cell_type": "code",
   "execution_count": 3,
   "metadata": {},
   "outputs": [
    {
     "name": "stdout",
     "output_type": "stream",
     "text": [
      "RandomForestClassifier(max_depth=8, max_features=1.0, min_samples_leaf=3,                                              \n",
      "                       min_samples_split=6, n_estimators=150, n_jobs=-1)\n",
      "0.8375480188565116                                                                                                     \n",
      "0.7866165464458668                                                                                                     \n",
      "0.6986737498727429                                                                                                     \n",
      "RandomForestClassifier(max_depth=4, max_features=1.0, min_samples_leaf=4,                                              \n",
      "                       min_samples_split=6, n_jobs=-1)\n",
      "0.7178424882345125                                                                                                     \n",
      "0.6528291573532714                                                                                                     \n",
      "0.6190061916352766                                                                                                     \n",
      "RandomForestClassifier(max_depth=4, max_features=1.0, min_samples_leaf=4,                                              \n",
      "                       n_jobs=-1)\n",
      "0.6872849439441207                                                                                                     \n",
      "0.599983763927506                                                                                                      \n",
      "0.5472146896315561                                                                                                     \n",
      "RandomForestClassifier(max_depth=4, max_features=1.0, min_samples_leaf=5,                                              \n",
      "                       n_estimators=150, n_jobs=-1)\n",
      "0.6872829607182451                                                                                                     \n",
      "0.5999802122364485                                                                                                     \n",
      "0.547210062101454                                                                                                      \n",
      "RandomForestClassifier(max_depth=8, max_features=1.0, min_samples_leaf=2,                                              \n",
      "                       n_estimators=300, n_jobs=-1)\n",
      "0.8391603814933294                                                                                                     \n",
      "0.7891929547297719                                                                                                     \n",
      "0.7024868346768596                                                                                                     \n",
      "RandomForestClassifier(max_depth=3, max_features=1.0, min_samples_split=6,                                             \n",
      "                       n_jobs=-1)\n",
      "0.6393245925958245                                                                                                     \n",
      "0.2735156771180787                                                                                                     \n",
      "0.15842349304482226                                                                                                    \n",
      "RandomForestClassifier(max_depth=2, max_features=1.0, min_samples_split=5,                                             \n",
      "                       n_jobs=-1)\n",
      "0.6084735308758521                                                                                                     \n",
      "0.5240105604513509                                                                                                     \n",
      "0.5028644411331896                                                                                                     \n",
      "RandomForestClassifier(max_depth=4, max_features=1.0, min_samples_leaf=3,                                              \n",
      "                       min_samples_split=5, n_estimators=200, n_jobs=-1)\n",
      "0.716664452064439                                                                                                      \n",
      "0.6508548637789965                                                                                                     \n",
      "0.6162065359235162                                                                                                     \n",
      "RandomForestClassifier(max_depth=2, max_features=1.0, min_samples_leaf=2,                                              \n",
      "                       min_samples_split=7, n_estimators=200, n_jobs=-1)\n",
      "0.6084715476499765                                                                                                     \n",
      "0.524007001740791                                                                                                      \n",
      "0.5028598136030875                                                                                                     \n",
      "RandomForestClassifier(max_depth=6, max_features=1.0, min_samples_leaf=4,                                              \n",
      "                       min_samples_split=6, n_jobs=-1)\n",
      "0.7919358069448603                                                                                                     \n",
      "0.730446087675935                                                                                                      \n",
      "0.6577895214208368                                                                                                     \n",
      "RandomForestClassifier(max_depth=5, max_features=1.0, min_samples_leaf=6,                                              \n",
      "                       min_samples_split=6, n_estimators=200, n_jobs=-1)\n",
      "0.7601863439032662                                                                                                     \n",
      "0.6117619862518903                                                                                                     \n",
      "0.4408647928254773                                                                                                     \n",
      "RandomForestClassifier(max_depth=5, max_features=1.0, min_samples_leaf=9,                                              \n",
      "                       n_estimators=300, n_jobs=-1)\n",
      "0.7605512574643664                                                                                                     \n",
      "0.6125816233214073                                                                                                     \n",
      "0.44171625836426065                                                                                                    \n",
      "RandomForestClassifier(max_depth=7, max_features=1.0, min_samples_leaf=7,                                              \n",
      "                       min_samples_split=7, n_estimators=50, n_jobs=-1)\n",
      "0.8228265331823438                                                                                                     \n",
      "0.7395117741051331                                                                                                     \n",
      "0.5868170922451851                                                                                                     \n",
      "RandomForestClassifier(max_depth=6, max_features=1.0, min_samples_leaf=4,                                              \n",
      "                       min_samples_split=7, n_estimators=200, n_jobs=-1)\n",
      "0.7891910223331066                                                                                                     \n",
      "0.7258377352261473                                                                                                     \n",
      "0.6511305056039389                                                                                                     \n",
      "RandomForestClassifier(max_depth=4, max_features=1.0, min_samples_leaf=8,                                              \n",
      "                       min_samples_split=3, n_estimators=200, n_jobs=-1)\n",
      "0.716664452064439                                                                                                      \n",
      "0.6508548637789965                                                                                                     \n",
      "0.6162065359235162                                                                                                     \n"
     ]
    },
    {
     "name": "stdout",
     "output_type": "stream",
     "text": [
      "RandomForestClassifier(max_depth=7, max_features=1.0, min_samples_leaf=6,                                              \n",
      "                       min_samples_split=8, n_jobs=-1)\n",
      "0.8235404944975399                                                                                                     \n",
      "0.7408652193920049                                                                                                     \n",
      "0.5885801812140788                                                                                                     \n",
      "RandomForestClassifier(max_depth=3, max_features=1.0, min_samples_leaf=8,                                              \n",
      "                       min_samples_split=7, n_estimators=350, n_jobs=-1)\n",
      "0.6393245925958245                                                                                                     \n",
      "0.2735156771180787                                                                                                     \n",
      "0.15842349304482226                                                                                                    \n",
      "RandomForestClassifier(max_depth=6, max_features=1.0, min_samples_leaf=6,                                              \n",
      "                       min_samples_split=5, n_estimators=200, n_jobs=-1)\n",
      "0.7920825656596506                                                                                                     \n",
      "0.7307026421646947                                                                                                     \n",
      "0.6581828614795139                                                                                                     \n",
      "RandomForestClassifier(max_depth=5, max_features=1.0, min_samples_leaf=2,                                              \n",
      "                       min_samples_split=3, n_estimators=350, n_jobs=-1)\n",
      "0.7601823774515151                                                                                                     \n",
      "0.6117530718328897                                                                                                     \n",
      "0.44085553776527314                                                                                                    \n",
      "RandomForestClassifier(max_depth=2, max_features=1.0, min_samples_leaf=8,                                              \n",
      "                       min_samples_split=9, n_estimators=50, n_jobs=-1)\n",
      "0.6084715476499765                                                                                                     \n",
      "0.524007001740791                                                                                                      \n",
      "0.5028598136030875                                                                                                     \n",
      "RandomForestClassifier(max_depth=8, max_features=1.0, min_samples_leaf=3,                                              \n",
      "                       min_samples_split=9, n_estimators=300, n_jobs=-1)\n",
      "0.8391722808485826                                                                                                     \n",
      "0.7892063591087266                                                                                                     \n",
      "0.7024914622069617                                                                                                     \n",
      "RandomForestClassifier(max_depth=8, max_features=1.0, min_samples_leaf=3,                                              \n",
      "                       min_samples_split=4, n_estimators=300, n_jobs=-1)\n",
      "0.839832695065139                                                                                                      \n",
      "0.7902545949413442                                                                                                     \n",
      "0.7040370572610575                                                                                                     \n",
      "RandomForestClassifier(max_depth=9, max_features=1.0, min_samples_leaf=3,                                              \n",
      "                       min_samples_split=4, n_estimators=300, n_jobs=-1)\n",
      "0.8629848739362472                                                                                                     \n",
      "0.8097892971892526                                                                                                     \n",
      "0.6805384594026784                                                                                                     \n",
      "RandomForestClassifier(max_depth=9, max_features=1.0, min_samples_leaf=3,                                              \n",
      "                       min_samples_split=4, n_estimators=250, n_jobs=-1)\n",
      "0.8625009668226143                                                                                                     \n",
      "0.8089881449277758                                                                                                     \n",
      "0.679404714527668                                                                                                      \n",
      "RandomForestClassifier(max_depth=9, max_features=1.0, min_samples_leaf=3,                                              \n",
      "                       min_samples_split=4, n_estimators=250, n_jobs=-1)\n",
      "0.8625961616646405                                                                                                     \n",
      "0.8091403699673557                                                                                                     \n",
      "0.6796036983220576                                                                                                     \n",
      "RandomForestClassifier(max_depth=9, max_features=1.0, min_samples_leaf=3,                                              \n",
      "                       min_samples_split=4, n_estimators=250, n_jobs=-1)\n",
      "0.8629967732915005                                                                                                     \n",
      "0.8098183830391728                                                                                                     \n",
      "0.6806078723542096                                                                                                     \n",
      "RandomForestClassifier(max_depth=9, max_features=1.0, min_samples_leaf=7,                                              \n",
      "                       min_samples_split=4, n_estimators=250, n_jobs=-1)\n",
      "0.8623085939126865                                                                                                     \n",
      "0.8086750440917108                                                                                                     \n",
      "0.6789789817582763                                                                                                     \n",
      "RandomForestClassifier(max_depth=9, max_features=1.0, min_samples_leaf=5,                                              \n",
      "                       min_samples_split=4, n_estimators=250, n_jobs=-1)\n",
      "0.8624375035945969                                                                                                     \n",
      "0.8088768140900411                                                                                                     \n",
      "0.6792288683837888                                                                                                     \n",
      "RandomForestClassifier(max_depth=9, max_features=1.0, min_samples_leaf=9,                                              \n",
      "                       min_samples_split=8, n_estimators=150, n_jobs=-1)\n",
      "0.8620547410006167                                                                                                     \n",
      "0.8082567896878342                                                                                                     \n",
      "0.6783959129654138                                                                                                     \n",
      "RandomForestClassifier(max_depth=9, max_features=1.0, min_samples_leaf=3,                                              \n",
      "                       min_samples_split=4, n_estimators=250, n_jobs=-1)\n",
      "0.8636274391199237                                                                                                     \n",
      "0.8108438209201568                                                                                                     \n"
     ]
    },
    {
     "name": "stdout",
     "output_type": "stream",
     "text": [
      "0.6820100139751409                                                                                                     \n",
      "100%|███████████████████████████████████████████| 30/30 [9:49:41<00:00, 1179.39s/trial, best loss: -0.8636274391199237]\n",
      "--- 35386.061074733734 seconds ---\n"
     ]
    }
   ],
   "source": [
    "import warnings\n",
    "warnings.filterwarnings(\"ignore\")\n",
    "\n",
    "start_time = time.time()\n",
    "# Define objectives\n",
    "def objective(params):\n",
    "    classifier_type = params['type']\n",
    "    del params['type']\n",
    "    if classifier_type == 'rf':\n",
    "        clf = RandomForestClassifier(**params,\n",
    "                                     max_features = 1.0,\n",
    "                                     n_jobs=-1)\n",
    "    else:\n",
    "        return 0\n",
    "    classifier = clf\n",
    "    print(classifier)\n",
    "    classifier.fit(X_train, y_train)\n",
    "    pr_rf = classifier.predict(X_train)\n",
    "    accuracy = accuracy_score(y_train,pr_rf)\n",
    "    f1 = f1_score(y_train,pr_rf)\n",
    "    recall = recall_score(y_train,pr_rf)\n",
    "    print(accuracy, f1, recall)\n",
    "\n",
    "    # Because fmin() tries to minimize the objective, this function must return the negative accuracy. \n",
    "    return {'loss': -accuracy, 'status': STATUS_OK}\n",
    "\n",
    "# Define search space\n",
    "space = hp.choice('classifier_type', [\n",
    "        {\n",
    "            \"type\": 'rf',\n",
    "            'n_estimators':hp.choice('n_estimators',range(50,400,50)),\n",
    "           'max_depth':hp.choice('max_depth',range(2,10)),\n",
    "           'min_samples_leaf':hp.choice('min_samples_leaf',range(1,10)),\n",
    "           'min_samples_split':hp.choice('min_samples_split',range(2,10))}\n",
    "])\n",
    "    \n",
    "with mlflow.start_run():\n",
    "    best = fmin(\n",
    "    fn=objective, \n",
    "    space=space,\n",
    "    algo=tpe.suggest,\n",
    "    max_evals=30, \n",
    "    verbose = 1,\n",
    "    return_argmin=False)\n",
    "    \n",
    "print(\"--- %s seconds ---\" % (time.time() - start_time))"
   ]
  },
  {
   "cell_type": "code",
   "execution_count": 4,
   "metadata": {},
   "outputs": [
    {
     "name": "stdout",
     "output_type": "stream",
     "text": [
      "{'max_depth': 9, 'min_samples_leaf': 3, 'min_samples_split': 4, 'n_estimators': 250, 'type': 'rf'}\n"
     ]
    }
   ],
   "source": [
    "# Results\n",
    "print(best)"
   ]
  },
  {
   "cell_type": "code",
   "execution_count": 5,
   "metadata": {},
   "outputs": [
    {
     "name": "stdout",
     "output_type": "stream",
     "text": [
      "0.8626774739255378 0.8092832629137724 0.6798304472970597\n",
      "0.9206508433243278\n"
     ]
    }
   ],
   "source": [
    "# Fitting Randomforest to the Training set\n",
    "classifier = RandomForestClassifier(n_estimators = best['n_estimators'],\n",
    "                            max_depth = best['max_depth'],\n",
    "                            min_samples_leaf = int(best['min_samples_leaf']),\n",
    "                            min_samples_split= int(best['min_samples_split']),\n",
    "                                     max_features = 1.0,\n",
    "                           n_jobs = -1)\n",
    "classifier.fit(X_train, y_train)\n",
    "pr_rf = classifier.predict(X_train)\n",
    "accuracy = accuracy_score(y_train,pr_rf)\n",
    "f1 = f1_score(y_train,pr_rf)\n",
    "recall = recall_score(y_train,pr_rf)\n",
    "print(accuracy, f1, recall)\n",
    "print(roc_auc_score(y_train, classifier.predict_proba(X_train)[:, 1]))"
   ]
  },
  {
   "cell_type": "markdown",
   "metadata": {},
   "source": [
    "# Results"
   ]
  },
  {
   "cell_type": "code",
   "execution_count": 6,
   "metadata": {},
   "outputs": [
    {
     "name": "stdout",
     "output_type": "stream",
     "text": [
      "Accuracy:0.1471616895345709\n",
      "F1:0.054295942720763726\n",
      "Recall:0.8504672897196262\n"
     ]
    },
    {
     "data": {
      "image/png": "[encoded data removed]",
      "text/plain": [
       "<Figure size 432x288 with 2 Axes>"
      ]
     },
     "metadata": {
      "needs_background": "light"
     },
     "output_type": "display_data"
    },
    {
     "name": "stdout",
     "output_type": "stream",
     "text": [
      "Accuracy:0.10800673524237159\n",
      "F1:0.06526374129769655\n",
      "Recall:0.9196684730634364\n"
     ]
    },
    {
     "data": {
      "image/png": "[encoded data removed]",
      "text/plain": [
       "<Figure size 432x288 with 2 Axes>"
      ]
     },
     "metadata": {
      "needs_background": "light"
     },
     "output_type": "display_data"
    },
    {
     "name": "stdout",
     "output_type": "stream",
     "text": [
      "Accuracy:0.10758170285960009\n",
      "F1:0.040251230573130584\n",
      "Recall:0.8975251353441609\n"
     ]
    },
    {
     "data": {
      "image/png": "[encoded data removed]",
      "text/plain": [
       "<Figure size 432x288 with 2 Axes>"
      ]
     },
     "metadata": {
      "needs_background": "light"
     },
     "output_type": "display_data"
    }
   ],
   "source": [
    "# Make confusion matrixes, accuracy, recall and f1 score for testset\n",
    "p_rf = classifier.predict(X_test)\n",
    "print(\"Accuracy:\" + str(classifier.score(X_test, y_test)))\n",
    "print(\"F1:\" + str(f1_score(y_test,p_rf)))\n",
    "print(\"Recall:\" + str(recall_score(y_test,p_rf)))\n",
    "ConfusionMatrixDisplay(confusion_matrix=confusion_matrix(y_test,p_rf),display_labels=classifier.classes_).plot()\n",
    "plt.savefig('con_test_rf_z_smote.png', dpi=300)\n",
    "plt.show()\n",
    "\n",
    "# Make confusion matrixes, accuracy, recall and f1 score for validationset 1\n",
    "pre_rf = classifier.predict(X_val1)\n",
    "print(\"Accuracy:\" + str(classifier.score(X_val1, y_val1)))\n",
    "print(\"F1:\" + str(f1_score(y_val1,pre_rf)))\n",
    "print(\"Recall:\" + str(recall_score(y_val1,pre_rf)))\n",
    "ConfusionMatrixDisplay(confusion_matrix=confusion_matrix(y_val1,pre_rf),display_labels=classifier.classes_).plot()\n",
    "plt.savefig('con_val_rf_z_smote.png', dpi=300)\n",
    "plt.show()\n",
    "\n",
    "\n",
    "# Make confusion matrixes, accuracy, recall and f1 score for validationset 2\n",
    "pred_rf = classifier.predict(X_val2)\n",
    "print(\"Accuracy:\" + str(classifier.score(X_val2, y_val2)))\n",
    "print(\"F1:\" + str(f1_score(y_val2, pred_rf)))\n",
    "print(\"Recall:\" + str(recall_score(y_val2, pred_rf)))\n",
    "ConfusionMatrixDisplay(confusion_matrix=confusion_matrix(y_val2, pred_rf),display_labels=classifier.classes_).plot()\n",
    "plt.savefig('con_val2_rf_z_smote.png', dpi=300)\n",
    "plt.show()"
   ]
  },
  {
   "cell_type": "code",
   "execution_count": 7,
   "metadata": {},
   "outputs": [
    {
     "name": "stdout",
     "output_type": "stream",
     "text": [
      "0.5322973567711704\n",
      "0.499438806641529\n",
      "0.4889519593192958\n"
     ]
    }
   ],
   "source": [
    "print(roc_auc_score(y_test, classifier.predict_proba(X_test)[:, 1]))\n",
    "print(roc_auc_score(y_val1, classifier.predict_proba(X_val1)[:, 1]))\n",
    "print(roc_auc_score(y_val2, classifier.predict_proba(X_val2)[:, 1]))"
   ]
  },
  {
   "cell_type": "code",
   "execution_count": 8,
   "metadata": {},
   "outputs": [
    {
     "data": {
      "image/png": "[encoded data removed]",
      "text/plain": [
       "<Figure size 432x288 with 1 Axes>"
      ]
     },
     "metadata": {
      "needs_background": "light"
     },
     "output_type": "display_data"
    }
   ],
   "source": [
    "# Create feature importance plot\n",
    "feat_importances = pd.Series(classifier.feature_importances_, index=columns)\n",
    "feat_importances.nlargest(20).plot(kind='barh')\n",
    "plt.savefig('import_rf_z_smote.png', dpi=300, bbox_inches = \"tight\")"
   ]
  },
  {
   "cell_type": "markdown",
   "metadata": {},
   "source": [
    "# Make QGIS File"
   ]
  },
  {
   "cell_type": "code",
   "execution_count": 9,
   "metadata": {},
   "outputs": [],
   "source": [
    "# Create Dataframe with TP, TN, FP, FN and gridnumber\n",
    "qgis_koppel_train = []\n",
    "qgis_koppel_test = []\n",
    "qgis_koppel_val1 = []\n",
    "qgis_koppel_val2 = []\n",
    "qgis_train = pd.DataFrame(train.index,columns=[\"id\"])\n",
    "qgis_test = pd.DataFrame(test.index,columns=[\"id\"])\n",
    "qgis_val1 = pd.DataFrame(validation[\"c28992r100\"],columns=[\"c28992r100\"])\n",
    "qgis_val2 = pd.DataFrame(validation2[\"c28992r100\"],columns=[\"c28992r100\"])\n",
    "\n",
    "for y, yt in zip(y_train, pr_rf):\n",
    "    if y == 0 and yt == 0:\n",
    "        qgis_koppel_train.append(\"TN\")\n",
    "    if y == 0 and yt == 1:\n",
    "        qgis_koppel_train.append(\"FN\")\n",
    "    if y == 1 and yt == 0:\n",
    "        qgis_koppel_train.append(\"FP\")\n",
    "    if y == 1 and yt == 1:\n",
    "        qgis_koppel_train.append(\"TP\")\n",
    "\n",
    "for y, yt in zip(y_test.to_numpy(), p_rf):\n",
    "    if y == 0 and yt == 0:\n",
    "        qgis_koppel_test.append(\"TN\")\n",
    "    if y == 0 and yt == 1:\n",
    "        qgis_koppel_test.append(\"FN\")\n",
    "    if y == 1 and yt == 0:\n",
    "        qgis_koppel_test.append(\"FP\")\n",
    "    if y == 1 and yt == 1:\n",
    "        qgis_koppel_test.append(\"TP\")\n",
    "        \n",
    "for y, yt in zip(y_val1.to_numpy(), pre_rf):\n",
    "    if y == 0 and yt == 0:\n",
    "        qgis_koppel_val1.append(\"TN\")\n",
    "    if y == 0 and yt == 1:\n",
    "        qgis_koppel_val1.append(\"FN\")\n",
    "    if y == 1 and yt == 0:\n",
    "        qgis_koppel_val1.append(\"FP\")\n",
    "    if y == 1 and yt == 1:\n",
    "        qgis_koppel_val1.append(\"TP\")\n",
    "\n",
    "for y, yt in zip(y_val2.to_numpy(), pred_rf):\n",
    "    if y == 0 and yt == 0:\n",
    "        qgis_koppel_val2.append(\"TN\")\n",
    "    if y == 0 and yt == 1:\n",
    "        qgis_koppel_val2.append(\"FN\")\n",
    "    if y == 1 and yt == 0:\n",
    "        qgis_koppel_val2.append(\"FP\")\n",
    "    if y == 1 and yt == 1:\n",
    "        qgis_koppel_val2.append(\"TP\")\n",
    "\n",
    "qgis_train[\"label\"] = pd.Series(qgis_koppel_train)\n",
    "qgis_test[\"label\"] = pd.Series(qgis_koppel_test)\n",
    "qgis_val1[\"label\"] = pd.Series(qgis_koppel_val1)\n",
    "qgis_val2[\"label\"] = pd.Series(qgis_koppel_val2)\n",
    "\n",
    "qgis_train.to_csv(\"qgistrainrfSZ.csv\", index=False)\n",
    "qgis_test.to_csv(\"qgistestrfSZ.csv\", index=False)\n",
    "qgis_val1.to_csv(\"qgisval1rfSZ.csv\", index=False)\n",
    "qgis_val2.to_csv(\"qgisval2rfSZ.csv\", index=False)"
   ]
  },
  {
   "cell_type": "code",
   "execution_count": null,
   "metadata": {},
   "outputs": [],
   "source": []
  }
 ],
 "metadata": {
  "kernelspec": {
   "display_name": "Python 3",
   "language": "python",
   "name": "python3"
  },
  "language_info": {
   "codemirror_mode": {
    "name": "ipython",
    "version": 3
   },
   "file_extension": ".py",
   "mimetype": "text/x-python",
   "name": "python",
   "nbconvert_exporter": "python",
   "pygments_lexer": "ipython3",
   "version": "3.8.3"
  }
 },
 "nbformat": 4,
 "nbformat_minor": 4
}
