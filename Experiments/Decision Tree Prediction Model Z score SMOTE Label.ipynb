{
 "cells": [
  {
   "cell_type": "code",
   "execution_count": 1,
   "metadata": {},
   "outputs": [],
   "source": [
    "# Import packages\n",
    "import pandas as pd\n",
    "import numpy as np\n",
    "import math\n",
    "import time\n",
    "\n",
    "from sklearn.tree import DecisionTreeClassifier\n",
    "from sklearn.metrics import f1_score, roc_auc_score, accuracy_score, recall_score, confusion_matrix, ConfusionMatrixDisplay\n",
    "from sklearn.model_selection import cross_val_score\n",
    "import matplotlib.pyplot as plt\n",
    "from IPython import display\n",
    "%matplotlib inline\n",
    "\n",
    "from hyperopt import *\n",
    "import pyspark \n",
    "import mlflow\n",
    "\n",
    "import seaborn as sns\n",
    "\n",
    "import warnings"
   ]
  },
  {
   "cell_type": "code",
   "execution_count": 2,
   "metadata": {},
   "outputs": [],
   "source": [
    "# Import Data\n",
    "train = pd.read_csv(\"..\\\\Predictive Models\\\\Datasets\\\\17zScoreSMOTE_0.75_newlabel.csv\", delimiter=',')\n",
    "test = pd.read_csv(\"..\\\\Predictive Models\\\\Datasets\\\\172zScore_newlabel.csv\", delimiter=',')\n",
    "validation = pd.read_csv(\"..\\\\Predictive Models\\\\Datasets\\\\18zScore_newlabel.csv\", delimiter=',')\n",
    "validation2 = pd.read_csv(\"..\\\\Predictive Models\\\\Datasets\\\\19zScore_newlabel.csv\", delimiter=',')\n",
    "\n",
    "# Define X and y\n",
    "X_train = (train.drop(labels=[\"label\"], axis=1))\n",
    "y_train = train[[\"label\"]]\n",
    "X_test = test.drop(labels=[\"label\",\"c28992r100\"], axis=1)\n",
    "y_test =test[[\"label\"]]\n",
    "\n",
    "X_val1 = validation.drop(labels=[\"label\",\"c28992r100\"], axis=1)\n",
    "y_val1 = validation[[\"label\"]]\n",
    "X_val2 = validation2.drop(labels=[\"label\",\"c28992r100\"], axis=1)\n",
    "y_val2 = validation2[[\"label\"]]\n",
    "\n",
    "# Make column list\n",
    "columns = X_train.columns\n",
    "\n",
    "X_train = X_train.to_numpy()\n",
    "y_train = y_train.to_numpy()"
   ]
  },
  {
   "cell_type": "markdown",
   "metadata": {},
   "source": [
    "# Define hyperopt settings"
   ]
  },
  {
   "cell_type": "code",
   "execution_count": 3,
   "metadata": {},
   "outputs": [
    {
     "name": "stdout",
     "output_type": "stream",
     "text": [
      "DecisionTreeClassifier(criterion='entropy', max_depth=8, min_samples_leaf=2,                                           \n",
      "                       min_samples_split=11)\n",
      "0.8128548734801053                                                                                                     \n",
      "0.7460575463675605                                                                                                     \n",
      "0.6414497126303806                                                                                                     \n",
      "DecisionTreeClassifier(criterion='entropy', max_depth=7, min_samples_leaf=7,                                           \n",
      "                       min_samples_split=5)\n",
      "0.7875052803388937                                                                                                     \n",
      "0.6705956860719644                                                                                                     \n",
      "0.5046923155235125                                                                                                     \n",
      "DecisionTreeClassifier(max_depth=7, min_samples_leaf=6, min_samples_split=10)                                          \n",
      "0.787612374536173                                                                                                      \n",
      "0.6710004055199873                                                                                                     \n",
      "0.5053633073883146                                                                                                     \n",
      "DecisionTreeClassifier(max_depth=8, min_samples_leaf=6, min_samples_split=4)                                           \n",
      "0.8119862205466167                                                                                                     \n",
      "0.744612185082218                                                                                                      \n",
      "0.6395385426982203                                                                                                     \n",
      "DecisionTreeClassifier(max_depth=9, min_samples_leaf=10, min_samples_split=6)                                          \n",
      "0.8355846252397224                                                                                                     \n",
      "0.7633310590337747                                                                                                     \n",
      "0.6186730094679266                                                                                                     \n",
      "DecisionTreeClassifier(max_depth=9, min_samples_leaf=9, min_samples_split=9)                                           \n",
      "0.8356500716936154                                                                                                     \n",
      "0.7634367470911311                                                                                                     \n",
      "0.6187886977204786                                                                                                     \n",
      "DecisionTreeClassifier(criterion='entropy', max_depth=4, min_samples_leaf=9,                                           \n",
      "                       min_samples_split=9)\n",
      "0.6872869271699962                                                                                                     \n",
      "0.5999873156005431                                                                                                     \n",
      "0.5472193171616582                                                                                                     \n",
      "DecisionTreeClassifier(criterion='entropy', max_depth=8, min_samples_leaf=10,                                          \n",
      "                       min_samples_split=10)\n",
      "0.812821158640221                                                                                                      \n",
      "0.7460384517066477                                                                                                     \n",
      "0.6415006154615036                                                                                                     \n",
      "DecisionTreeClassifier(max_depth=8, min_samples_leaf=10, min_samples_split=11)                                         \n",
      "0.8119306902221015                                                                                                     \n",
      "0.7445353792772748                                                                                                     \n",
      "0.639469129746689                                                                                                      \n",
      "DecisionTreeClassifier(criterion='entropy', max_depth=4, min_samples_leaf=10,                                          \n",
      "                       min_samples_split=9)\n",
      "0.6872869271699962                                                                                                     \n",
      "0.5999873156005431                                                                                                     \n",
      "0.5472193171616582                                                                                                     \n",
      "DecisionTreeClassifier(criterion='entropy', max_depth=7, min_samples_leaf=5,                                           \n",
      "                       min_samples_split=11)\n",
      "0.7875251125976491                                                                                                     \n",
      "0.6706446555381352                                                                                                     \n",
      "0.5047571009449416                                                                                                     \n",
      "DecisionTreeClassifier(max_depth=2, min_samples_leaf=11)                                                               \n",
      "0.6084735308758521                                                                                                     \n",
      "0.5240105604513509                                                                                                     \n",
      "0.5028644411331896                                                                                                     \n",
      "DecisionTreeClassifier(max_depth=2, min_samples_leaf=9, min_samples_split=3)                                           \n",
      "0.6084735308758521                                                                                                     \n",
      "0.5240105604513509                                                                                                     \n",
      "0.5028644411331896                                                                                                     \n",
      "DecisionTreeClassifier(criterion='entropy', max_depth=6, min_samples_leaf=10,                                          \n",
      "                       min_samples_split=11)\n",
      "0.7600871826094889                                                                                                     \n",
      "0.6757044396250137                                                                                                     \n",
      "0.5831983637053559                                                                                                     \n",
      "DecisionTreeClassifier(criterion='entropy', max_depth=8, min_samples_leaf=10,                                          \n",
      "                       min_samples_split=5)\n",
      "0.812821158640221                                                                                                      \n",
      "0.7460384517066477                                                                                                     \n",
      "0.6415006154615036                                                                                                     \n",
      "DecisionTreeClassifier(max_depth=9, min_samples_leaf=9, min_samples_split=5)                                           \n",
      "0.8356500716936154                                                                                                     \n",
      "0.7634367470911311                                                                                                     \n",
      "0.6187886977204786                                                                                                     \n",
      "DecisionTreeClassifier(max_depth=9, min_samples_leaf=9, min_samples_split=5)                                           \n"
     ]
    },
    {
     "name": "stdout",
     "output_type": "stream",
     "text": [
      "0.8356500716936154                                                                                                     \n",
      "0.7634367470911311                                                                                                     \n",
      "0.6187886977204786                                                                                                     \n",
      "DecisionTreeClassifier(criterion='entropy', max_depth=3, min_samples_leaf=11,                                          \n",
      "                       min_samples_split=3)\n",
      "0.6393245925958245                                                                                                     \n",
      "0.2735156771180787                                                                                                     \n",
      "0.15842349304482226                                                                                                    \n",
      "DecisionTreeClassifier(max_depth=7, min_samples_leaf=8, min_samples_split=9)                                           \n",
      "0.7876143577620486                                                                                                     \n",
      "0.6710085311492935                                                                                                     \n",
      "0.5053771899786208                                                                                                     \n",
      "DecisionTreeClassifier(max_depth=5, min_samples_leaf=10, min_samples_split=8)                                          \n",
      "0.7218704199877437                                                                                                     \n",
      "0.5197275370458523                                                                                                     \n",
      "0.35114161167618396                                                                                                    \n",
      "DecisionTreeClassifier(max_depth=9, min_samples_split=7)                                                               \n",
      "0.8357492329873927                                                                                                     \n",
      "0.7635754292010893                                                                                                     \n",
      "0.6188905033827246                                                                                                     \n",
      "DecisionTreeClassifier(max_depth=9, min_samples_split=7)                                                               \n",
      "0.8357492329873927                                                                                                     \n",
      "0.7635754292010893                                                                                                     \n",
      "0.6188905033827246                                                                                                     \n",
      "DecisionTreeClassifier(max_depth=9, min_samples_split=7)                                                               \n",
      "0.8357492329873927                                                                                                     \n",
      "0.7635754292010893                                                                                                     \n",
      "0.6188905033827246                                                                                                     \n",
      "DecisionTreeClassifier(max_depth=3, min_samples_split=7)                                                               \n",
      "0.6393245925958245                                                                                                     \n",
      "0.2735156771180787                                                                                                     \n",
      "0.15842349304482226                                                                                                    \n",
      "DecisionTreeClassifier(max_depth=5, min_samples_split=7)                                                               \n",
      "0.7218704199877437                                                                                                     \n",
      "0.5197275370458523                                                                                                     \n",
      "0.35114161167618396                                                                                                    \n",
      "DecisionTreeClassifier(max_depth=6, min_samples_leaf=3, min_samples_split=7)                                           \n",
      "0.7601089980941199                                                                                                     \n",
      "0.6757347973878637                                                                                                     \n",
      "0.5832261288859684                                                                                                     \n",
      "DecisionTreeClassifier(max_depth=9, min_samples_leaf=4, min_samples_split=7)                                           \n",
      "0.8357512162132682                                                                                                     \n",
      "0.7635897567645489                                                                                                     \n",
      "0.6189321511536433                                                                                                     \n",
      "DecisionTreeClassifier(max_depth=9, min_samples_leaf=4, min_samples_split=7)                                           \n",
      "0.8357492329873927                                                                                                     \n",
      "0.7635862273705605                                                                                                     \n",
      "0.6189275236235412                                                                                                     \n",
      "DecisionTreeClassifier(max_depth=9, min_samples_leaf=4, min_samples_split=4)                                           \n",
      "0.8357492329873927                                                                                                     \n",
      "0.7635862273705605                                                                                                     \n",
      "0.6189275236235412                                                                                                     \n",
      "DecisionTreeClassifier(max_depth=2, min_samples_leaf=4, min_samples_split=4)                                           \n",
      "0.6084735308758521                                                                                                     \n",
      "0.5240105604513509                                                                                                     \n",
      "0.5028644411331896                                                                                                     \n",
      "100%|███████████████████████████████████████████████| 30/30 [08:13<00:00, 16.46s/trial, best loss: -0.8357512162132682]\n",
      "--- 494.2624294757843 seconds ---\n"
     ]
    }
   ],
   "source": [
    "import warnings\n",
    "warnings.filterwarnings(\"ignore\")\n",
    "\n",
    "start_time = time.time()\n",
    "# Define objectives\n",
    "def objective(params):\n",
    "    classifier_type = params['type']\n",
    "    del params['type']\n",
    "    if classifier_type == 'dt':\n",
    "        clf = DecisionTreeClassifier(**params)\n",
    "    else:\n",
    "        return 0\n",
    "    classifier = clf\n",
    "    print(classifier)\n",
    "    classifier.fit(X_train, y_train)\n",
    "    pr_dt = classifier.predict(X_train)\n",
    "    accuracy = accuracy_score(y_train,pr_dt)\n",
    "    f1 = f1_score(y_train,pr_dt)\n",
    "    recall = recall_score(y_train,pr_dt)\n",
    "    print(accuracy, f1, recall)\n",
    "\n",
    "    # Because fmin() tries to minimize the objective, this function must return the negative accuracy. \n",
    "    return {'loss': -accuracy, 'status': STATUS_OK}\n",
    "\n",
    "# Define search space\n",
    "space = hp.choice('classifier_type', [\n",
    "        {\n",
    "            \"type\": 'dt',\n",
    "            'criterion':hp.choice('criterion',[\"gini\",\"entropy\"]),\n",
    "           'max_depth':hp.choice('max_depth',range(2,10)),\n",
    "           'min_samples_leaf':hp.choice('min_samples_leaf',range(1,12)),\n",
    "           'min_samples_split':hp.choice('min_samples_split',range(2,12))}\n",
    "])\n",
    "    \n",
    "with mlflow.start_run():\n",
    "    best = fmin(\n",
    "    fn=objective, \n",
    "    space=space,\n",
    "    algo=tpe.suggest,\n",
    "    max_evals=30, \n",
    "    verbose = 1,\n",
    "    return_argmin=False)\n",
    "    \n",
    "print(\"--- %s seconds ---\" % (time.time() - start_time))"
   ]
  },
  {
   "cell_type": "code",
   "execution_count": 4,
   "metadata": {},
   "outputs": [
    {
     "name": "stdout",
     "output_type": "stream",
     "text": [
      "{'criterion': 'gini', 'max_depth': 9, 'min_samples_leaf': 4, 'min_samples_split': 7, 'type': 'dt'}\n"
     ]
    }
   ],
   "source": [
    "# Results\n",
    "print(best)"
   ]
  },
  {
   "cell_type": "code",
   "execution_count": 5,
   "metadata": {},
   "outputs": [
    {
     "name": "stdout",
     "output_type": "stream",
     "text": [
      "0.8357512162132682 0.7635897567645489 0.6189321511536433\n",
      "0.8940014119085776\n"
     ]
    }
   ],
   "source": [
    "# Fitting Randomforest to the Training set\n",
    "classifier = DecisionTreeClassifier(criterion = best['criterion'],\n",
    "                            max_depth = best['max_depth'],\n",
    "                            min_samples_leaf = int(best['min_samples_leaf']),\n",
    "                            min_samples_split= int(best['min_samples_split']))\n",
    "classifier.fit(X_train, y_train)\n",
    "pr_dt = classifier.predict(X_train)\n",
    "accuracy = accuracy_score(y_train,pr_dt)\n",
    "f1 = f1_score(y_train,pr_dt)\n",
    "recall = recall_score(y_train,pr_dt)\n",
    "print(accuracy, f1, recall)\n",
    "print(roc_auc_score(y_train, classifier.predict_proba(X_train)[:, 1]))"
   ]
  },
  {
   "cell_type": "markdown",
   "metadata": {},
   "source": [
    "# Results"
   ]
  },
  {
   "cell_type": "code",
   "execution_count": 6,
   "metadata": {},
   "outputs": [
    {
     "name": "stdout",
     "output_type": "stream",
     "text": [
      "Accuracy:0.3056228140973904\n",
      "F1:0.05837285662167092\n",
      "Recall:0.7476635514018691\n"
     ]
    },
    {
     "data": {
      "image/png": "[encoded data removed]",
      "text/plain": [
       "<Figure size 432x288 with 2 Axes>"
      ]
     },
     "metadata": {
      "needs_background": "light"
     },
     "output_type": "display_data"
    },
    {
     "name": "stdout",
     "output_type": "stream",
     "text": [
      "Accuracy:0.11590229581098146\n",
      "F1:0.06516317900899925\n",
      "Recall:0.9100255020720434\n"
     ]
    },
    {
     "data": {
      "image/png": "[encoded data removed]",
      "text/plain": [
       "<Figure size 432x288 with 2 Axes>"
      ]
     },
     "metadata": {
      "needs_background": "light"
     },
     "output_type": "display_data"
    },
    {
     "name": "stdout",
     "output_type": "stream",
     "text": [
      "Accuracy:0.19205278434745215\n",
      "F1:0.03951576572978603\n",
      "Recall:0.797112657901521\n"
     ]
    },
    {
     "data": {
      "image/png": "[encoded data removed]",
      "text/plain": [
       "<Figure size 432x288 with 2 Axes>"
      ]
     },
     "metadata": {
      "needs_background": "light"
     },
     "output_type": "display_data"
    }
   ],
   "source": [
    "# Make confusion matrixes, accuracy, recall and f1 score for testset\n",
    "p_dt = classifier.predict(X_test)\n",
    "print(\"Accuracy:\" + str(classifier.score(X_test, y_test)))\n",
    "print(\"F1:\" + str(f1_score(y_test,p_dt)))\n",
    "print(\"Recall:\" + str(recall_score(y_test,p_dt)))\n",
    "ConfusionMatrixDisplay(confusion_matrix=confusion_matrix(y_test,p_dt),display_labels=classifier.classes_).plot()\n",
    "plt.savefig('New Figures\\con_test_dt_z_smote.png', dpi=300)\n",
    "plt.show()\n",
    "\n",
    "# Make confusion matrixes, accuracy, recall and f1 score for validationset 1\n",
    "pre_dt = classifier.predict(X_val1)\n",
    "print(\"Accuracy:\" + str(classifier.score(X_val1, y_val1)))\n",
    "print(\"F1:\" + str(f1_score(y_val1,pre_dt)))\n",
    "print(\"Recall:\" + str(recall_score(y_val1,pre_dt)))\n",
    "ConfusionMatrixDisplay(confusion_matrix=confusion_matrix(y_val1,pre_dt),display_labels=classifier.classes_).plot()\n",
    "plt.savefig('New Figures\\con_val_dt_z_smote.png', dpi=300)\n",
    "plt.show()\n",
    "\n",
    "\n",
    "# Make confusion matrixes, accuracy, recall and f1 score for validationset 2\n",
    "pred_dt = classifier.predict(X_val2)\n",
    "print(\"Accuracy:\" + str(classifier.score(X_val2, y_val2)))\n",
    "print(\"F1:\" + str(f1_score(y_val2, pred_dt)))\n",
    "print(\"Recall:\" + str(recall_score(y_val2, pred_dt)))\n",
    "ConfusionMatrixDisplay(confusion_matrix=confusion_matrix(y_val2, pred_dt),display_labels=classifier.classes_).plot()\n",
    "plt.savefig('New Figures\\con_val2_dt_z_smote.png', dpi=300)\n",
    "plt.show()\n"
   ]
  },
  {
   "cell_type": "code",
   "execution_count": 7,
   "metadata": {},
   "outputs": [
    {
     "name": "stdout",
     "output_type": "stream",
     "text": [
      "0.5165855489683382\n",
      "0.49910630198248973\n",
      "0.4882735321100659\n"
     ]
    }
   ],
   "source": [
    "print(roc_auc_score(y_test, classifier.predict_proba(X_test)[:, 1]))\n",
    "print(roc_auc_score(y_val1, classifier.predict_proba(X_val1)[:, 1]))\n",
    "print(roc_auc_score(y_val2, classifier.predict_proba(X_val2)[:, 1]))"
   ]
  },
  {
   "cell_type": "code",
   "execution_count": 8,
   "metadata": {},
   "outputs": [
    {
     "data": {
      "image/png": "[encoded data removed]",
      "text/plain": [
       "<Figure size 432x288 with 1 Axes>"
      ]
     },
     "metadata": {
      "needs_background": "light"
     },
     "output_type": "display_data"
    }
   ],
   "source": [
    "# Create feature importance plot\n",
    "feat_importances = pd.Series(classifier.feature_importances_, index=columns)\n",
    "feat_importances.nlargest(20).plot(kind='barh')\n",
    "plt.savefig('New Figures\\import_dt_z_smote.png', dpi=300, bbox_inches = \"tight\")"
   ]
  },
  {
   "cell_type": "markdown",
   "metadata": {},
   "source": [
    "# Make QGIS File"
   ]
  },
  {
   "cell_type": "code",
   "execution_count": 9,
   "metadata": {},
   "outputs": [],
   "source": [
    "# Create Dataframe with TP, TN, FP, FN and gridnumber\n",
    "qgis_koppel_train = []\n",
    "qgis_koppel_test = []\n",
    "qgis_koppel_val1 = []\n",
    "qgis_koppel_val2 = []\n",
    "qgis_train = pd.DataFrame(train.index,columns=[\"id\"])\n",
    "qgis_test = pd.DataFrame(test.index,columns=[\"id\"])\n",
    "qgis_val1 = pd.DataFrame(validation[\"c28992r100\"],columns=[\"c28992r100\"])\n",
    "qgis_val2 = pd.DataFrame(validation2[\"c28992r100\"],columns=[\"c28992r100\"])\n",
    "\n",
    "for y, yt in zip(y_train, pr_dt):\n",
    "    if y == 0 and yt == 0:\n",
    "        qgis_koppel_train.append(\"TN\")\n",
    "    if y == 0 and yt == 1:\n",
    "        qgis_koppel_train.append(\"FN\")\n",
    "    if y == 1 and yt == 0:\n",
    "        qgis_koppel_train.append(\"FP\")\n",
    "    if y == 1 and yt == 1:\n",
    "        qgis_koppel_train.append(\"TP\")\n",
    "\n",
    "for y, yt in zip(y_test.to_numpy(), p_dt):\n",
    "    if y == 0 and yt == 0:\n",
    "        qgis_koppel_test.append(\"TN\")\n",
    "    if y == 0 and yt == 1:\n",
    "        qgis_koppel_test.append(\"FN\")\n",
    "    if y == 1 and yt == 0:\n",
    "        qgis_koppel_test.append(\"FP\")\n",
    "    if y == 1 and yt == 1:\n",
    "        qgis_koppel_test.append(\"TP\")\n",
    "        \n",
    "for y, yt in zip(y_val1.to_numpy(), pre_dt):\n",
    "    if y == 0 and yt == 0:\n",
    "        qgis_koppel_val1.append(\"TN\")\n",
    "    if y == 0 and yt == 1:\n",
    "        qgis_koppel_val1.append(\"FN\")\n",
    "    if y == 1 and yt == 0:\n",
    "        qgis_koppel_val1.append(\"FP\")\n",
    "    if y == 1 and yt == 1:\n",
    "        qgis_koppel_val1.append(\"TP\")\n",
    "\n",
    "for y, yt in zip(y_val2.to_numpy(), pred_dt):\n",
    "    if y == 0 and yt == 0:\n",
    "        qgis_koppel_val2.append(\"TN\")\n",
    "    if y == 0 and yt == 1:\n",
    "        qgis_koppel_val2.append(\"FN\")\n",
    "    if y == 1 and yt == 0:\n",
    "        qgis_koppel_val2.append(\"FP\")\n",
    "    if y == 1 and yt == 1:\n",
    "        qgis_koppel_val2.append(\"TP\")\n",
    "\n",
    "qgis_train[\"label\"] = pd.Series(qgis_koppel_train)\n",
    "qgis_test[\"label\"] = pd.Series(qgis_koppel_test)\n",
    "qgis_val1[\"label\"] = pd.Series(qgis_koppel_val1)\n",
    "qgis_val2[\"label\"] = pd.Series(qgis_koppel_val2)\n",
    "\n",
    "qgis_train.to_csv(\"New Figures\\qgistraindtSZ.csv\", index=False)\n",
    "qgis_test.to_csv(\"New Figures\\qgistestdtSZ.csv\", index=False)\n",
    "qgis_val1.to_csv(\"New Figures\\qgisval1dtSZ.csv\", index=False)\n",
    "qgis_val2.to_csv(\"New Figures\\qgisval2dtSZ.csv\", index=False)"
   ]
  },
  {
   "cell_type": "code",
   "execution_count": null,
   "metadata": {},
   "outputs": [],
   "source": []
  }
 ],
 "metadata": {
  "kernelspec": {
   "display_name": "Python 3",
   "language": "python",
   "name": "python3"
  },
  "language_info": {
   "codemirror_mode": {
    "name": "ipython",
    "version": 3
   },
   "file_extension": ".py",
   "mimetype": "text/x-python",
   "name": "python",
   "nbconvert_exporter": "python",
   "pygments_lexer": "ipython3",
   "version": "3.8.3"
  }
 },
 "nbformat": 4,
 "nbformat_minor": 4
}
