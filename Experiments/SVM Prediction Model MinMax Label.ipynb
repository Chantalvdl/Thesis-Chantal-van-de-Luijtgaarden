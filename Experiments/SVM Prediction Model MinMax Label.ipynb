{
 "cells": [
  {
   "cell_type": "code",
   "execution_count": 1,
   "metadata": {},
   "outputs": [],
   "source": [
    "# Import packages\n",
    "import pandas as pd\n",
    "import numpy as np\n",
    "import math\n",
    "import time\n",
    "\n",
    "from sklearn.svm import SVC\n",
    "from sklearn.metrics import f1_score, accuracy_score, roc_auc_score, recall_score, confusion_matrix, ConfusionMatrixDisplay\n",
    "from sklearn.model_selection import cross_val_score\n",
    "from sklearn.inspection import permutation_importance\n",
    "import matplotlib.pyplot as plt\n",
    "from IPython import display\n",
    "%matplotlib inline\n",
    "\n",
    "from hyperopt import *\n",
    "import pyspark \n",
    "import mlflow\n",
    "\n",
    "import seaborn as sns\n",
    "\n",
    "import warnings"
   ]
  },
  {
   "cell_type": "code",
   "execution_count": 2,
   "metadata": {},
   "outputs": [],
   "source": [
    "# Import Data\n",
    "train = pd.read_csv(\"..\\\\Predictive Models\\\\Datasets\\\\17MinMax_newlabel.csv\", delimiter=',')\n",
    "test = pd.read_csv(\"..\\\\Predictive Models\\\\Datasets\\\\172MinMax_newlabel.csv\", delimiter=',')\n",
    "validation = pd.read_csv(\"..\\\\Predictive Models\\\\Datasets\\\\18MinMax_newlabel.csv\", delimiter=',')\n",
    "validation2 = pd.read_csv(\"..\\\\Predictive Models\\\\Datasets\\\\19MinMax_newlabel.csv\", delimiter=',')\n",
    "\n",
    "# Define X and y\n",
    "X_train = (train.drop(labels=[\"label\",\"c28992r100\"], axis=1))\n",
    "y_train = train[[\"label\"]]\n",
    "X_test = test.drop(labels=[\"label\",\"c28992r100\"], axis=1)\n",
    "y_test =test[[\"label\"]]\n",
    "\n",
    "X_val1 = validation.drop(labels=[\"label\",\"c28992r100\"], axis=1)\n",
    "y_val1 = validation[[\"label\"]]\n",
    "X_val2 = validation2.drop(labels=[\"label\",\"c28992r100\"], axis=1)\n",
    "y_val2 = validation2[[\"label\"]]\n",
    "\n",
    "# Make column list\n",
    "columns = X_train.columns\n",
    "\n",
    "X_train = X_train.to_numpy()\n",
    "y_train = y_train.to_numpy()"
   ]
  },
  {
   "cell_type": "markdown",
   "metadata": {},
   "source": [
    "# Define hyperopt settings"
   ]
  },
  {
   "cell_type": "code",
   "execution_count": 3,
   "metadata": {},
   "outputs": [
    {
     "name": "stdout",
     "output_type": "stream",
     "text": [
      "SVC(C=1000.0, coef0=0.001, degree=5, gamma=1000.0, kernel='linear',                                                    \n",
      "    max_iter=500, probability=True)\n",
      "0.29840517731778                                                                                                       \n",
      "0.06810140985296993                                                                                                    \n",
      "0.7152460087760246                                                                                                     \n",
      "SVC(C=1000.0, coef0=0.1, degree=1, gamma=10.0, kernel='linear', max_iter=500,                                          \n",
      "    probability=True)\n",
      "0.29840517731778                                                                                                       \n",
      "0.06810140985296993                                                                                                    \n",
      "0.7152460087760246                                                                                                     \n",
      "SVC(C=0.1, coef0=0.01, degree=7, gamma=100.0, max_iter=500, probability=True)                                          \n",
      "0.9451014248331895                                                                                                     \n",
      "0.08141097424412094                                                                                                    \n",
      "0.06787414807207544                                                                                                    \n",
      "SVC(coef0=0.1, degree=7, gamma=100.0, kernel='poly', max_iter=500,                                                     \n",
      "    probability=True)\n",
      "0.1639595505317191                                                                                                     \n",
      "0.06874007588916306                                                                                                    \n",
      "0.8608906731397629                                                                                                     \n",
      "SVC(coef0=10.0, gamma=10.0, kernel='linear', max_iter=500, probability=True)                                           \n",
      "0.03700952342709526                                                                                                    \n",
      "0.06919683287189174                                                                                                    \n",
      "0.9986929324992998                                                                                                     \n",
      "SVC(C=0.001, coef0=100.0, degree=4, gamma=10.0, kernel='sigmoid', max_iter=500,                                        \n",
      "    probability=True)\n",
      "0.035841682226728504                                                                                                   \n",
      "0.06920301208516796                                                                                                    \n",
      "1.0                                                                                                                    \n",
      "SVC(coef0=1.0, degree=9, gamma=1.0, kernel='linear', max_iter=500,                                                     \n",
      "    probability=True)\n",
      "0.03700952342709526                                                                                                    \n",
      "0.06919683287189174                                                                                                    \n",
      "0.9986929324992998                                                                                                     \n",
      "SVC(C=0.001, coef0=10.0, degree=2, gamma=0.01, max_iter=500, probability=True)                                         \n",
      "0.04360498189678827                                                                                                    \n",
      "0.06930754326836971                                                                                                    \n",
      "0.9935580244608346                                                                                                     \n",
      "SVC(C=1000.0, coef0=10.0, degree=7, gamma=100.0, kernel='linear', max_iter=500,                                        \n",
      "    probability=True)\n",
      "0.29840517731778                                                                                                       \n",
      "0.06810140985296993                                                                                                    \n",
      "0.7152460087760246                                                                                                     \n",
      "SVC(C=0.1, coef0=1000.0, degree=5, gamma=0.1, kernel='sigmoid', max_iter=500,                                          \n",
      "    probability=True)\n",
      "0.035841682226728504                                                                                                   \n",
      "0.06920301208516796                                                                                                    \n",
      "1.0                                                                                                                    \n",
      "SVC(C=0.1, coef0=10.0, gamma=1.0, kernel='poly', max_iter=500, probability=True)                                       \n",
      "0.19089686188688337                                                                                                    \n",
      "0.06914234237008864                                                                                                    \n",
      "0.838390439734852                                                                                                      \n",
      "SVC(C=0.01, coef0=100.0, gamma=0.01, kernel='poly', max_iter=500,                                                      \n",
      "    probability=True)\n",
      "0.046619953018651995                                                                                                   \n",
      "0.06928655429243434                                                                                                    \n",
      "0.9901036317804126                                                                                                     \n",
      "SVC(C=100.0, coef0=1000.0, degree=2, gamma=0.01, max_iter=500, probability=True)                                       \n",
      "0.047854719216174436                                                                                                   \n",
      "0.06927885228688904                                                                                                    \n",
      "0.9887032023153767                                                                                                     \n",
      "SVC(coef0=0.001, degree=8, gamma=1000.0, max_iter=500, probability=True)                                               \n",
      "0.9658180577027325                                                                                                     \n",
      "0.09013984145363854                                                                                                    \n",
      "0.04724115395387919                                                                                                    \n",
      "SVC(C=0.01, coef0=1000.0, degree=1, gamma=1000.0, kernel='poly', max_iter=500,                                         \n",
      "    probability=True)\n",
      "0.23880846735064012                                                                                                    \n",
      "0.06865265881659324                                                                                                    \n",
      "0.7827467089907572                                                                                                     \n",
      "SVC(C=0.001, coef0=0.001, degree=7, gamma=0.001, max_iter=500, probability=True)                                       \n",
      "0.11150373776109114                                                                                                    \n",
      "0.06908254564833254                                                                                                    \n",
      "0.9198020726356082                                                                                                     \n",
      "SVC(coef0=0.01, degree=1, gamma=100.0, kernel='linear', max_iter=500,                                                  \n",
      "    probability=True)\n",
      "0.03700952342709526                                                                                                    \n"
     ]
    },
    {
     "name": "stdout",
     "output_type": "stream",
     "text": [
      "0.06919683287189174                                                                                                    \n",
      "0.9986929324992998                                                                                                     \n",
      "SVC(C=100.0, coef0=1000.0, degree=6, gamma=1.0, kernel='sigmoid', max_iter=500,                                        \n",
      "    probability=True)\n",
      "0.035841682226728504                                                                                                   \n",
      "0.06920301208516796                                                                                                    \n",
      "1.0                                                                                                                    \n",
      "SVC(coef0=1000.0, gamma=100.0, kernel='linear', max_iter=500, probability=True)                                        \n",
      "0.03700952342709526                                                                                                    \n",
      "0.06919683287189174                                                                                                    \n",
      "0.9986929324992998                                                                                                     \n",
      "SVC(coef0=1.0, degree=4, gamma=10.0, max_iter=500, probability=True)                                                   \n",
      "0.8383861706185878                                                                                                     \n",
      "0.05947303849973709                                                                                                    \n",
      "0.14256371954065913                                                                                                    \n",
      "SVC(C=100.0, coef0=1000.0, degree=6, gamma=0.1, kernel='sigmoid', max_iter=500,                                        \n",
      "    probability=True)\n",
      "0.035841682226728504                                                                                                   \n",
      "0.06920301208516796                                                                                                    \n",
      "1.0                                                                                                                    \n",
      "SVC(C=100.0, coef0=1000.0, degree=6, gamma=0.1, kernel='sigmoid', max_iter=500,                                        \n",
      "    probability=True)\n",
      "0.035841682226728504                                                                                                   \n",
      "0.06920301208516796                                                                                                    \n",
      "1.0                                                                                                                    \n",
      "SVC(C=100.0, coef0=1000.0, degree=6, gamma=0.1, kernel='sigmoid', max_iter=500,                                        \n",
      "    probability=True)\n",
      "0.035841682226728504                                                                                                   \n",
      "0.06920301208516796                                                                                                    \n",
      "1.0                                                                                                                    \n",
      "SVC(C=10.0, coef0=1000.0, degree=6, gamma=0.1, kernel='sigmoid', max_iter=500,                                         \n",
      "    probability=True)\n",
      "0.035841682226728504                                                                                                   \n",
      "0.06920301208516796                                                                                                    \n",
      "1.0                                                                                                                    \n",
      "SVC(C=10.0, coef0=1000.0, degree=6, gamma=0.1, kernel='sigmoid', max_iter=500,                                         \n",
      "    probability=True)\n",
      "0.035841682226728504                                                                                                   \n",
      "0.06920301208516796                                                                                                    \n",
      "1.0                                                                                                                    \n",
      "SVC(C=10.0, coef0=1000.0, degree=6, gamma=0.1, kernel='sigmoid', max_iter=500,                                         \n",
      "    probability=True)\n",
      "0.035841682226728504                                                                                                   \n",
      "0.06920301208516796                                                                                                    \n",
      "1.0                                                                                                                    \n",
      "SVC(C=10.0, coef0=0.1, degree=6, gamma=0.1, kernel='sigmoid', max_iter=500,                                            \n",
      "    probability=True)\n",
      "0.3220363938134533                                                                                                     \n",
      "0.06848735632183908                                                                                                    \n",
      "0.6953599103725142                                                                                                     \n",
      "SVC(C=100.0, coef0=0.01, degree=9, gamma=0.001, kernel='sigmoid', max_iter=500,                                        \n",
      "    probability=True)\n",
      "0.2957582936802725                                                                                                     \n",
      "0.0683249886006968                                                                                                     \n",
      "0.7204742787788255                                                                                                     \n",
      "SVC(C=100.0, coef0=100.0, degree=8, gamma=0.1, kernel='sigmoid', max_iter=500,                                         \n",
      "    probability=True)\n",
      "0.035841682226728504                                                                                                   \n",
      "0.06920301208516796                                                                                                    \n",
      "1.0                                                                                                                    \n",
      "SVC(C=100.0, coef0=100.0, degree=8, gamma=1.0, kernel='sigmoid', max_iter=500,                                         \n",
      "    probability=True)\n",
      "0.035841682226728504                                                                                                   \n",
      "0.06920301208516796                                                                                                    \n",
      "1.0                                                                                                                    \n",
      "100%|█████████████████████████████████████████████████████████| 30/30 [11:55:57<00:00, 1431.93s/trial, best loss: -1.0]\n",
      "--- 42958.63929247856 seconds ---\n"
     ]
    }
   ],
   "source": [
    "import warnings\n",
    "warnings.filterwarnings(\"ignore\")\n",
    "\n",
    "start_time = time.time()\n",
    "# Define objectives\n",
    "def objective(params):\n",
    "    classifier_type = params['type']\n",
    "    del params['type']\n",
    "    if classifier_type == 'svc':\n",
    "        clf = SVC(**params,\n",
    "                  probability=True,\n",
    "                 max_iter = 500)\n",
    "    else:\n",
    "        return 0\n",
    "    classifier = clf\n",
    "    print(classifier)\n",
    "    classifier.fit(X_train, y_train)\n",
    "    pr_svc = classifier.predict(X_train)\n",
    "    accuracy = accuracy_score(y_train,pr_svc)\n",
    "    f1 = f1_score(y_train,pr_svc)\n",
    "    recall = recall_score(y_train,pr_svc)\n",
    "    print(accuracy, f1, recall)\n",
    "\n",
    "    # Because fmin() tries to minimize the objective, this function must return the negative accuracy. \n",
    "    return {'loss': -recall, 'status': STATUS_OK}\n",
    "\n",
    "# Define search space\n",
    "space = hp.choice('classifier_type', [\n",
    "        {\n",
    "            \"type\": 'svc',\n",
    "            'C':hp.choice('C',np.logspace(-3, 3, num=7)),\n",
    "           'kernel':hp.choice('kernel',[\"linear\",\"poly\",\"rbf\",\"sigmoid\"]),\n",
    "           'degree':hp.choice('degree',range(1,10,1)),\n",
    "           'gamma':hp.choice('gamma',np.logspace(-3, 3, num=7)),\n",
    "            'coef0':hp.choice('coef0',np.logspace(-3, 3, num=7))}\n",
    "])\n",
    "    \n",
    "with mlflow.start_run():\n",
    "    best = fmin(\n",
    "    fn=objective, \n",
    "    space=space,\n",
    "    algo=tpe.suggest,\n",
    "    max_evals=30, \n",
    "    verbose = 1,\n",
    "    return_argmin=False)\n",
    "    \n",
    "    \n",
    "print(\"--- %s seconds ---\" % (time.time() - start_time))"
   ]
  },
  {
   "cell_type": "code",
   "execution_count": 4,
   "metadata": {},
   "outputs": [
    {
     "name": "stdout",
     "output_type": "stream",
     "text": [
      "{'C': 0.001, 'coef0': 100.0, 'degree': 4, 'gamma': 10.0, 'kernel': 'sigmoid', 'type': 'svc'}\n"
     ]
    }
   ],
   "source": [
    "# Results\n",
    "print(best)"
   ]
  },
  {
   "cell_type": "code",
   "execution_count": 5,
   "metadata": {},
   "outputs": [
    {
     "name": "stdout",
     "output_type": "stream",
     "text": [
      "0.035841682226728504 0.06920301208516796 1.0\n",
      "0.5\n"
     ]
    }
   ],
   "source": [
    "# Fitting Randomforest to the Training set\n",
    "classifier = SVC(C = best['C'],\n",
    "                 kernel = best['kernel'],\n",
    "                 degree = best['degree'],\n",
    "                 gamma = best['gamma'], \n",
    "                 coef0 = best['coef0'], \n",
    "                 probability=True,\n",
    "                max_iter = 500)\n",
    "classifier.fit(X_train, y_train)\n",
    "pr_svm = classifier.predict(X_train)\n",
    "accuracy = accuracy_score(y_train,pr_svm)\n",
    "f1 = f1_score(y_train,pr_svm)\n",
    "recall = recall_score(y_train,pr_svm)\n",
    "print(accuracy, f1, recall)\n",
    "print(roc_auc_score(y_train, classifier.predict_proba(X_train)[:, 1]))"
   ]
  },
  {
   "cell_type": "markdown",
   "metadata": {},
   "source": [
    "# Results"
   ]
  },
  {
   "cell_type": "code",
   "execution_count": 6,
   "metadata": {},
   "outputs": [
    {
     "name": "stdout",
     "output_type": "stream",
     "text": [
      "Accuracy:0.02878665590529997\n",
      "F1:0.0559623430962343\n",
      "Recall:1.0\n"
     ]
    },
    {
     "data": {
      "image/png": "[encoded data removed]",
      "text/plain": [
       "<Figure size 432x288 with 2 Axes>"
      ]
     },
     "metadata": {
      "needs_background": "light"
     },
     "output_type": "display_data"
    },
    {
     "name": "stdout",
     "output_type": "stream",
     "text": [
      "Accuracy:0.03385970403790733\n",
      "F1:0.06550154514323896\n",
      "Recall:1.0\n"
     ]
    },
    {
     "data": {
      "image/png": "[encoded data removed]",
      "text/plain": [
       "<Figure size 432x288 with 2 Axes>"
      ]
     },
     "metadata": {
      "needs_background": "light"
     },
     "output_type": "display_data"
    },
    {
     "name": "stdout",
     "output_type": "stream",
     "text": [
      "Accuracy:0.020850354762416683\n",
      "F1:0.04084899351828938\n",
      "Recall:1.0\n"
     ]
    },
    {
     "data": {
      "image/png": "[encoded data removed]",
      "text/plain": [
       "<Figure size 432x288 with 2 Axes>"
      ]
     },
     "metadata": {
      "needs_background": "light"
     },
     "output_type": "display_data"
    }
   ],
   "source": [
    "# Make confusion matrixes, accuracy, recall and f1 score for testset\n",
    "p_svm = classifier.predict(X_test)\n",
    "print(\"Accuracy:\" + str(classifier.score(X_test, y_test)))\n",
    "print(\"F1:\" + str(f1_score(y_test,p_svm)))\n",
    "print(\"Recall:\" + str(recall_score(y_test,p_svm)))\n",
    "ConfusionMatrixDisplay(confusion_matrix=confusion_matrix(y_test,p_svm),display_labels=classifier.classes_).plot()\n",
    "plt.savefig('con_test_svm_MM.png', dpi=300)\n",
    "plt.show()\n",
    "\n",
    "# Make confusion matrixes, accuracy, recall and f1 score for validationset 1\n",
    "pre_svm = classifier.predict(X_val1)\n",
    "print(\"Accuracy:\" + str(classifier.score(X_val1, y_val1)))\n",
    "print(\"F1:\" + str(f1_score(y_val1,pre_svm)))\n",
    "print(\"Recall:\" + str(recall_score(y_val1,pre_svm)))\n",
    "ConfusionMatrixDisplay(confusion_matrix=confusion_matrix(y_val1,pre_svm),display_labels=classifier.classes_).plot()\n",
    "plt.savefig('con_val_svm_MM.png', dpi=300)\n",
    "plt.show()\n",
    "\n",
    "\n",
    "# Make confusion matrixes, accuracy, recall and f1 score for validationset 2\n",
    "pred_svm = classifier.predict(X_val2)\n",
    "print(\"Accuracy:\" + str(classifier.score(X_val2, y_val2)))\n",
    "print(\"F1:\" + str(f1_score(y_val2, pred_svm)))\n",
    "print(\"Recall:\" + str(recall_score(y_val2, pred_svm)))\n",
    "ConfusionMatrixDisplay(confusion_matrix=confusion_matrix(y_val2, pred_svm),display_labels=classifier.classes_).plot()\n",
    "plt.savefig('con_val2_svm_MM.png', dpi=300)\n",
    "plt.show()"
   ]
  },
  {
   "cell_type": "code",
   "execution_count": 7,
   "metadata": {},
   "outputs": [
    {
     "name": "stdout",
     "output_type": "stream",
     "text": [
      "0.5\n",
      "0.5\n",
      "0.5\n"
     ]
    }
   ],
   "source": [
    "print(roc_auc_score(y_test, classifier.predict_proba(X_test)[:, 1]))\n",
    "print(roc_auc_score(y_val1, classifier.predict_proba(X_val1)[:, 1]))\n",
    "print(roc_auc_score(y_val2, classifier.predict_proba(X_val2)[:, 1]))"
   ]
  },
  {
   "cell_type": "code",
   "execution_count": 8,
   "metadata": {},
   "outputs": [
    {
     "data": {
      "image/png": "[encoded data removed]",
      "text/plain": [
       "<Figure size 720x576 with 1 Axes>"
      ]
     },
     "metadata": {
      "needs_background": "light"
     },
     "output_type": "display_data"
    }
   ],
   "source": [
    "# Create feature importance plot\n",
    "perm_importance = permutation_importance(classifier, X_test, y_test)\n",
    "\n",
    "feature_names = columns\n",
    "features = np.array(feature_names)\n",
    "\n",
    "sorted_idx = perm_importance.importances_mean.argsort()\n",
    "plt.figure(figsize=(10,8)) \n",
    "plt.barh(features[sorted_idx], perm_importance.importances_mean[sorted_idx])\n",
    "plt.xlabel(\"Permutation Importance\")\n",
    "plt.savefig('import_svm_MM.png', dpi=300, bbox_inches = \"tight\")"
   ]
  },
  {
   "cell_type": "markdown",
   "metadata": {},
   "source": [
    "# Make QGIS File"
   ]
  },
  {
   "cell_type": "code",
   "execution_count": 9,
   "metadata": {},
   "outputs": [],
   "source": [
    "# Create Dataframe with TP, TN, FP, FN and gridnumber\n",
    "qgis_koppel_train = []\n",
    "qgis_koppel_test = []\n",
    "qgis_koppel_val1 = []\n",
    "qgis_koppel_val2 = []\n",
    "qgis_train = pd.DataFrame(train[\"c28992r100\"],columns=[\"c28992r100\"])\n",
    "qgis_test = pd.DataFrame(test[\"c28992r100\"],columns=[\"c28992r100\"])\n",
    "qgis_val1 = pd.DataFrame(validation[\"c28992r100\"],columns=[\"c28992r100\"])\n",
    "qgis_val2 = pd.DataFrame(validation2[\"c28992r100\"],columns=[\"c28992r100\"])\n",
    "\n",
    "for y, yt in zip(y_train, pr_svm):\n",
    "    if y == 0 and yt == 0:\n",
    "        qgis_koppel_train.append(\"TN\")\n",
    "    if y == 0 and yt == 1:\n",
    "        qgis_koppel_train.append(\"FN\")\n",
    "    if y == 1 and yt == 0:\n",
    "        qgis_koppel_train.append(\"FP\")\n",
    "    if y == 1 and yt == 1:\n",
    "        qgis_koppel_train.append(\"TP\")\n",
    "\n",
    "for y, yt in zip(y_test.to_numpy(), p_svm):\n",
    "    if y == 0 and yt == 0:\n",
    "        qgis_koppel_test.append(\"TN\")\n",
    "    if y == 0 and yt == 1:\n",
    "        qgis_koppel_test.append(\"FN\")\n",
    "    if y == 1 and yt == 0:\n",
    "        qgis_koppel_test.append(\"FP\")\n",
    "    if y == 1 and yt == 1:\n",
    "        qgis_koppel_test.append(\"TP\")\n",
    "        \n",
    "for y, yt in zip(y_val1.to_numpy(), pre_svm):\n",
    "    if y == 0 and yt == 0:\n",
    "        qgis_koppel_val1.append(\"TN\")\n",
    "    if y == 0 and yt == 1:\n",
    "        qgis_koppel_val1.append(\"FN\")\n",
    "    if y == 1 and yt == 0:\n",
    "        qgis_koppel_val1.append(\"FP\")\n",
    "    if y == 1 and yt == 1:\n",
    "        qgis_koppel_val1.append(\"TP\")\n",
    "\n",
    "for y, yt in zip(y_val2.to_numpy(), pred_svm):\n",
    "    if y == 0 and yt == 0:\n",
    "        qgis_koppel_val2.append(\"TN\")\n",
    "    if y == 0 and yt == 1:\n",
    "        qgis_koppel_val2.append(\"FN\")\n",
    "    if y == 1 and yt == 0:\n",
    "        qgis_koppel_val2.append(\"FP\")\n",
    "    if y == 1 and yt == 1:\n",
    "        qgis_koppel_val2.append(\"TP\")\n",
    "\n",
    "qgis_train[\"label\"] = pd.Series(qgis_koppel_train)\n",
    "qgis_test[\"label\"] = pd.Series(qgis_koppel_test)\n",
    "qgis_val1[\"label\"] = pd.Series(qgis_koppel_val1)\n",
    "qgis_val2[\"label\"] = pd.Series(qgis_koppel_val2)\n",
    "\n",
    "qgis_train.to_csv(\"qgistrainsvmMM.csv\", index=False)\n",
    "qgis_test.to_csv(\"qgistestsvmMM.csv\", index=False)\n",
    "qgis_val1.to_csv(\"qgisval1svmMM.csv\", index=False)\n",
    "qgis_val2.to_csv(\"qgisval2svmMM.csv\", index=False)"
   ]
  },
  {
   "cell_type": "code",
   "execution_count": null,
   "metadata": {},
   "outputs": [],
   "source": []
  }
 ],
 "metadata": {
  "kernelspec": {
   "display_name": "Python 3",
   "language": "python",
   "name": "python3"
  },
  "language_info": {
   "codemirror_mode": {
    "name": "ipython",
    "version": 3
   },
   "file_extension": ".py",
   "mimetype": "text/x-python",
   "name": "python",
   "nbconvert_exporter": "python",
   "pygments_lexer": "ipython3",
   "version": "3.8.3"
  }
 },
 "nbformat": 4,
 "nbformat_minor": 4
}
