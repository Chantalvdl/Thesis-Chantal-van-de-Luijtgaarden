{
 "cells": [
  {
   "cell_type": "code",
   "execution_count": 1,
   "metadata": {},
   "outputs": [],
   "source": [
    "# Import packages\n",
    "import pandas as pd\n",
    "import numpy as np\n",
    "import math\n",
    "import time\n",
    "\n",
    "from sklearn.ensemble import RandomForestClassifier\n",
    "from sklearn.metrics import f1_score, accuracy_score, roc_auc_score, recall_score, confusion_matrix, ConfusionMatrixDisplay\n",
    "from sklearn.model_selection import cross_val_score\n",
    "import matplotlib.pyplot as plt\n",
    "from IPython import display\n",
    "%matplotlib inline\n",
    "\n",
    "from hyperopt import *\n",
    "import pyspark \n",
    "import mlflow\n",
    "\n",
    "import seaborn as sns\n",
    "\n",
    "import warnings"
   ]
  },
  {
   "cell_type": "code",
   "execution_count": 2,
   "metadata": {},
   "outputs": [],
   "source": [
    "# Import Data\n",
    "train = pd.read_csv(\"..\\\\Data\\\\final_17_new.csv\", delimiter=',')\n",
    "test = pd.read_csv(\"..\\\\Predictive Models\\\\Datasets\\\\172_newlabel.csv\", delimiter=',')\n",
    "validation = pd.read_csv(\"..\\\\Data\\\\final_18_new.csv\", delimiter=',')\n",
    "validation2 = pd.read_csv(\"..\\\\Data\\\\final_19_new.csv\", delimiter=',')\n",
    "\n",
    "# Define X and y\n",
    "X_train = (train.drop(labels=[\"label\",\"c28992r100\",\"WONING\",\"row\",\"column\"], axis=1))\n",
    "y_train = train[[\"label\"]]\n",
    "X_test = test.drop(labels=[\"label\",\"c28992r100\",\"WONING\",\"row\",\"column\"], axis=1)\n",
    "y_test =test[[\"label\"]]\n",
    "\n",
    "X_val1 = validation.drop(labels=[\"label\",\"c28992r100\",\"WONING\",\"row\",\"column\"], axis=1)\n",
    "y_val1 = validation[[\"label\"]]\n",
    "X_val2 = validation2.drop(labels=[\"label\",\"c28992r100\",\"WONING\",\"row\",\"column\"], axis=1)\n",
    "y_val2 = validation2[[\"label\"]]\n",
    "\n",
    "# Make column list\n",
    "columns = X_train.columns\n",
    "\n",
    "X_train = X_train.to_numpy()\n",
    "y_train = y_train.to_numpy()"
   ]
  },
  {
   "cell_type": "markdown",
   "metadata": {},
   "source": [
    "# Define hyperopt settings"
   ]
  },
  {
   "cell_type": "code",
   "execution_count": 3,
   "metadata": {},
   "outputs": [
    {
     "name": "stdout",
     "output_type": "stream",
     "text": [
      "RandomForestClassifier(max_depth=6, max_features=1.0, min_samples_leaf=9,                                              \n",
      "                       min_samples_split=9, n_estimators=350, n_jobs=-1)\n",
      "0.9650339417096866                                                                                                     \n",
      "0.0                                                                                                                    \n",
      "0.0                                                                                                                    \n",
      "RandomForestClassifier(max_depth=8, max_features=1.0, min_samples_split=7,                                             \n",
      "                       n_estimators=200, n_jobs=-1)\n",
      "0.9650556210452149                                                                                                     \n",
      "0.0012392533498567111                                                                                                  \n",
      "0.0006200108501898783                                                                                                  \n",
      "RandomForestClassifier(max_depth=8, max_features=1.0, min_samples_leaf=9,                                              \n",
      "                       min_samples_split=5, n_estimators=200, n_jobs=-1)\n",
      "0.9650474912943918                                                                                                     \n",
      "0.0007747133560582583                                                                                                  \n",
      "0.00038750678136867395                                                                                                 \n",
      "RandomForestClassifier(max_depth=9, max_features=1.0, min_samples_leaf=4,                                              \n",
      "                       min_samples_split=7, n_estimators=300, n_jobs=-1)\n",
      "0.9650502012113329                                                                                                     \n",
      "0.000929584011155008                                                                                                   \n",
      "0.00046500813764240875                                                                                                 \n",
      "RandomForestClassifier(max_depth=9, max_features=1.0, min_samples_leaf=9,                                              \n",
      "                       min_samples_split=5, n_estimators=200, n_jobs=-1)\n",
      "0.9650474912943918                                                                                                     \n",
      "0.0007747133560582583                                                                                                  \n",
      "0.00038750678136867395                                                                                                 \n",
      "RandomForestClassifier(max_depth=3, max_features=1.0, min_samples_leaf=4,                                              \n",
      "                       min_samples_split=9, n_estimators=150, n_jobs=-1)\n",
      "0.9650339417096866                                                                                                     \n",
      "0.0                                                                                                                    \n",
      "0.0                                                                                                                    \n",
      "RandomForestClassifier(max_depth=2, max_features=1.0, min_samples_leaf=2,                                              \n",
      "                       min_samples_split=4, n_estimators=200, n_jobs=-1)\n",
      "0.9650339417096866                                                                                                     \n",
      "0.0                                                                                                                    \n",
      "0.0                                                                                                                    \n",
      "RandomForestClassifier(max_depth=9, max_features=1.0, min_samples_split=9,                                             \n",
      "                       n_estimators=300, n_jobs=-1)\n",
      "0.965052911128274                                                                                                      \n",
      "0.0010844306738962044                                                                                                  \n",
      "0.0005425094939161435                                                                                                  \n",
      "RandomForestClassifier(max_depth=4, max_features=1.0, min_samples_leaf=2,                                              \n",
      "                       min_samples_split=6, n_estimators=200, n_jobs=-1)\n",
      "0.9650339417096866                                                                                                     \n",
      "0.0                                                                                                                    \n",
      "0.0                                                                                                                    \n",
      "RandomForestClassifier(max_depth=7, max_features=1.0, min_samples_leaf=9,                                              \n",
      "                       min_samples_split=4, n_estimators=300, n_jobs=-1)\n",
      "0.9650339417096866                                                                                                     \n",
      "0.0                                                                                                                    \n",
      "0.0                                                                                                                    \n",
      "RandomForestClassifier(max_depth=2, max_features=1.0, min_samples_leaf=7,                                              \n",
      "                       min_samples_split=8, n_estimators=50, n_jobs=-1)\n",
      "0.9650339417096866                                                                                                     \n",
      "0.0                                                                                                                    \n",
      "0.0                                                                                                                    \n",
      "RandomForestClassifier(max_depth=8, max_features=1.0, min_samples_leaf=7,                                              \n",
      "                       min_samples_split=3, n_estimators=200, n_jobs=-1)\n",
      "0.9650474912943918                                                                                                     \n",
      "0.0007747133560582583                                                                                                  \n",
      "0.00038750678136867395                                                                                                 \n",
      "RandomForestClassifier(max_depth=4, max_features=1.0, min_samples_leaf=4,                                              \n",
      "                       n_estimators=150, n_jobs=-1)\n",
      "0.9650339417096866                                                                                                     \n",
      "0.0                                                                                                                    \n",
      "0.0                                                                                                                    \n",
      "RandomForestClassifier(max_depth=4, max_features=1.0, min_samples_leaf=7,                                              \n",
      "                       min_samples_split=7, n_estimators=300, n_jobs=-1)\n",
      "0.9650339417096866                                                                                                     \n",
      "0.0                                                                                                                    \n",
      "0.0                                                                                                                    \n",
      "RandomForestClassifier(max_depth=4, max_features=1.0, min_samples_leaf=6,                                              \n",
      "                       min_samples_split=7, n_estimators=150, n_jobs=-1)\n",
      "0.9650339417096866                                                                                                     \n",
      "0.0                                                                                                                    \n"
     ]
    },
    {
     "name": "stdout",
     "output_type": "stream",
     "text": [
      "0.0                                                                                                                    \n",
      "RandomForestClassifier(max_depth=9, max_features=1.0, min_samples_leaf=7,                                              \n",
      "                       min_samples_split=6, n_estimators=300, n_jobs=-1)\n",
      "0.9650474912943918                                                                                                     \n",
      "0.0007747133560582583                                                                                                  \n",
      "0.00038750678136867395                                                                                                 \n",
      "RandomForestClassifier(max_depth=9, max_features=1.0, min_samples_leaf=2,                                              \n",
      "                       min_samples_split=5, n_estimators=250, n_jobs=-1)\n",
      "0.9650502012113329                                                                                                     \n",
      "0.000929584011155008                                                                                                   \n",
      "0.00046500813764240875                                                                                                 \n",
      "RandomForestClassifier(max_depth=8, max_features=1.0, min_samples_leaf=2,                                              \n",
      "                       min_samples_split=3, n_estimators=50, n_jobs=-1)\n",
      "0.965052911128274                                                                                                      \n",
      "0.0010844306738962044                                                                                                  \n",
      "0.0005425094939161435                                                                                                  \n",
      "RandomForestClassifier(max_depth=3, max_features=1.0, min_samples_leaf=2,                                              \n",
      "                       min_samples_split=8, n_jobs=-1)\n",
      "0.9650339417096866                                                                                                     \n",
      "0.0                                                                                                                    \n",
      "0.0                                                                                                                    \n",
      "RandomForestClassifier(max_depth=9, max_features=1.0, min_samples_leaf=2,                                              \n",
      "                       min_samples_split=3, n_estimators=250, n_jobs=-1)\n",
      "0.965052911128274                                                                                                      \n",
      "0.0010844306738962044                                                                                                                                             \n",
      "0.0005425094939161435                                                                                                                                             \n",
      "RandomForestClassifier(max_depth=5, max_features=1.0, min_samples_split=3,                                                                                        \n",
      "                       n_estimators=250, n_jobs=-1)\n",
      "0.9650339417096866                                                                                                                                                \n",
      "0.0                                                                                                                                                               \n",
      "0.0                                                                                                                                                               \n",
      "RandomForestClassifier(max_depth=8, max_features=1.0, min_samples_leaf=3,                                                                                         \n",
      "                       min_samples_split=7, n_estimators=50, n_jobs=-1)\n",
      "0.9650474912943918                                                                                                                                                \n",
      "0.0007747133560582583                                                                                                                                             \n",
      "0.00038750678136867395                                                                                                                                            \n",
      "RandomForestClassifier(max_depth=5, max_features=1.0, min_samples_leaf=5,                                                                                         \n",
      "                       n_estimators=250, n_jobs=-1)\n",
      "0.9650339417096866                                                                                                                                                \n",
      "0.0                                                                                                                                                               \n",
      "0.0                                                                                                                                                               \n",
      "RandomForestClassifier(max_depth=6, max_features=1.0, min_samples_leaf=8,                                                                                         \n",
      "                       min_samples_split=3, n_jobs=-1)\n",
      "0.9650339417096866                                                                                                                                                \n",
      "0.0                                                                                                                                                               \n",
      "0.0                                                                                                                                                               \n",
      "RandomForestClassifier(max_depth=7, max_features=1.0, min_samples_split=9,                                                                                        \n",
      "                       n_estimators=350, n_jobs=-1)\n",
      "0.9650339417096866                                                                                                                                                \n",
      "0.0                                                                                                                                                               \n",
      "0.0                                                                                                                                                               \n",
      "RandomForestClassifier(max_depth=8, max_features=1.0, min_samples_split=9,                                                                                        \n",
      "                       n_estimators=300, n_jobs=-1)\n",
      "0.965052911128274                                                                                                                                                 \n",
      "0.0010844306738962044                                                                                                                                             \n",
      "0.0005425094939161435                                                                                                                                             \n",
      "RandomForestClassifier(max_depth=8, max_features=1.0, min_samples_split=9,                                                                                        \n",
      "                       n_jobs=-1)\n",
      "0.9650447813774508                                                                                                                                                \n",
      "0.000619818703029364                                                                                                                                              \n",
      "0.00031000542509493915                                                                                                                                            \n",
      "RandomForestClassifier(max_depth=8, max_features=1.0, min_samples_leaf=6,                                                                                         \n",
      "                       min_samples_split=7, n_estimators=50, n_jobs=-1)\n"
     ]
    },
    {
     "name": "stdout",
     "output_type": "stream",
     "text": [
      "0.9650420714605097                                                                                                                                                \n",
      "0.0004649000464900047                                                                                                                                             \n",
      "0.00023250406882120437                                                                                                                                            \n",
      "RandomForestClassifier(max_depth=6, max_features=1.0, min_samples_leaf=8,                                                                                         \n",
      "                       min_samples_split=3, n_estimators=50, n_jobs=-1)\n",
      "0.9650339417096866                                                                                                                                                \n",
      "0.0                                                                                                                                                               \n",
      "0.0                                                                                                                                                               \n",
      "RandomForestClassifier(max_depth=7, max_features=1.0, min_samples_leaf=3,                                                                                         \n",
      "                       min_samples_split=4, n_estimators=250, n_jobs=-1)\n",
      "0.9650447813774508                                                                                                                                                \n",
      "0.000619818703029364                                                                                                                                              \n",
      "0.00031000542509493915                                                                                                                                            \n",
      "100%|████████████████████████████████████████████████████████████████████████████████████| 30/30 [2:34:06<00:00, 308.23s/trial, best loss: -0.0006200108501898783]\n",
      "--- 9247.903550386429 seconds ---\n"
     ]
    }
   ],
   "source": [
    "import warnings\n",
    "warnings.filterwarnings(\"ignore\")\n",
    "\n",
    "start_time = time.time()\n",
    "# Define objectives\n",
    "def objective(params):\n",
    "    classifier_type = params['type']\n",
    "    del params['type']\n",
    "    if classifier_type == 'rf':\n",
    "        clf = RandomForestClassifier(**params,\n",
    "                                     max_features = 1.0,\n",
    "                                     n_jobs=-1)\n",
    "    else:\n",
    "        return 0\n",
    "    classifier = clf\n",
    "    print(classifier)\n",
    "    classifier.fit(X_train, y_train)\n",
    "    pr_rf = classifier.predict(X_train)\n",
    "    accuracy = accuracy_score(y_train,pr_rf)\n",
    "    f1 = f1_score(y_train,pr_rf)\n",
    "    recall = recall_score(y_train,pr_rf)\n",
    "    print(accuracy, f1, recall)\n",
    "\n",
    "    # Because fmin() tries to minimize the objective, this function must return the negative accuracy. \n",
    "    return {'loss': -recall, 'status': STATUS_OK}\n",
    "\n",
    "# Define search space\n",
    "space = hp.choice('classifier_type', [\n",
    "        {\n",
    "            \"type\": 'rf',\n",
    "            'n_estimators':hp.choice('n_estimators',range(50,400,50)),\n",
    "           'max_depth':hp.choice('max_depth',range(2,10)),\n",
    "           'min_samples_leaf':hp.choice('min_samples_leaf',range(1,10)),\n",
    "           'min_samples_split':hp.choice('min_samples_split',range(2,10))}\n",
    "])\n",
    "    \n",
    "with mlflow.start_run():\n",
    "    best = fmin(\n",
    "    fn=objective, \n",
    "    space=space,\n",
    "    algo=tpe.suggest,\n",
    "    max_evals=30, \n",
    "    verbose = 1,\n",
    "    return_argmin=False)\n",
    "    \n",
    "print(\"--- %s seconds ---\" % (time.time() - start_time))"
   ]
  },
  {
   "cell_type": "code",
   "execution_count": 4,
   "metadata": {},
   "outputs": [
    {
     "name": "stdout",
     "output_type": "stream",
     "text": [
      "{'max_depth': 8, 'min_samples_leaf': 1, 'min_samples_split': 7, 'n_estimators': 200, 'type': 'rf'}\n"
     ]
    }
   ],
   "source": [
    "# Results\n",
    "print(best)"
   ]
  },
  {
   "cell_type": "code",
   "execution_count": 5,
   "metadata": {},
   "outputs": [
    {
     "name": "stdout",
     "output_type": "stream",
     "text": [
      "0.9650502012113329 0.000929584011155008 0.00046500813764240875\n",
      "0.598539263659325\n"
     ]
    }
   ],
   "source": [
    "# Fitting Randomforest to the Training set\n",
    "classifier = RandomForestClassifier(n_estimators = best['n_estimators'],\n",
    "                            max_depth = best['max_depth'],\n",
    "                            min_samples_leaf = int(best['min_samples_leaf']),\n",
    "                            min_samples_split= int(best['min_samples_split']),\n",
    "                           n_jobs = -1,\n",
    "                            max_features = 1.0)\n",
    "classifier.fit(X_train, y_train)\n",
    "pr_rf = classifier.predict(X_train)\n",
    "accuracy = accuracy_score(y_train,pr_rf)\n",
    "f1 = f1_score(y_train,pr_rf)\n",
    "recall = recall_score(y_train,pr_rf)\n",
    "print(accuracy, f1, recall)\n",
    "print(roc_auc_score(y_train, classifier.predict_proba(X_train)[:, 1]))"
   ]
  },
  {
   "cell_type": "markdown",
   "metadata": {},
   "source": [
    "# Results"
   ]
  },
  {
   "cell_type": "code",
   "execution_count": 6,
   "metadata": {},
   "outputs": [
    {
     "name": "stdout",
     "output_type": "stream",
     "text": [
      "Accuracy:0.9630362320804314\n",
      "F1:0.0\n",
      "Recall:0.0\n"
     ]
    },
    {
     "data": {
      "image/png": "[encoded data removed]",
      "text/plain": [
       "<Figure size 432x288 with 2 Axes>"
      ]
     },
     "metadata": {
      "needs_background": "light"
     },
     "output_type": "display_data"
    },
    {
     "name": "stdout",
     "output_type": "stream",
     "text": [
      "Accuracy:0.9661322007188576\n",
      "F1:0.0\n",
      "Recall:0.0\n"
     ]
    },
    {
     "data": {
      "image/png": "[encoded data removed]",
      "text/plain": [
       "<Figure size 432x288 with 2 Axes>"
      ]
     },
     "metadata": {
      "needs_background": "light"
     },
     "output_type": "display_data"
    },
    {
     "name": "stdout",
     "output_type": "stream",
     "text": [
      "Accuracy:0.9790717050096753\n",
      "F1:0.0\n",
      "Recall:0.0\n"
     ]
    },
    {
     "data": {
      "image/png": "[encoded data removed]",
      "text/plain": [
       "<Figure size 432x288 with 2 Axes>"
      ]
     },
     "metadata": {
      "needs_background": "light"
     },
     "output_type": "display_data"
    }
   ],
   "source": [
    "# Make confusion matrixes, accuracy, recall and f1 score for testset\n",
    "p_rf = classifier.predict(X_test)\n",
    "print(\"Accuracy:\" + str(classifier.score(X_test, y_test)))\n",
    "print(\"F1:\" + str(f1_score(y_test,p_rf)))\n",
    "print(\"Recall:\" + str(recall_score(y_test,p_rf)))\n",
    "ConfusionMatrixDisplay(confusion_matrix=confusion_matrix(y_test,p_rf),display_labels=classifier.classes_).plot()\n",
    "plt.savefig('New Figures\\con_test_rf_base.png', dpi=300)\n",
    "plt.show()\n",
    "\n",
    "# Make confusion matrixes, accuracy, recall and f1 score for validationset 1\n",
    "pre_rf = classifier.predict(X_val1)\n",
    "print(\"Accuracy:\" + str(classifier.score(X_val1, y_val1)))\n",
    "print(\"F1:\" + str(f1_score(y_val1,pre_rf)))\n",
    "print(\"Recall:\" + str(recall_score(y_val1,pre_rf)))\n",
    "ConfusionMatrixDisplay(confusion_matrix=confusion_matrix(y_val1,pre_rf),display_labels=classifier.classes_).plot()\n",
    "plt.savefig('New Figures\\con_val_rf_base.png', dpi=300)\n",
    "plt.show()\n",
    "\n",
    "\n",
    "# Make confusion matrixes, accuracy, recall and f1 score for validationset 2\n",
    "pred_rf = classifier.predict(X_val2)\n",
    "print(\"Accuracy:\" + str(classifier.score(X_val2, y_val2)))\n",
    "print(\"F1:\" + str(f1_score(y_val2, pred_rf)))\n",
    "print(\"Recall:\" + str(recall_score(y_val2, pred_rf)))\n",
    "ConfusionMatrixDisplay(confusion_matrix=confusion_matrix(y_val2, pred_rf),display_labels=classifier.classes_).plot()\n",
    "plt.savefig('New Figures\\con_val2_rf_base.png', dpi=300)\n",
    "plt.show()"
   ]
  },
  {
   "cell_type": "code",
   "execution_count": 7,
   "metadata": {},
   "outputs": [
    {
     "name": "stdout",
     "output_type": "stream",
     "text": [
      "0.6003431267415557\n",
      "0.5231507543264898\n",
      "0.5224159790321947\n"
     ]
    }
   ],
   "source": [
    "print(roc_auc_score(y_test, classifier.predict_proba(X_test)[:, 1]))\n",
    "print(roc_auc_score(y_val1, classifier.predict_proba(X_val1)[:, 1]))\n",
    "print(roc_auc_score(y_val2, classifier.predict_proba(X_val2)[:, 1]))"
   ]
  },
  {
   "cell_type": "code",
   "execution_count": 8,
   "metadata": {},
   "outputs": [
    {
     "data": {
      "image/png": "[encoded data removed]",
      "text/plain": [
       "<Figure size 432x288 with 1 Axes>"
      ]
     },
     "metadata": {
      "needs_background": "light"
     },
     "output_type": "display_data"
    }
   ],
   "source": [
    "# Create feature importance plot\n",
    "feat_importances = pd.Series(classifier.feature_importances_, index=columns)\n",
    "feat_importances.nlargest(20).plot(kind='barh')\n",
    "plt.savefig('New Figures\\import_rf_base.png', dpi=300, bbox_inches = \"tight\")"
   ]
  },
  {
   "cell_type": "markdown",
   "metadata": {},
   "source": [
    "# Make QGIS File"
   ]
  },
  {
   "cell_type": "code",
   "execution_count": 9,
   "metadata": {},
   "outputs": [
    {
     "ename": "IndentationError",
     "evalue": "unexpected indent (<ipython-input-9-ba2dc7c17460>, line 45)",
     "output_type": "error",
     "traceback": [
      "\u001b[1;36m  File \u001b[1;32m\"<ipython-input-9-ba2dc7c17460>\"\u001b[1;36m, line \u001b[1;32m45\u001b[0m\n\u001b[1;33m    qgis_koppel_val2.append(\"FN\")\u001b[0m\n\u001b[1;37m    ^\u001b[0m\n\u001b[1;31mIndentationError\u001b[0m\u001b[1;31m:\u001b[0m unexpected indent\n"
     ]
    }
   ],
   "source": [
    "# Create Dataframe with TP, TN, FP, FN and gridnumber\n",
    "qgis_koppel_train = []\n",
    "qgis_koppel_test = []\n",
    "qgis_koppel_val1 = []\n",
    "qgis_koppel_val2 = []\n",
    "qgis_train = pd.DataFrame(train[\"c28992r100\"],columns=[\"c28992r100\"])\n",
    "qgis_test = pd.DataFrame(test[\"c28992r100\"],columns=[\"c28992r100\"])\n",
    "qgis_val1 = pd.DataFrame(validation[\"c28992r100\"],columns=[\"c28992r100\"])\n",
    "qgis_val2 = pd.DataFrame(validation2[\"c28992r100\"],columns=[\"c28992r100\"])\n",
    "\n",
    "for y, yt in zip(y_train, pr_rf):\n",
    "    if y == 0 and yt == 0:\n",
    "        qgis_koppel_train.append(\"TN\")\n",
    "    if y == 0 and yt == 1:\n",
    "        qgis_koppel_train.append(\"FN\")\n",
    "    if y == 1 and yt == 0:\n",
    "        qgis_koppel_train.append(\"FP\")\n",
    "    if y == 1 and yt == 1:\n",
    "        qgis_koppel_train.append(\"TP\")\n",
    "\n",
    "for y, yt in zip(y_test.to_numpy(), p_rf):\n",
    "    if y == 0 and yt == 0:\n",
    "        qgis_koppel_test.append(\"TN\")\n",
    "    if y == 0 and yt == 1:\n",
    "        qgis_koppel_test.append(\"FN\")\n",
    "    if y == 1 and yt == 0:\n",
    "        qgis_koppel_test.append(\"FP\")\n",
    "    if y == 1 and yt == 1:\n",
    "        qgis_koppel_test.append(\"TP\")\n",
    "        \n",
    "for y, yt in zip(y_val1.to_numpy(), pre_rf):\n",
    "    if y == 0 and yt == 0:\n",
    "        qgis_koppel_val1.append(\"TN\")\n",
    "    if y == 0 and yt == 1:\n",
    "        qgis_koppel_val1.append(\"FN\")\n",
    "    if y == 1 and yt == 0:\n",
    "        qgis_koppel_val1.append(\"FP\")\n",
    "    if y == 1 and yt == 1:\n",
    "        qgis_koppel_val1.append(\"TP\")\n",
    "\n",
    "for y, yt in zip(y_val2.to_numpy(), pred_rf):\n",
    "    if y == 0 and yt == 0:\n",
    "        qgis_koppel_val2.append(\"TN\")\n",
    "    if y == 0 and yt == 1:l\n",
    "        qgis_koppel_val2.append(\"FN\")\n",
    "    if y == 1 and yt == 0:\n",
    "        qgis_koppel_val2.append(\"FP\")\n",
    "    if y == 1 and yt == 1:\n",
    "        qgis_koppel_val2.append(\"TP\")\n",
    "\n",
    "qgis_train[\"label\"] = pd.Series(qgis_koppel_train)\n",
    "qgis_test[\"label\"] = pd.Series(qgis_koppel_test)\n",
    "qgis_val1[\"label\"] = pd.Series(qgis_koppel_val1)\n",
    "qgis_val2[\"label\"] = pd.Series(qgis_koppel_val2)\n",
    "\n",
    "qgis_train.to_csv(\"New Figures\\qgistrainrf.csv\", index=False)\n",
    "qgis_test.to_csv(\"New Figures\\qgistestrf.csv\", index=False)\n",
    "qgis_val1.to_csv(\"New Figures\\qgisval1rf.csv\", index=False)\n",
    "qgis_val2.to_csv(\"New Figures\\qgisval2rf.csv\", index=False)"
   ]
  },
  {
   "cell_type": "code",
   "execution_count": null,
   "metadata": {},
   "outputs": [],
   "source": []
  }
 ],
 "metadata": {
  "kernelspec": {
   "display_name": "Python 3",
   "language": "python",
   "name": "python3"
  },
  "language_info": {
   "codemirror_mode": {
    "name": "ipython",
    "version": 3
   },
   "file_extension": ".py",
   "mimetype": "text/x-python",
   "name": "python",
   "nbconvert_exporter": "python",
   "pygments_lexer": "ipython3",
   "version": "3.8.3"
  }
 },
 "nbformat": 4,
 "nbformat_minor": 4
}
