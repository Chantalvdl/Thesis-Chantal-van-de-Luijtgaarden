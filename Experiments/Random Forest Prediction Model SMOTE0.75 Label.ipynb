{
 "cells": [
  {
   "cell_type": "code",
   "execution_count": 1,
   "metadata": {},
   "outputs": [],
   "source": [
    "# Import packages\n",
    "import pandas as pd\n",
    "import numpy as np\n",
    "import math\n",
    "import time\n",
    "\n",
    "from sklearn.ensemble import RandomForestClassifier\n",
    "from sklearn.metrics import f1_score, accuracy_score, roc_auc_score, recall_score, confusion_matrix, ConfusionMatrixDisplay\n",
    "from sklearn.model_selection import cross_val_score\n",
    "import matplotlib.pyplot as plt\n",
    "from IPython import display\n",
    "%matplotlib inline\n",
    "\n",
    "from hyperopt import *\n",
    "import pyspark \n",
    "import mlflow\n",
    "\n",
    "import seaborn as sns\n",
    "\n",
    "import warnings"
   ]
  },
  {
   "cell_type": "code",
   "execution_count": 2,
   "metadata": {},
   "outputs": [],
   "source": [
    "# Import Data\n",
    "train = pd.read_csv(\"..\\\\Predictive Models\\\\Datasets\\\\17SMOTE_0.75_newlabel.csv\", delimiter=',')\n",
    "test = pd.read_csv(\"..\\\\Predictive Models\\\\Datasets\\\\172_newlabel.csv\", delimiter=',')\n",
    "validation = pd.read_csv(\"..\\\\Data\\\\final_18_new.csv\", delimiter=',')\n",
    "validation2 = pd.read_csv(\"..\\\\Data\\\\final_19_new.csv\", delimiter=',')\n",
    "\n",
    "# Define X and y\n",
    "X_train = (train.drop(labels=[\"label\"], axis=1))\n",
    "y_train = train[[\"label\"]]\n",
    "X_test = test.drop(labels=[\"label\",\"c28992r100\",\"row\",\"column\",\"WONING\"], axis=1)\n",
    "y_test =test[[\"label\"]]\n",
    "\n",
    "X_val1 = validation.drop(labels=[\"label\",\"c28992r100\",\"row\",\"column\",\"WONING\"], axis=1)\n",
    "y_val1 = validation[[\"label\"]]\n",
    "X_val2 = validation2.drop(labels=[\"label\",\"c28992r100\",\"row\",\"column\",\"WONING\"], axis=1)\n",
    "y_val2 = validation2[[\"label\"]]\n",
    "\n",
    "# Make column list\n",
    "columns = X_train.columns\n",
    "\n",
    "X_train = X_train.to_numpy()\n",
    "y_train = y_train.to_numpy()"
   ]
  },
  {
   "cell_type": "markdown",
   "metadata": {},
   "source": [
    "# Define hyperopt settings"
   ]
  },
  {
   "cell_type": "code",
   "execution_count": 3,
   "metadata": {},
   "outputs": [
    {
     "name": "stdout",
     "output_type": "stream",
     "text": [
      "RandomForestClassifier(max_depth=5, max_features=1.0, min_samples_leaf=6,                                              \n",
      "                       min_samples_split=4, n_jobs=-1)\n",
      "0.6934203912257623                                                                                                     \n",
      "0.4448884083463779                                                                                                     \n",
      "0.2866560468492                                                                                                        \n",
      "RandomForestClassifier(max_depth=3, max_features=1.0, min_samples_leaf=6,                                              \n",
      "                       min_samples_split=9, n_estimators=350, n_jobs=-1)\n",
      "0.6635579655119553                                                                                                     \n",
      "0.3560882084032696                                                                                                     \n",
      "0.21706435526200865                                                                                                    \n",
      "RandomForestClassifier(max_depth=5, max_features=1.0, min_samples_leaf=2,                                              \n",
      "                       min_samples_split=5, n_estimators=50, n_jobs=-1)\n",
      "0.6937038106544315                                                                                                     \n",
      "0.4458254856936454                                                                                                     \n",
      "0.2874795679425698                                                                                                     \n",
      "RandomForestClassifier(max_depth=9, max_features=1.0, min_samples_leaf=5,                                              \n",
      "                       min_samples_split=5, n_estimators=150, n_jobs=-1)\n",
      "0.8455756266421393                                                                                                     \n",
      "0.7806931607899127                                                                                                     \n",
      "0.6413440862451182                                                                                                     \n",
      "RandomForestClassifier(max_depth=3, max_features=1.0, min_samples_leaf=4,                                              \n",
      "                       min_samples_split=3, n_estimators=300, n_jobs=-1)\n",
      "0.6619180543523598                                                                                                     \n",
      "0.35088571897930126                                                                                                    \n",
      "0.21321293843140027                                                                                                    \n",
      "RandomForestClassifier(max_depth=9, max_features=1.0, min_samples_leaf=5,                                              \n",
      "                       min_samples_split=4, n_jobs=-1)\n",
      "0.8456718822971591                                                                                                     \n",
      "0.780868689271857                                                                                                      \n",
      "0.6416019564864763                                                                                                     \n",
      "RandomForestClassifier(max_depth=9, max_features=1.0, min_samples_leaf=5,                                              \n",
      "                       min_samples_split=7, n_estimators=150, n_jobs=-1)\n",
      "0.845650492151599                                                                                                      \n",
      "0.7808338796182165                                                                                                     \n",
      "0.6415603645120638                                                                                                     \n",
      "RandomForestClassifier(max_depth=3, max_features=1.0, min_samples_leaf=3,                                              \n",
      "                       min_samples_split=7, n_estimators=50, n_jobs=-1)\n",
      "0.6638485149891445                                                                                                     \n",
      "0.3572516794421287                                                                                                     \n",
      "0.21797937869908623                                                                                                    \n",
      "RandomForestClassifier(max_depth=2, max_features=1.0, min_samples_leaf=8,                                              \n",
      "                       min_samples_split=3, n_estimators=250, n_jobs=-1)\n",
      "0.6098330499139046                                                                                                     \n",
      "0.5713110612345622                                                                                                     \n",
      "0.606635583597789                                                                                                      \n",
      "RandomForestClassifier(max_depth=6, max_features=1.0, min_samples_leaf=2,                                              \n",
      "                       min_samples_split=9, n_estimators=150, n_jobs=-1)\n",
      "0.7702698366862386                                                                                                     \n",
      "0.6346545262811754                                                                                                     \n",
      "0.4655847207722798                                                                                                     \n",
      "RandomForestClassifier(max_depth=3, max_features=1.0, min_samples_leaf=3,                                              \n",
      "                       n_estimators=300, n_jobs=-1)\n",
      "0.66188240410976                                                                                                       \n",
      "0.3507728324411648                                                                                                     \n",
      "0.21312975448257504                                                                                                    \n",
      "RandomForestClassifier(max_depth=2, max_features=1.0, min_samples_leaf=8,                                              \n",
      "                       min_samples_split=6, n_estimators=250, n_jobs=-1)\n",
      "0.6098330499139046                                                                                                     \n",
      "0.5713110612345622                                                                                                     \n",
      "0.606635583597789                                                                                                      \n",
      "RandomForestClassifier(max_depth=6, max_features=1.0, min_samples_leaf=8,                                              \n",
      "                       min_samples_split=5, n_estimators=150, n_jobs=-1)\n",
      "0.7717404091934845                                                                                                     \n",
      "0.6379180180001867                                                                                                     \n",
      "0.46917410816408867                                                                                                    \n",
      "RandomForestClassifier(max_depth=9, max_features=1.0, min_samples_split=4,                                             \n",
      "                       n_estimators=50, n_jobs=-1)\n",
      "0.844586332409992                                                                                                      \n",
      "0.7789743199736355                                                                                                     \n",
      "0.6390232540728941                                                                                                     \n",
      "RandomForestClassifier(max_depth=8, max_features=1.0, min_samples_leaf=2,                                              \n",
      "                       min_samples_split=3, n_estimators=250, n_jobs=-1)\n",
      "0.8316791620766979                                                                                                     \n",
      "0.7560459546808518                                                                                                     \n"
     ]
    },
    {
     "name": "stdout",
     "output_type": "stream",
     "text": [
      "0.608590406395182                                                                                                      \n",
      "RandomForestClassifier(max_depth=4, max_features=1.0, n_estimators=150,                                                \n",
      "                       n_jobs=-1)\n",
      "0.6869997825335201                                                                                                     \n",
      "0.43268792747503404                                                                                                    \n",
      "0.2785123382592095                                                                                                     \n",
      "RandomForestClassifier(max_depth=5, max_features=1.0, min_samples_leaf=7,                                              \n",
      "                       min_samples_split=6, n_estimators=50, n_jobs=-1)\n",
      "0.6933597858133425                                                                                                     \n",
      "0.44474283039878637                                                                                                    \n",
      "0.2865437485182859                                                                                                     \n",
      "RandomForestClassifier(max_depth=2, max_features=1.0, min_samples_leaf=6,                                              \n",
      "                       min_samples_split=3, n_estimators=200, n_jobs=-1)\n",
      "0.6098330499139046                                                                                                     \n",
      "0.5713110612345622                                                                                                     \n",
      "0.606635583597789                                                                                                      \n",
      "RandomForestClassifier(max_depth=2, max_features=1.0, min_samples_leaf=3,                                              \n",
      "                       min_samples_split=3, n_estimators=300, n_jobs=-1)\n",
      "0.6098330499139046                                                                                                     \n",
      "0.5713110612345622                                                                                                     \n",
      "0.606635583597789                                                                                                      \n",
      "RandomForestClassifier(max_depth=2, max_features=1.0, min_samples_leaf=8,                                              \n",
      "                       n_estimators=200, n_jobs=-1)\n",
      "0.6098330499139046                                                                                                     \n",
      "0.5713110612345622                                                                                                     \n",
      "0.606635583597789                                                                                                      \n",
      "RandomForestClassifier(max_depth=7, max_features=1.0, min_samples_leaf=5,                                              \n",
      "                       min_samples_split=8, n_jobs=-1)\n",
      "0.7811271180700384                                                                                                     \n",
      "0.6575219437091911                                                                                                     \n",
      "0.49024876159896186                                                                                                    \n",
      "RandomForestClassifier(max_depth=9, max_features=1.0, min_samples_leaf=5,                                              \n",
      "                       min_samples_split=7, n_jobs=-1)\n",
      "0.8447093257469617                                                                                                     \n",
      "0.7792091277494634                                                                                                     \n",
      "0.6393892634477252                                                                                                     \n",
      "RandomForestClassifier(max_depth=9, max_features=1.0, min_samples_leaf=9,                                              \n",
      "                       min_samples_split=7, n_jobs=-1)\n",
      "0.8457324877095789                                                                                                     \n",
      "0.7809791342418605                                                                                                     \n",
      "0.6417641651866856                                                                                                     \n",
      "RandomForestClassifier(max_depth=9, max_features=1.0, min_samples_leaf=9,                                              \n",
      "                       min_samples_split=4, n_jobs=-1)\n",
      "0.8456166244211292                                                                                                     \n",
      "0.7807730275647353                                                                                                     \n",
      "0.6414730213657972                                                                                                     \n",
      "RandomForestClassifier(max_depth=7, max_features=1.0, min_samples_leaf=9,                                              \n",
      "                       min_samples_split=8, n_jobs=-1)\n",
      "0.7809542143934289                                                                                                     \n",
      "0.657225581862406                                                                                                      \n",
      "0.48999089135760365                                                                                                    \n",
      "RandomForestClassifier(max_depth=8, max_features=1.0, min_samples_leaf=9,                                              \n",
      "                       min_samples_split=7, n_estimators=350, n_jobs=-1)\n",
      "0.8317290724163378                                                                                                     \n",
      "0.75613341221025                                                                                                       \n",
      "0.6086985455286548                                                                                                     \n",
      "RandomForestClassifier(max_depth=4, max_features=1.0, min_samples_leaf=4,                                              \n",
      "                       min_samples_split=4, n_jobs=-1)\n",
      "0.6869570022424003                                                                                                     \n",
      "0.432566389981163                                                                                                      \n",
      "0.27841251752061924                                                                                                    \n",
      "RandomForestClassifier(max_depth=9, max_features=1.0, min_samples_leaf=9,                                              \n",
      "                       min_samples_split=4, n_jobs=-1)\n",
      "0.845666534760769                                                                                                      \n",
      "0.7808583230404762                                                                                                     \n",
      "0.6415853196967113                                                                                                     \n",
      "RandomForestClassifier(max_depth=9, max_features=1.0, min_samples_leaf=7,                                              \n",
      "                       min_samples_split=7, n_jobs=-1)\n",
      "0.845684359882069                                                                                                      \n",
      "0.7808902882249917                                                                                                     \n",
      "0.6416310708685652                                                                                                     \n",
      "RandomForestClassifier(max_depth=9, max_features=1.0, min_samples_leaf=7,                                              \n",
      "                       min_samples_split=7, n_jobs=-1)\n",
      "0.845711097564019                                                                                                      \n",
      "0.7809432219368063                                                                                                     \n",
      "0.6417184140148317                                                                                                     \n"
     ]
    },
    {
     "name": "stdout",
     "output_type": "stream",
     "text": [
      "100%|████████████████████████████████████████████| 30/30 [6:02:58<00:00, 725.96s/trial, best loss: -0.8457324877095789]\n",
      "--- 21779.657202005386 seconds ---\n"
     ]
    }
   ],
   "source": [
    "import warnings\n",
    "warnings.filterwarnings(\"ignore\")\n",
    "\n",
    "start_time = time.time()\n",
    "# Define objectives\n",
    "def objective(params):\n",
    "    classifier_type = params['type']\n",
    "    del params['type']\n",
    "    if classifier_type == 'rf':\n",
    "        clf = RandomForestClassifier(**params,\n",
    "                                     max_features = 1.0,\n",
    "                                     n_jobs=-1)\n",
    "    else:\n",
    "        return 0\n",
    "    classifier = clf\n",
    "    print(classifier)\n",
    "    classifier.fit(X_train, y_train)\n",
    "    pr_rf = classifier.predict(X_train)\n",
    "    accuracy = accuracy_score(y_train,pr_rf)\n",
    "    f1 = f1_score(y_train,pr_rf)\n",
    "    recall = recall_score(y_train,pr_rf)\n",
    "    print(accuracy, f1, recall)\n",
    "\n",
    "    # Because fmin() tries to minimize the objective, this function must return the negative accuracy. \n",
    "    return {'loss': -accuracy, 'status': STATUS_OK}\n",
    "\n",
    "# Define search space\n",
    "space = hp.choice('classifier_type', [\n",
    "        {\n",
    "            \"type\": 'rf',\n",
    "            'n_estimators':hp.choice('n_estimators',range(50,400,50)),\n",
    "           'max_depth':hp.choice('max_depth',range(2,10)),\n",
    "           'min_samples_leaf':hp.choice('min_samples_leaf',range(1,10)),\n",
    "           'min_samples_split':hp.choice('min_samples_split',range(2,10))}\n",
    "])\n",
    "    \n",
    "with mlflow.start_run():\n",
    "    best = fmin(\n",
    "    fn=objective, \n",
    "    space=space,\n",
    "    algo=tpe.suggest,\n",
    "    max_evals=30, \n",
    "    verbose = 1,\n",
    "    return_argmin=False)\n",
    "    \n",
    "print(\"--- %s seconds ---\" % (time.time() - start_time))"
   ]
  },
  {
   "cell_type": "code",
   "execution_count": 4,
   "metadata": {},
   "outputs": [
    {
     "name": "stdout",
     "output_type": "stream",
     "text": [
      "{'max_depth': 9, 'min_samples_leaf': 9, 'min_samples_split': 7, 'n_estimators': 100, 'type': 'rf'}\n"
     ]
    }
   ],
   "source": [
    "# Results\n",
    "print(best)"
   ]
  },
  {
   "cell_type": "code",
   "execution_count": 5,
   "metadata": {},
   "outputs": [
    {
     "name": "stdout",
     "output_type": "stream",
     "text": [
      "0.8840636285529923 0.8443470165773622 0.7337198614155412\n",
      "0.939489430285515\n"
     ]
    }
   ],
   "source": [
    "# Fitting Randomforest to the Training set\n",
    "classifier = RandomForestClassifier(n_estimators = best['n_estimators'],\n",
    "                            max_depth = best['max_depth'],\n",
    "                            min_samples_leaf = int(best['min_samples_leaf']),\n",
    "                            min_samples_split= int(best['min_samples_split']),\n",
    "                           n_jobs = -1,)\n",
    "classifier.fit(X_train, y_train)\n",
    "pr_rf = classifier.predict(X_train)\n",
    "accuracy = accuracy_score(y_train,pr_rf)\n",
    "f1 = f1_score(y_train,pr_rf)\n",
    "recall = recall_score(y_train,pr_rf)\n",
    "print(accuracy, f1, recall)\n",
    "print(roc_auc_score(y_train, classifier.predict_proba(X_train)[:, 1]))"
   ]
  },
  {
   "cell_type": "markdown",
   "metadata": {},
   "source": [
    "# Results"
   ]
  },
  {
   "cell_type": "code",
   "execution_count": 6,
   "metadata": {},
   "outputs": [
    {
     "name": "stdout",
     "output_type": "stream",
     "text": [
      "Accuracy:0.9601636812010514\n",
      "F1:0.005412719891745603\n",
      "Recall:0.002932551319648094\n"
     ]
    },
    {
     "data": {
      "image/png": "[encoded data removed]",
      "text/plain": [
       "<Figure size 432x288 with 2 Axes>"
      ]
     },
     "metadata": {
      "needs_background": "light"
     },
     "output_type": "display_data"
    },
    {
     "name": "stdout",
     "output_type": "stream",
     "text": [
      "Accuracy:0.4768530011765087\n",
      "F1:0.06275017887185041\n",
      "Recall:0.5172138986292636\n"
     ]
    },
    {
     "data": {
      "image/png": "[encoded data removed]",
      "text/plain": [
       "<Figure size 432x288 with 2 Axes>"
      ]
     },
     "metadata": {
      "needs_background": "light"
     },
     "output_type": "display_data"
    },
    {
     "name": "stdout",
     "output_type": "stream",
     "text": [
      "Accuracy:0.4841136314771017\n",
      "F1:0.03771901240756988\n",
      "Recall:0.48491879350348027\n"
     ]
    },
    {
     "data": {
      "image/png": "[encoded data removed]",
      "text/plain": [
       "<Figure size 432x288 with 2 Axes>"
      ]
     },
     "metadata": {
      "needs_background": "light"
     },
     "output_type": "display_data"
    }
   ],
   "source": [
    "# Make confusion matrixes, accuracy, recall and f1 score for testset\n",
    "p_rf = classifier.predict(X_test)\n",
    "print(\"Accuracy:\" + str(classifier.score(X_test, y_test)))\n",
    "print(\"F1:\" + str(f1_score(y_test,p_rf)))\n",
    "print(\"Recall:\" + str(recall_score(y_test,p_rf)))\n",
    "ConfusionMatrixDisplay(confusion_matrix=confusion_matrix(y_test,p_rf),display_labels=classifier.classes_).plot()\n",
    "plt.savefig('con_test_rf_smote0.75.png', dpi=300)\n",
    "plt.show()\n",
    "\n",
    "# Make confusion matrixes, accuracy, recall and f1 score for validationset 1\n",
    "pre_rf = classifier.predict(X_val1)\n",
    "print(\"Accuracy:\" + str(classifier.score(X_val1, y_val1)))\n",
    "print(\"F1:\" + str(f1_score(y_val1,pre_rf)))\n",
    "print(\"Recall:\" + str(recall_score(y_val1,pre_rf)))\n",
    "ConfusionMatrixDisplay(confusion_matrix=confusion_matrix(y_val1,pre_rf),display_labels=classifier.classes_).plot()\n",
    "plt.savefig('con_val_rf_smote0.75.png', dpi=300)\n",
    "plt.show()\n",
    "\n",
    "\n",
    "# Make confusion matrixes, accuracy, recall and f1 score for validationset 2\n",
    "pred_rf = classifier.predict(X_val2)\n",
    "print(\"Accuracy:\" + str(classifier.score(X_val2, y_val2)))\n",
    "print(\"F1:\" + str(f1_score(y_val2, pred_rf)))\n",
    "print(\"Recall:\" + str(recall_score(y_val2, pred_rf)))\n",
    "ConfusionMatrixDisplay(confusion_matrix=confusion_matrix(y_val2, pred_rf),display_labels=classifier.classes_).plot()\n",
    "plt.savefig('con_val2_rf_smote0.75.png', dpi=300)\n",
    "plt.show()"
   ]
  },
  {
   "cell_type": "code",
   "execution_count": 7,
   "metadata": {},
   "outputs": [
    {
     "name": "stdout",
     "output_type": "stream",
     "text": [
      "0.48796901573074425\n",
      "0.4968257479481228\n",
      "0.4884523708087715\n"
     ]
    }
   ],
   "source": [
    "print(roc_auc_score(y_test, classifier.predict_proba(X_test)[:, 1]))\n",
    "print(roc_auc_score(y_val1, classifier.predict_proba(X_val1)[:, 1]))\n",
    "print(roc_auc_score(y_val2, classifier.predict_proba(X_val2)[:, 1]))"
   ]
  },
  {
   "cell_type": "code",
   "execution_count": 8,
   "metadata": {},
   "outputs": [
    {
     "data": {
      "image/png": "[encoded data removed]",
      "text/plain": [
       "<Figure size 432x288 with 1 Axes>"
      ]
     },
     "metadata": {
      "needs_background": "light"
     },
     "output_type": "display_data"
    }
   ],
   "source": [
    "# Create feature importance plot\n",
    "feat_importances = pd.Series(classifier.feature_importances_, index=columns)\n",
    "feat_importances.nlargest(20).plot(kind='barh')\n",
    "plt.savefig('import_rf_smote0.75.png', dpi=300, bbox_inches = \"tight\")"
   ]
  },
  {
   "cell_type": "markdown",
   "metadata": {},
   "source": [
    "# Make QGIS File"
   ]
  },
  {
   "cell_type": "code",
   "execution_count": 9,
   "metadata": {},
   "outputs": [],
   "source": [
    "# Create Dataframe with TP, TN, FP, FN and gridnumber\n",
    "qgis_koppel_train = []\n",
    "qgis_koppel_test = []\n",
    "qgis_koppel_val1 = []\n",
    "qgis_koppel_val2 = []\n",
    "qgis_train = pd.DataFrame(train.index,columns=[\"id\"])\n",
    "qgis_test = pd.DataFrame(test.index,columns=[\"id\"])\n",
    "qgis_val1 = pd.DataFrame(validation[\"c28992r100\"],columns=[\"c28992r100\"])\n",
    "qgis_val2 = pd.DataFrame(validation2[\"c28992r100\"],columns=[\"c28992r100\"])\n",
    "\n",
    "for y, yt in zip(y_train, pr_rf):\n",
    "    if y == 0 and yt == 0:\n",
    "        qgis_koppel_train.append(\"TN\")\n",
    "    if y == 0 and yt == 1:\n",
    "        qgis_koppel_train.append(\"FN\")\n",
    "    if y == 1 and yt == 0:\n",
    "        qgis_koppel_train.append(\"FP\")\n",
    "    if y == 1 and yt == 1:\n",
    "        qgis_koppel_train.append(\"TP\")\n",
    "\n",
    "for y, yt in zip(y_test.to_numpy(), p_rf):\n",
    "    if y == 0 and yt == 0:\n",
    "        qgis_koppel_test.append(\"TN\")\n",
    "    if y == 0 and yt == 1:\n",
    "        qgis_koppel_test.append(\"FN\")\n",
    "    if y == 1 and yt == 0:\n",
    "        qgis_koppel_test.append(\"FP\")\n",
    "    if y == 1 and yt == 1:\n",
    "        qgis_koppel_test.append(\"TP\")\n",
    "        \n",
    "for y, yt in zip(y_val1.to_numpy(), pre_rf):\n",
    "    if y == 0 and yt == 0:\n",
    "        qgis_koppel_val1.append(\"TN\")\n",
    "    if y == 0 and yt == 1:\n",
    "        qgis_koppel_val1.append(\"FN\")\n",
    "    if y == 1 and yt == 0:\n",
    "        qgis_koppel_val1.append(\"FP\")\n",
    "    if y == 1 and yt == 1:\n",
    "        qgis_koppel_val1.append(\"TP\")\n",
    "\n",
    "for y, yt in zip(y_val2.to_numpy(), pred_rf):\n",
    "    if y == 0 and yt == 0:\n",
    "        qgis_koppel_val2.append(\"TN\")\n",
    "    if y == 0 and yt == 1:\n",
    "        qgis_koppel_val2.append(\"FN\")\n",
    "    if y == 1 and yt == 0:\n",
    "        qgis_koppel_val2.append(\"FP\")\n",
    "    if y == 1 and yt == 1:\n",
    "        qgis_koppel_val2.append(\"TP\")\n",
    "\n",
    "qgis_train[\"label\"] = pd.Series(qgis_koppel_train)\n",
    "qgis_test[\"label\"] = pd.Series(qgis_koppel_test)\n",
    "qgis_val1[\"label\"] = pd.Series(qgis_koppel_val1)\n",
    "qgis_val2[\"label\"] = pd.Series(qgis_koppel_val2)\n",
    "\n",
    "qgis_train.to_csv(\"qgistrainrfS75.csv\", index=False)\n",
    "qgis_test.to_csv(\"qgistestrfS75.csv\", index=False)\n",
    "qgis_val1.to_csv(\"qgisval1rfS75.csv\", index=False)\n",
    "qgis_val2.to_csv(\"qgisval2rfS75.csv\", index=False)"
   ]
  },
  {
   "cell_type": "code",
   "execution_count": null,
   "metadata": {},
   "outputs": [],
   "source": []
  }
 ],
 "metadata": {
  "kernelspec": {
   "display_name": "Python 3",
   "language": "python",
   "name": "python3"
  },
  "language_info": {
   "codemirror_mode": {
    "name": "ipython",
    "version": 3
   },
   "file_extension": ".py",
   "mimetype": "text/x-python",
   "name": "python",
   "nbconvert_exporter": "python",
   "pygments_lexer": "ipython3",
   "version": "3.8.3"
  }
 },
 "nbformat": 4,
 "nbformat_minor": 4
}
