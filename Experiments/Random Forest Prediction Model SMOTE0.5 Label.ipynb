{
 "cells": [
  {
   "cell_type": "code",
   "execution_count": 1,
   "metadata": {},
   "outputs": [],
   "source": [
    "# Import packages\n",
    "import pandas as pd\n",
    "import numpy as np\n",
    "import math\n",
    "import time\n",
    "\n",
    "from sklearn.ensemble import RandomForestClassifier\n",
    "from sklearn.metrics import f1_score, accuracy_score, roc_auc_score, recall_score, confusion_matrix, ConfusionMatrixDisplay\n",
    "from sklearn.model_selection import cross_val_score\n",
    "import matplotlib.pyplot as plt\n",
    "from IPython import display\n",
    "%matplotlib inline\n",
    "\n",
    "from hyperopt import *\n",
    "import pyspark \n",
    "import mlflow\n",
    "\n",
    "import seaborn as sns\n",
    "\n",
    "import warnings"
   ]
  },
  {
   "cell_type": "code",
   "execution_count": 2,
   "metadata": {},
   "outputs": [],
   "source": [
    "# Import Data\n",
    "train = pd.read_csv(\"..\\\\Predictive Models\\\\Datasets\\\\17SMOTE_0.5_newlabel.csv\", delimiter=',')\n",
    "test = pd.read_csv(\"..\\\\Predictive Models\\\\Datasets\\\\172_newlabel.csv\", delimiter=',')\n",
    "validation = pd.read_csv(\"..\\\\Data\\\\final_18_new.csv\", delimiter=',')\n",
    "validation2 = pd.read_csv(\"..\\\\Data\\\\final_19_new.csv\", delimiter=',')\n",
    "\n",
    "# Define X and y\n",
    "X_train = (train.drop(labels=[\"label\"], axis=1))\n",
    "y_train = train[[\"label\"]]\n",
    "X_test = test.drop(labels=[\"label\",\"c28992r100\",\"row\",\"column\",\"WONING\"], axis=1)\n",
    "y_test =test[[\"label\"]]\n",
    "\n",
    "X_val1 = validation.drop(labels=[\"label\",\"c28992r100\",\"row\",\"column\",\"WONING\"], axis=1)\n",
    "y_val1 = validation[[\"label\"]]\n",
    "X_val2 = validation2.drop(labels=[\"label\",\"c28992r100\",\"row\",\"column\",\"WONING\"], axis=1)\n",
    "y_val2 = validation2[[\"label\"]]\n",
    "\n",
    "# Make column list\n",
    "columns = X_train.columns\n",
    "\n",
    "X_train = X_train.to_numpy()\n",
    "y_train = y_train.to_numpy()"
   ]
  },
  {
   "cell_type": "markdown",
   "metadata": {},
   "source": [
    "# Define hyperopt settings"
   ]
  },
  {
   "cell_type": "code",
   "execution_count": 3,
   "metadata": {},
   "outputs": [
    {
     "name": "stdout",
     "output_type": "stream",
     "text": [
      "RandomForestClassifier(max_depth=9, max_features=1.0, min_samples_leaf=9,                                              \n",
      "                       min_samples_split=4, n_estimators=300, n_jobs=-1)\n",
      "0.8656100918766715                                                                                                     \n",
      "0.7479965839562933                                                                                                     \n",
      "0.5983454678171031                                                                                                     \n",
      "RandomForestClassifier(max_depth=3, max_features=1.0, min_samples_leaf=9,                                              \n",
      "                       min_samples_split=3, n_estimators=250, n_jobs=-1)\n",
      "0.6867916366857851                                                                                                     \n",
      "0.12451316630820204                                                                                                    \n",
      "0.06681764584776058                                                                                                    \n",
      "RandomForestClassifier(max_depth=6, max_features=1.0, min_samples_leaf=6,                                              \n",
      "                       min_samples_split=7, n_estimators=200, n_jobs=-1)\n",
      "0.78777695055962                                                                                                       \n",
      "0.5338352046922535                                                                                                     \n",
      "0.3645460954413022                                                                                                     \n",
      "RandomForestClassifier(max_depth=9, max_features=1.0, min_samples_leaf=5,                                              \n",
      "                       min_samples_split=4, n_estimators=50, n_jobs=-1)\n",
      "0.8654977935457574                                                                                                     \n",
      "0.7477053304987225                                                                                                     \n",
      "0.5979212287958474                                                                                                     \n",
      "RandomForestClassifier(max_depth=2, max_features=1.0, min_samples_leaf=6,                                              \n",
      "                       min_samples_split=6, n_estimators=300, n_jobs=-1)\n",
      "0.685057251352779                                                                                                      \n",
      "0.11537652748896002                                                                                                    \n",
      "0.06161447902824309                                                                                                    \n",
      "RandomForestClassifier(max_depth=5, max_features=1.0, min_samples_leaf=4,                                              \n",
      "                       n_estimators=300, n_jobs=-1)\n",
      "0.751394370942183                                                                                                      \n",
      "0.40723349184075214                                                                                                    \n",
      "0.25619045836530724                                                                                                    \n",
      "RandomForestClassifier(max_depth=4, max_features=1.0, min_samples_leaf=2,                                              \n",
      "                       min_samples_split=9, n_estimators=150, n_jobs=-1)\n",
      "0.7370576173621538                                                                                                     \n",
      "0.35053908148117713                                                                                                    \n",
      "0.21288064534241705                                                                                                    \n",
      "RandomForestClassifier(max_depth=2, max_features=1.0, min_samples_leaf=3,                                              \n",
      "                       n_jobs=-1)\n",
      "0.685057251352779                                                                                                      \n",
      "0.11537652748896002                                                                                                    \n",
      "0.06161447902824309                                                                                                    \n",
      "RandomForestClassifier(max_depth=9, max_features=1.0, min_samples_leaf=2,                                              \n",
      "                       min_samples_split=5, n_estimators=200, n_jobs=-1)\n",
      "0.8654541219726242                                                                                                     \n",
      "0.7475869817960502                                                                                                     \n",
      "0.5977403033309002                                                                                                     \n",
      "RandomForestClassifier(max_depth=8, max_features=1.0, min_samples_leaf=7,                                              \n",
      "                       min_samples_split=5, n_jobs=-1)\n",
      "0.8426388444085829                                                                                                     \n",
      "0.6912868047537647                                                                                                     \n",
      "0.5285581488205532                                                                                                     \n",
      "RandomForestClassifier(max_depth=9, max_features=1.0, min_samples_leaf=3,                                              \n",
      "                       min_samples_split=5, n_estimators=150, n_jobs=-1)\n",
      "0.8653501420365927                                                                                                     \n",
      "0.7473485410146953                                                                                                     \n",
      "0.597447079301503                                                                                                      \n",
      "RandomForestClassifier(max_depth=2, max_features=1.0, n_estimators=200,                                                \n",
      "                       n_jobs=-1)\n",
      "0.685057251352779                                                                                                      \n",
      "0.11537652748896002                                                                                                    \n",
      "0.06161447902824309                                                                                                    \n",
      "RandomForestClassifier(max_depth=6, max_features=1.0, min_samples_leaf=2,                                              \n",
      "                       min_samples_split=4, n_estimators=50, n_jobs=-1)\n",
      "0.787783189355782                                                                                                      \n",
      "0.533842520476358                                                                                                      \n",
      "0.3645460954413022                                                                                                     \n",
      "RandomForestClassifier(max_depth=4, max_features=1.0, min_samples_leaf=6,                                              \n",
      "                       min_samples_split=7, n_estimators=350, n_jobs=-1)\n",
      "0.7370576173621538                                                                                                     \n",
      "0.35053908148117713                                                                                                    \n",
      "0.21288064534241705                                                                                                    \n",
      "RandomForestClassifier(max_depth=6, max_features=1.0, min_samples_leaf=5,                                              \n",
      "                       min_samples_split=6, n_estimators=50, n_jobs=-1)\n",
      "0.7877499157762519                                                                                                     \n",
      "0.5337864689679744                                                                                                     \n",
      "0.36452114020475773                                                                                                    \n"
     ]
    },
    {
     "name": "stdout",
     "output_type": "stream",
     "text": [
      "RandomForestClassifier(max_depth=9, max_features=1.0, min_samples_leaf=8,                                              \n",
      "                       min_samples_split=3, n_estimators=350, n_jobs=-1)\n",
      "0.8655518631124938                                                                                                     \n",
      "0.747850030616344                                                                                                      \n",
      "0.5981395871156113                                                                                                     \n",
      "RandomForestClassifier(max_depth=8, max_features=1.0, min_samples_leaf=2,                                              \n",
      "                       min_samples_split=5, n_estimators=300, n_jobs=-1)\n",
      "0.8427719387267033                                                                                                     \n",
      "0.6915982394524192                                                                                                     \n",
      "0.528882566895631                                                                                                      \n",
      "RandomForestClassifier(max_depth=4, max_features=1.0, min_samples_leaf=3,                                              \n",
      "                       min_samples_split=3, n_estimators=150, n_jobs=-1)\n",
      "0.7370576173621538                                                                                                     \n",
      "0.35053908148117713                                                                                                    \n",
      "0.21288064534241705                                                                                                    \n",
      "RandomForestClassifier(max_depth=2, max_features=1.0, min_samples_leaf=7,                                              \n",
      "                       min_samples_split=3, n_jobs=-1)\n",
      "0.685057251352779                                                                                                      \n",
      "0.11537652748896002                                                                                                    \n",
      "0.06161447902824309                                                                                                    \n",
      "RandomForestClassifier(max_depth=2, max_features=1.0, min_samples_leaf=4,                                              \n",
      "                       min_samples_split=4, n_estimators=250, n_jobs=-1)\n",
      "0.685057251352779                                                                                                      \n",
      "0.11537652748896002                                                                                                    \n",
      "0.06161447902824309                                                                                                    \n",
      "RandomForestClassifier(max_depth=7, max_features=1.0, min_samples_leaf=8,                                              \n",
      "                       min_samples_split=8, n_estimators=350, n_jobs=-1)\n",
      "0.8185425340326331                                                                                                     \n",
      "0.6264182286805443                                                                                                     \n",
      "0.4564000823522806                                                                                                     \n",
      "RandomForestClassifier(max_depth=9, max_features=1.0, min_samples_leaf=8,                                              \n",
      "                       min_samples_split=4, n_estimators=350, n_jobs=-1)\n",
      "0.8655872162907445                                                                                                     \n",
      "0.7479291140820241                                                                                                     \n",
      "0.598233169252653                                                                                                      \n",
      "RandomForestClassifier(max_depth=9, max_features=1.0, min_samples_leaf=9,                                              \n",
      "                       min_samples_split=4, n_estimators=350, n_jobs=-1)\n",
      "0.8654520423739035                                                                                                     \n",
      "0.7476254188429597                                                                                                     \n",
      "0.5978713183227585                                                                                                     \n",
      "RandomForestClassifier(max_depth=3, max_features=1.0, min_samples_leaf=8,                                              \n",
      "                       min_samples_split=4, n_estimators=300, n_jobs=-1)\n",
      "0.6867916366857851                                                                                                     \n",
      "0.12451316630820204                                                                                                    \n",
      "0.06681764584776058                                                                                                    \n",
      "RandomForestClassifier(max_depth=5, max_features=1.0, min_samples_leaf=9,                                              \n",
      "                       min_samples_split=8, n_estimators=300, n_jobs=-1)\n",
      "0.7513694157575355                                                                                                     \n",
      "0.40719162629723477                                                                                                    \n",
      "0.2561717419378989                                                                                                     \n",
      "RandomForestClassifier(max_depth=7, max_features=1.0, min_samples_leaf=9,                                              \n",
      "                       min_samples_split=9, n_estimators=350, n_jobs=-1)\n",
      "0.8186319567776202                                                                                                     \n",
      "0.6266774537375916                                                                                                     \n",
      "0.45668082876340566                                                                                                    \n",
      "RandomForestClassifier(max_depth=9, max_features=1.0, min_samples_leaf=8,                                              \n",
      "                       min_samples_split=4, n_estimators=350, n_jobs=-1)\n",
      "0.8656433654562016                                                                                                     \n",
      "0.748058977448652                                                                                                      \n",
      "0.598395378290192                                                                                                      \n",
      "RandomForestClassifier(max_depth=9, max_features=1.0, min_samples_split=4,                                             \n",
      "                       n_estimators=300, n_jobs=-1)\n",
      "0.8655892958894652                                                                                                     \n",
      "0.7478927023727333                                                                                                     \n",
      "0.5981083930699308                                                                                                     \n",
      "RandomForestClassifier(max_depth=3, max_features=1.0, min_samples_leaf=9,                                              \n",
      "                       min_samples_split=4, n_estimators=250, n_jobs=-1)\n",
      "0.6867916366857851                                                                                                     \n",
      "0.12451316630820204                                                                                                    \n",
      "0.06681764584776058                                                                                                    \n",
      "RandomForestClassifier(max_depth=9, max_features=1.0, min_samples_leaf=8,                                              \n",
      "                       min_samples_split=6, n_estimators=250, n_jobs=-1)\n",
      "0.86550611194064                                                                                                       \n",
      "0.7477406143344709                                                                                                     \n"
     ]
    },
    {
     "name": "stdout",
     "output_type": "stream",
     "text": [
      "0.5979960945054807                                                                                                     \n",
      "100%|████████████████████████████████████████████| 30/30 [6:35:13<00:00, 790.46s/trial, best loss: -0.8656433654562016]\n",
      "--- 23714.894048929214 seconds ---\n"
     ]
    }
   ],
   "source": [
    "import warnings\n",
    "warnings.filterwarnings(\"ignore\")\n",
    "\n",
    "start_time = time.time()\n",
    "# Define objectives\n",
    "def objective(params):\n",
    "    classifier_type = params['type']\n",
    "    del params['type']\n",
    "    if classifier_type == 'rf':\n",
    "        clf = RandomForestClassifier(**params,\n",
    "                                     max_features = 1.0,\n",
    "                                     n_jobs=-1)\n",
    "    else:\n",
    "        return 0\n",
    "    classifier = clf\n",
    "    print(classifier)\n",
    "    classifier.fit(X_train, y_train)\n",
    "    pr_rf = classifier.predict(X_train)\n",
    "    accuracy = accuracy_score(y_train,pr_rf)\n",
    "    f1 = f1_score(y_train,pr_rf)\n",
    "    recall = recall_score(y_train,pr_rf)\n",
    "    print(accuracy, f1, recall)\n",
    "\n",
    "    # Because fmin() tries to minimize the objective, this function must return the negative accuracy. \n",
    "    return {'loss': -accuracy, 'status': STATUS_OK}\n",
    "\n",
    "# Define search space\n",
    "space = hp.choice('classifier_type', [\n",
    "        {\n",
    "            \"type\": 'rf',\n",
    "            'n_estimators':hp.choice('n_estimators',range(50,400,50)),\n",
    "           'max_depth':hp.choice('max_depth',range(2,10)),\n",
    "           'min_samples_leaf':hp.choice('min_samples_leaf',range(1,10)),\n",
    "           'min_samples_split':hp.choice('min_samples_split',range(2,10))}\n",
    "])\n",
    "    \n",
    "with mlflow.start_run():\n",
    "    best = fmin(\n",
    "    fn=objective, \n",
    "    space=space,\n",
    "    algo=tpe.suggest,\n",
    "    max_evals=30, \n",
    "    verbose = 1,\n",
    "    return_argmin=False)\n",
    "    \n",
    "print(\"--- %s seconds ---\" % (time.time() - start_time))"
   ]
  },
  {
   "cell_type": "code",
   "execution_count": 4,
   "metadata": {},
   "outputs": [
    {
     "name": "stdout",
     "output_type": "stream",
     "text": [
      "{'max_depth': 9, 'min_samples_leaf': 8, 'min_samples_split': 4, 'n_estimators': 350, 'type': 'rf'}\n"
     ]
    }
   ],
   "source": [
    "# Results\n",
    "print(best)"
   ]
  },
  {
   "cell_type": "code",
   "execution_count": 5,
   "metadata": {},
   "outputs": [
    {
     "name": "stdout",
     "output_type": "stream",
     "text": [
      "0.8655289875265669 0.7477963087195968 0.5980709602151142\n",
      "0.8807059836904956\n"
     ]
    }
   ],
   "source": [
    "# Fitting Randomforest to the Training set\n",
    "classifier = RandomForestClassifier(n_estimators = best['n_estimators'],\n",
    "                            max_depth = best['max_depth'],\n",
    "                            min_samples_leaf = int(best['min_samples_leaf']),\n",
    "                            min_samples_split= int(best['min_samples_split']),\n",
    "                           n_jobs = -1,\n",
    "                             max_features = 1.0)\n",
    "classifier.fit(X_train, y_train)\n",
    "pr_rf = classifier.predict(X_train)\n",
    "accuracy = accuracy_score(y_train,pr_rf)\n",
    "f1 = f1_score(y_train,pr_rf)\n",
    "recall = recall_score(y_train,pr_rf)\n",
    "print(accuracy, f1, recall)\n",
    "print(roc_auc_score(y_train, classifier.predict_proba(X_train)[:, 1]))"
   ]
  },
  {
   "cell_type": "markdown",
   "metadata": {},
   "source": [
    "# Results"
   ]
  },
  {
   "cell_type": "code",
   "execution_count": 6,
   "metadata": {},
   "outputs": [
    {
     "name": "stdout",
     "output_type": "stream",
     "text": [
      "Accuracy:0.9621961464458958\n",
      "F1:0.0014316392269148174\n",
      "Recall:0.0007331378299120235\n"
     ]
    },
    {
     "data": {
      "image/png": "[encoded data removed]",
      "text/plain": [
       "<Figure size 432x288 with 2 Axes>"
      ]
     },
     "metadata": {
      "needs_background": "light"
     },
     "output_type": "display_data"
    },
    {
     "name": "stdout",
     "output_type": "stream",
     "text": [
      "Accuracy:0.44809869720552203\n",
      "F1:0.06287285223367697\n",
      "Recall:0.5467803634045266\n"
     ]
    },
    {
     "data": {
      "image/png": "[encoded data removed]",
      "text/plain": [
       "<Figure size 432x288 with 2 Axes>"
      ]
     },
     "metadata": {
      "needs_background": "light"
     },
     "output_type": "display_data"
    },
    {
     "name": "stdout",
     "output_type": "stream",
     "text": [
      "Accuracy:0.45749301225542893\n",
      "F1:0.037497615868777416\n",
      "Recall:0.5068316576437226\n"
     ]
    },
    {
     "data": {
      "image/png": "[encoded data removed]",
      "text/plain": [
       "<Figure size 432x288 with 2 Axes>"
      ]
     },
     "metadata": {
      "needs_background": "light"
     },
     "output_type": "display_data"
    }
   ],
   "source": [
    "# Make confusion matrixes, accuracy, recall and f1 score for testset\n",
    "p_rf = classifier.predict(X_test)\n",
    "print(\"Accuracy:\" + str(classifier.score(X_test, y_test)))\n",
    "print(\"F1:\" + str(f1_score(y_test,p_rf)))\n",
    "print(\"Recall:\" + str(recall_score(y_test,p_rf)))\n",
    "ConfusionMatrixDisplay(confusion_matrix=confusion_matrix(y_test,p_rf),display_labels=classifier.classes_).plot()\n",
    "plt.savefig('con_test_rf_smote0.5.png', dpi=300)\n",
    "plt.show()\n",
    "\n",
    "# Make confusion matrixes, accuracy, recall and f1 score for validationset 1\n",
    "pre_rf = classifier.predict(X_val1)\n",
    "print(\"Accuracy:\" + str(classifier.score(X_val1, y_val1)))\n",
    "print(\"F1:\" + str(f1_score(y_val1,pre_rf)))\n",
    "print(\"Recall:\" + str(recall_score(y_val1,pre_rf)))\n",
    "ConfusionMatrixDisplay(confusion_matrix=confusion_matrix(y_val1,pre_rf),display_labels=classifier.classes_).plot()\n",
    "plt.savefig('con_val_rf_smote0.5.png', dpi=300)\n",
    "plt.show()\n",
    "\n",
    "\n",
    "# Make confusion matrixes, accuracy, recall and f1 score for validationset 2\n",
    "pred_rf = classifier.predict(X_val2)\n",
    "print(\"Accuracy:\" + str(classifier.score(X_val2, y_val2)))\n",
    "print(\"F1:\" + str(f1_score(y_val2, pred_rf)))\n",
    "print(\"Recall:\" + str(recall_score(y_val2, pred_rf)))\n",
    "ConfusionMatrixDisplay(confusion_matrix=confusion_matrix(y_val2, pred_rf),display_labels=classifier.classes_).plot()\n",
    "plt.savefig('con_val2_rf_smote0.5.png', dpi=300)\n",
    "plt.show()"
   ]
  },
  {
   "cell_type": "code",
   "execution_count": 7,
   "metadata": {},
   "outputs": [
    {
     "name": "stdout",
     "output_type": "stream",
     "text": [
      "0.5071588164233767\n",
      "0.49793202214322607\n",
      "0.4863885804021596\n"
     ]
    }
   ],
   "source": [
    "print(roc_auc_score(y_test, classifier.predict_proba(X_test)[:, 1]))\n",
    "print(roc_auc_score(y_val1, classifier.predict_proba(X_val1)[:, 1]))\n",
    "print(roc_auc_score(y_val2, classifier.predict_proba(X_val2)[:, 1]))"
   ]
  },
  {
   "cell_type": "code",
   "execution_count": 8,
   "metadata": {},
   "outputs": [
    {
     "data": {
      "image/png": "[encoded data removed]",
      "text/plain": [
       "<Figure size 432x288 with 1 Axes>"
      ]
     },
     "metadata": {
      "needs_background": "light"
     },
     "output_type": "display_data"
    }
   ],
   "source": [
    "# Create feature importance plot\n",
    "feat_importances = pd.Series(classifier.feature_importances_, index=columns)\n",
    "feat_importances.nlargest(20).plot(kind='barh')\n",
    "plt.savefig('import_rf_smote0.5.png', dpi=300, bbox_inches = \"tight\")"
   ]
  },
  {
   "cell_type": "markdown",
   "metadata": {},
   "source": [
    "# Make QGIS File"
   ]
  },
  {
   "cell_type": "code",
   "execution_count": 9,
   "metadata": {},
   "outputs": [],
   "source": [
    "# Create Dataframe with TP, TN, FP, FN and gridnumber\n",
    "qgis_koppel_train = []\n",
    "qgis_koppel_test = []\n",
    "qgis_koppel_val1 = []\n",
    "qgis_koppel_val2 = []\n",
    "qgis_train = pd.DataFrame(train.index,columns=[\"id\"])\n",
    "qgis_test = pd.DataFrame(test.index,columns=[\"id\"])\n",
    "qgis_val1 = pd.DataFrame(validation[\"c28992r100\"],columns=[\"c28992r100\"])\n",
    "qgis_val2 = pd.DataFrame(validation2[\"c28992r100\"],columns=[\"c28992r100\"])\n",
    "\n",
    "for y, yt in zip(y_train, pr_rf):\n",
    "    if y == 0 and yt == 0:\n",
    "        qgis_koppel_train.append(\"TN\")\n",
    "    if y == 0 and yt == 1:\n",
    "        qgis_koppel_train.append(\"FN\")\n",
    "    if y == 1 and yt == 0:\n",
    "        qgis_koppel_train.append(\"FP\")\n",
    "    if y == 1 and yt == 1:\n",
    "        qgis_koppel_train.append(\"TP\")\n",
    "\n",
    "for y, yt in zip(y_test.to_numpy(), p_rf):\n",
    "    if y == 0 and yt == 0:\n",
    "        qgis_koppel_test.append(\"TN\")\n",
    "    if y == 0 and yt == 1:\n",
    "        qgis_koppel_test.append(\"FN\")\n",
    "    if y == 1 and yt == 0:\n",
    "        qgis_koppel_test.append(\"FP\")\n",
    "    if y == 1 and yt == 1:\n",
    "        qgis_koppel_test.append(\"TP\")\n",
    "        \n",
    "for y, yt in zip(y_val1.to_numpy(), pre_rf):\n",
    "    if y == 0 and yt == 0:\n",
    "        qgis_koppel_val1.append(\"TN\")\n",
    "    if y == 0 and yt == 1:\n",
    "        qgis_koppel_val1.append(\"FN\")\n",
    "    if y == 1 and yt == 0:\n",
    "        qgis_koppel_val1.append(\"FP\")\n",
    "    if y == 1 and yt == 1:\n",
    "        qgis_koppel_val1.append(\"TP\")\n",
    "\n",
    "for y, yt in zip(y_val2.to_numpy(), pred_rf):\n",
    "    if y == 0 and yt == 0:\n",
    "        qgis_koppel_val2.append(\"TN\")\n",
    "    if y == 0 and yt == 1:\n",
    "        qgis_koppel_val2.append(\"FN\")\n",
    "    if y == 1 and yt == 0:\n",
    "        qgis_koppel_val2.append(\"FP\")\n",
    "    if y == 1 and yt == 1:\n",
    "        qgis_koppel_val2.append(\"TP\")\n",
    "\n",
    "qgis_train[\"label\"] = pd.Series(qgis_koppel_train)\n",
    "qgis_test[\"label\"] = pd.Series(qgis_koppel_test)\n",
    "qgis_val1[\"label\"] = pd.Series(qgis_koppel_val1)\n",
    "qgis_val2[\"label\"] = pd.Series(qgis_koppel_val2)\n",
    "\n",
    "qgis_train.to_csv(\"qgistrainrfS50.csv\", index=False)\n",
    "qgis_test.to_csv(\"qgistestrfS50.csv\", index=False)\n",
    "qgis_val1.to_csv(\"qgisval1rfS50.csv\", index=False)\n",
    "qgis_val2.to_csv(\"qgisval2rfS50.csv\", index=False)"
   ]
  },
  {
   "cell_type": "code",
   "execution_count": null,
   "metadata": {},
   "outputs": [],
   "source": []
  }
 ],
 "metadata": {
  "kernelspec": {
   "display_name": "Python 3",
   "language": "python",
   "name": "python3"
  },
  "language_info": {
   "codemirror_mode": {
    "name": "ipython",
    "version": 3
   },
   "file_extension": ".py",
   "mimetype": "text/x-python",
   "name": "python",
   "nbconvert_exporter": "python",
   "pygments_lexer": "ipython3",
   "version": "3.8.3"
  }
 },
 "nbformat": 4,
 "nbformat_minor": 4
}
