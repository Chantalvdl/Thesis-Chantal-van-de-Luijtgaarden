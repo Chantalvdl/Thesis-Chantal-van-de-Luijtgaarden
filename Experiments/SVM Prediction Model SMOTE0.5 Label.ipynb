{
 "cells": [
  {
   "cell_type": "code",
   "execution_count": 1,
   "metadata": {},
   "outputs": [],
   "source": [
    "# Import packages\n",
    "import pandas as pd\n",
    "import numpy as np\n",
    "import math\n",
    "import time\n",
    "\n",
    "from sklearn.svm import SVC\n",
    "from sklearn.metrics import f1_score, accuracy_score, roc_auc_score, recall_score, confusion_matrix, ConfusionMatrixDisplay\n",
    "from sklearn.model_selection import cross_val_score\n",
    "from sklearn.inspection import permutation_importance\n",
    "import matplotlib.pyplot as plt\n",
    "from IPython import display\n",
    "%matplotlib inline\n",
    "\n",
    "from hyperopt import *\n",
    "import pyspark \n",
    "import mlflow\n",
    "\n",
    "import seaborn as sns\n",
    "\n",
    "import warnings"
   ]
  },
  {
   "cell_type": "code",
   "execution_count": 2,
   "metadata": {},
   "outputs": [],
   "source": [
    "# Import Data\n",
    "train = pd.read_csv(\"..\\\\Predictive Models\\\\Datasets\\\\17SMOTE_0.5_newlabel.csv\", delimiter=',')\n",
    "test = pd.read_csv(\"..\\\\Predictive Models\\\\Datasets\\\\172_newlabel.csv\", delimiter=',')\n",
    "validation = pd.read_csv(\"..\\\\Data\\\\final_18_new.csv\", delimiter=',')\n",
    "validation2 = pd.read_csv(\"..\\\\Data\\\\final_19_new.csv\", delimiter=',')\n",
    "\n",
    "# Define X and y\n",
    "X_train = (train.drop(labels=[\"label\"], axis=1))\n",
    "y_train = train[[\"label\"]]\n",
    "X_test = test.drop(labels=[\"label\",\"c28992r100\",\"row\",\"column\",\"WONING\"], axis=1)\n",
    "y_test =test[[\"label\"]]\n",
    "\n",
    "X_val1 = validation.drop(labels=[\"label\",\"c28992r100\",\"row\",\"column\",\"WONING\"], axis=1)\n",
    "y_val1 = validation[[\"label\"]]\n",
    "X_val2 = validation2.drop(labels=[\"label\",\"c28992r100\",\"row\",\"column\",\"WONING\"], axis=1)\n",
    "y_val2 = validation2[[\"label\"]]\n",
    "\n",
    "# Make column list\n",
    "columns = X_train.columns\n",
    "\n",
    "X_train = X_train.to_numpy()\n",
    "y_train = y_train.to_numpy()"
   ]
  },
  {
   "cell_type": "markdown",
   "metadata": {},
   "source": [
    "# Define hyperopt settings"
   ]
  },
  {
   "cell_type": "code",
   "execution_count": 3,
   "metadata": {},
   "outputs": [
    {
     "name": "stdout",
     "output_type": "stream",
     "text": [
      "SVC(C=1000.0, coef0=0.1, degree=7, gamma=0.01, kernel='poly', max_iter=500,                                            \n",
      "    probability=True)\n",
      "0.3333326401337598                                                                                                     \n",
      "0.49999922015007436                                                                                                    \n",
      "1.0                                                                                                                    \n",
      "SVC(C=0.001, coef0=1000.0, degree=1, gamma=100.0, max_iter=500,                                                        \n",
      "    probability=True)\n",
      "0.33437243949407525                                                                                                    \n",
      "0.5003894488245514                                                                                                     \n",
      "1.0                                                                                                                    \n",
      "SVC(C=0.01, coef0=0.1, degree=7, gamma=0.1, max_iter=500, probability=True)                                            \n",
      "0.33490065756911547                                                                                                    \n",
      "0.4995454268058918                                                                                                     \n",
      "0.9958387143062132                                                                                                     \n",
      "SVC(C=100.0, coef0=0.01, degree=2, gamma=0.001, kernel='sigmoid', max_iter=500,                                        \n",
      "    probability=True)\n",
      "0.3333326401337598                                                                                                     \n",
      "0.49999922015007436                                                                                                    \n",
      "1.0                                                                                                                    \n",
      "SVC(C=0.001, coef0=0.1, degree=8, gamma=0.01, max_iter=500, probability=True)                                          \n",
      "0.40949378407942405                                                                                                    \n",
      "0.4705963509719182                                                                                                     \n",
      "0.7873689070230274                                                                                                     \n",
      "SVC(C=1000.0, coef0=0.1, degree=2, gamma=1000.0, kernel='poly', max_iter=500,                                          \n",
      "    probability=True)\n",
      "0.5582079681904579                                                                                                     \n",
      "0.3303313337515328                                                                                                     \n",
      "0.32688864349572955                                                                                                    \n",
      "SVC(C=0.001, coef0=0.1, degree=1, gamma=0.01, kernel='sigmoid', max_iter=500,                                          \n",
      "    probability=True)\n",
      "0.3333326401337598                                                                                                     \n",
      "0.49999922015007436                                                                                                    \n",
      "1.0                                                                                                                    \n",
      "SVC(coef0=1.0, degree=1, gamma=100.0, max_iter=500, probability=True)                                                  \n",
      "0.33437243949407525                                                                                                    \n",
      "0.5003894488245514                                                                                                     \n",
      "1.0                                                                                                                    \n",
      "SVC(coef0=100.0, degree=2, gamma=10.0, max_iter=500, probability=True)                                                 \n",
      "0.33437243949407525                                                                                                    \n",
      "0.5003894488245514                                                                                                     \n",
      "1.0                                                                                                                    \n",
      "SVC(C=0.001, coef0=100.0, degree=5, gamma=0.001, max_iter=500, probability=True)                                       \n",
      "0.6702213940797984                                                                                                     \n",
      "0.02122012640726842                                                                                                    \n",
      "0.010724512904976698                                                                                                   \n",
      "SVC(coef0=10.0, degree=7, gamma=0.001, max_iter=500, probability=True)                                                 \n",
      "0.6769384979474361                                                                                                     \n",
      "0.05984168098961485                                                                                                    \n",
      "0.030844672368938217                                                                                                   \n",
      "SVC(C=1000.0, coef0=10.0, degree=9, gamma=1.0, kernel='sigmoid', max_iter=500,                                         \n",
      "    probability=True)\n",
      "0.3333326401337598                                                                                                     \n",
      "0.49999922015007436                                                                                                    \n",
      "1.0                                                                                                                    \n",
      "SVC(C=1000.0, coef0=0.1, degree=4, gamma=0.1, kernel='sigmoid', max_iter=500,                                          \n",
      "    probability=True)\n",
      "0.3333326401337598                                                                                                     \n",
      "0.49999922015007436                                                                                                    \n",
      "1.0                                                                                                                    \n",
      "SVC(C=10.0, coef0=10.0, degree=9, gamma=1000.0, kernel='poly', max_iter=500,                                           \n",
      "    probability=True)\n",
      "0.3333326401337598                                                                                                     \n",
      "0.49999922015007436                                                                                                    \n",
      "1.0                                                                                                                    \n",
      "SVC(C=1000.0, coef0=0.001, degree=2, gamma=100.0, kernel='linear', max_iter=500,                                       \n",
      "    probability=True)\n",
      "0.355511560489288                                                                                                      \n",
      "0.48993564739380174                                                                                                    \n",
      "0.9285843518189248                                                                                                     \n",
      "SVC(C=0.001, coef0=1.0, degree=9, gamma=1.0, kernel='poly', max_iter=500,                                              \n",
      "    probability=True)\n",
      "0.3333326401337598                                                                                                     \n",
      "0.49999922015007436                                                                                                    \n",
      "1.0                                                                                                                    \n",
      "SVC(coef0=0.01, gamma=1000.0, kernel='poly', max_iter=500, probability=True)                                           \n",
      "0.3739118499694299                                                                                                     \n"
     ]
    },
    {
     "name": "stdout",
     "output_type": "stream",
     "text": [
      "0.48228791932921083                                                                                                    \n",
      "0.8748744439661358                                                                                                     \n",
      "SVC(C=100.0, coef0=0.001, degree=8, gamma=1.0, max_iter=500, probability=True)                                         \n",
      "0.33437243949407525                                                                                                    \n",
      "0.5003894488245514                                                                                                     \n",
      "1.0                                                                                                                    \n",
      "SVC(C=1000.0, coef0=10.0, gamma=0.001, kernel='linear', max_iter=500,                                                  \n",
      "    probability=True)\n",
      "0.355511560489288                                                                                                      \n",
      "0.48993564739380174                                                                                                    \n",
      "0.9285843518189248                                                                                                     \n",
      "SVC(C=1000.0, coef0=1000.0, degree=6, gamma=0.01, kernel='linear', max_iter=500,                                       \n",
      "    probability=True)\n",
      "0.355511560489288                                                                                                      \n",
      "0.48993564739380174                                                                                                    \n",
      "0.9285843518189248                                                                                                     \n",
      "SVC(coef0=100.0, degree=5, gamma=0.001, max_iter=500, probability=True)                                                \n",
      "0.6769384979474361                                                                                                     \n",
      "0.05984168098961485                                                                                                    \n",
      "0.030844672368938217                                                                                                   \n",
      "SVC(C=0.1, coef0=100.0, degree=5, gamma=0.001, max_iter=500, probability=True)                                         \n",
      "0.6739230798025213                                                                                                     \n",
      "0.044334194743771024                                                                                                   \n",
      "0.022690548828039704                                                                                                   \n",
      "SVC(coef0=10.0, degree=7, gamma=0.001, max_iter=500, probability=True)                                                 \n",
      "0.6769384979474361                                                                                                     \n",
      "0.05984168098961485                                                                                                    \n",
      "0.030844672368938217                                                                                                   \n",
      "SVC(coef0=100.0, degree=5, gamma=0.001, max_iter=500, probability=True)                                                \n",
      "0.6769384979474361                                                                                                     \n",
      "0.05984168098961485                                                                                                    \n",
      "0.030844672368938217                                                                                                   \n",
      "SVC(coef0=10.0, degree=5, gamma=10.0, max_iter=500, probability=True)                                                  \n",
      "0.33437243949407525                                                                                                    \n",
      "0.5003894488245514                                                                                                     \n",
      "1.0                                                                                                                    \n",
      "SVC(C=0.1, coef0=10.0, degree=7, gamma=0.001, kernel='linear', max_iter=500,                                           \n",
      "    probability=True)\n",
      "0.355511560489288                                                                                                      \n",
      "0.48993564739380174                                                                                                    \n",
      "0.9285843518189248                                                                                                     \n",
      "SVC(C=10.0, coef0=100.0, degree=6, gamma=0.001, max_iter=500, probability=True)                                        \n",
      "0.679440255208355                                                                                                      \n",
      "0.07797536801430785                                                                                                    \n",
      "0.04066455794917866                                                                                                    \n",
      "SVC(C=10.0, coef0=100.0, degree=6, gamma=0.001, max_iter=500, probability=True)                                        \n",
      "0.679440255208355                                                                                                      \n",
      "0.07797536801430785                                                                                                    \n",
      "0.04066455794917866                                                                                                    \n",
      "SVC(C=10.0, coef0=100.0, degree=6, gamma=10.0, max_iter=500, probability=True)                                         \n",
      "0.667823616754911                                                                                                      \n",
      "0.0069135741064267646                                                                                                  \n",
      "0.003468777879678327                                                                                                   \n",
      "SVC(C=10.0, coef0=100.0, degree=6, gamma=0.1, kernel='linear', max_iter=500,                                           \n",
      "    probability=True)\n",
      "0.355511560489288                                                                                                      \n",
      "0.48993564739380174                                                                                                    \n",
      "0.9285843518189248                                                                                                     \n",
      "100%|███████████████████████████████████████████| 30/30 [23:39:32<00:00, 2839.07s/trial, best loss: -0.679440255208355]\n",
      "--- 85172.68743276596 seconds ---\n"
     ]
    }
   ],
   "source": [
    "import warnings\n",
    "warnings.filterwarnings(\"ignore\")\n",
    "\n",
    "start_time = time.time()\n",
    "# Define objectives\n",
    "def objective(params):\n",
    "    classifier_type = params['type']\n",
    "    del params['type']\n",
    "    if classifier_type == 'svc':\n",
    "        clf = SVC(**params,\n",
    "                  probability=True,\n",
    "                 max_iter = 500)\n",
    "    else:\n",
    "        return 0\n",
    "    classifier = clf\n",
    "    print(classifier)\n",
    "    classifier.fit(X_train, y_train)\n",
    "    pr_svc = classifier.predict(X_train)\n",
    "    accuracy = accuracy_score(y_train,pr_svc)\n",
    "    f1 = f1_score(y_train,pr_svc)\n",
    "    recall = recall_score(y_train,pr_svc)\n",
    "    print(accuracy, f1, recall)\n",
    "\n",
    "    # Because fmin() tries to minimize the objective, this function must return the negative accuracy. \n",
    "    return {'loss': -accuracy, 'status': STATUS_OK}\n",
    "\n",
    "# Define search space\n",
    "space = hp.choice('classifier_type', [\n",
    "        {\n",
    "            \"type\": 'svc',\n",
    "            'C':hp.choice('C',np.logspace(-3, 3, num=7)),\n",
    "           'kernel':hp.choice('kernel',[\"linear\",\"poly\",\"rbf\",\"sigmoid\"]),\n",
    "           'degree':hp.choice('degree',range(1,10,1)),\n",
    "           'gamma':hp.choice('gamma',np.logspace(-3, 3, num=7)),\n",
    "            'coef0':hp.choice('coef0',np.logspace(-3, 3, num=7))}\n",
    "])\n",
    "    \n",
    "with mlflow.start_run():\n",
    "    best = fmin(\n",
    "    fn=objective, \n",
    "    space=space,\n",
    "    algo=tpe.suggest,\n",
    "    max_evals=30, \n",
    "    verbose = 1,\n",
    "    return_argmin=False)\n",
    "    \n",
    "    \n",
    "print(\"--- %s seconds ---\" % (time.time() - start_time))"
   ]
  },
  {
   "cell_type": "code",
   "execution_count": 4,
   "metadata": {},
   "outputs": [
    {
     "name": "stdout",
     "output_type": "stream",
     "text": [
      "{'C': 10.0, 'coef0': 100.0, 'degree': 6, 'gamma': 0.001, 'kernel': 'rbf', 'type': 'svc'}\n"
     ]
    }
   ],
   "source": [
    "# Results\n",
    "print(best)"
   ]
  },
  {
   "cell_type": "code",
   "execution_count": 5,
   "metadata": {},
   "outputs": [
    {
     "name": "stdout",
     "output_type": "stream",
     "text": [
      "0.679440255208355 0.07797536801430785 0.04066455794917866\n",
      "0.5312241605382724\n"
     ]
    }
   ],
   "source": [
    "# Fitting Randomforest to the Training set\n",
    "classifier = SVC(C = best['C'],\n",
    "                 kernel = best['kernel'],\n",
    "                 degree = best['degree'],\n",
    "                 gamma = best['gamma'], \n",
    "                 coef0 = best['coef0'], \n",
    "                 probability=True,\n",
    "                max_iter = 500)\n",
    "classifier.fit(X_train, y_train)\n",
    "pr_svm = classifier.predict(X_train)\n",
    "accuracy = accuracy_score(y_train,pr_svm)\n",
    "f1 = f1_score(y_train,pr_svm)\n",
    "recall = recall_score(y_train,pr_svm)\n",
    "print(accuracy, f1, recall)\n",
    "print(roc_auc_score(y_train, classifier.predict_proba(X_train)[:, 1]))"
   ]
  },
  {
   "cell_type": "markdown",
   "metadata": {},
   "source": [
    "# Results"
   ]
  },
  {
   "cell_type": "code",
   "execution_count": 6,
   "metadata": {},
   "outputs": [
    {
     "name": "stdout",
     "output_type": "stream",
     "text": [
      "Accuracy:0.960678572396412\n",
      "F1:0.0054832076764907475\n",
      "Recall:0.002932551319648094\n"
     ]
    },
    {
     "data": {
      "image/png": "[encoded data removed]",
      "text/plain": [
       "<Figure size 432x288 with 2 Axes>"
      ]
     },
     "metadata": {
      "needs_background": "light"
     },
     "output_type": "display_data"
    },
    {
     "name": "stdout",
     "output_type": "stream",
     "text": [
      "Accuracy:0.9654306129718178\n",
      "F1:0.001091617933723197\n",
      "Recall:0.0005578578259483584\n"
     ]
    },
    {
     "data": {
      "image/png": "[encoded data removed]",
      "text/plain": [
       "<Figure size 432x288 with 2 Axes>"
      ]
     },
     "metadata": {
      "needs_background": "light"
     },
     "output_type": "display_data"
    },
    {
     "name": "stdout",
     "output_type": "stream",
     "text": [
      "Accuracy:0.9791496452375833\n",
      "F1:0.0\n",
      "Recall:0.0\n"
     ]
    },
    {
     "data": {
      "image/png": "[encoded data removed]",
      "text/plain": [
       "<Figure size 432x288 with 2 Axes>"
      ]
     },
     "metadata": {
      "needs_background": "light"
     },
     "output_type": "display_data"
    }
   ],
   "source": [
    "# Make confusion matrixes, accuracy, recall and f1 score for testset\n",
    "p_svm = classifier.predict(X_test)\n",
    "print(\"Accuracy:\" + str(classifier.score(X_test, y_test)))\n",
    "print(\"F1:\" + str(f1_score(y_test,p_svm)))\n",
    "print(\"Recall:\" + str(recall_score(y_test,p_svm)))\n",
    "ConfusionMatrixDisplay(confusion_matrix=confusion_matrix(y_test,p_svm),display_labels=classifier.classes_).plot()\n",
    "plt.savefig('con_test_svm_smote0.5.png', dpi=300)\n",
    "plt.show()\n",
    "\n",
    "# Make confusion matrixes, accuracy, recall and f1 score for validationset 1\n",
    "pre_svm = classifier.predict(X_val1)\n",
    "print(\"Accuracy:\" + str(classifier.score(X_val1, y_val1)))\n",
    "print(\"F1:\" + str(f1_score(y_val1,pre_svm)))\n",
    "print(\"Recall:\" + str(recall_score(y_val1,pre_svm)))\n",
    "ConfusionMatrixDisplay(confusion_matrix=confusion_matrix(y_val1,pre_svm),display_labels=classifier.classes_).plot()\n",
    "plt.savefig('con_val_svm_smote0.5.png', dpi=300)\n",
    "plt.show()\n",
    "\n",
    "\n",
    "# Make confusion matrixes, accuracy, recall and f1 score for validationset 2\n",
    "pred_svm = classifier.predict(X_val2)\n",
    "print(\"Accuracy:\" + str(classifier.score(X_val2, y_val2)))\n",
    "print(\"F1:\" + str(f1_score(y_val2, pred_svm)))\n",
    "print(\"Recall:\" + str(recall_score(y_val2, pred_svm)))\n",
    "ConfusionMatrixDisplay(confusion_matrix=confusion_matrix(y_val2, pred_svm),display_labels=classifier.classes_).plot()\n",
    "plt.savefig('con_val2_svm_smote0.5.png', dpi=300)\n",
    "plt.show()"
   ]
  },
  {
   "cell_type": "code",
   "execution_count": 7,
   "metadata": {},
   "outputs": [
    {
     "name": "stdout",
     "output_type": "stream",
     "text": [
      "0.5038974805244081\n",
      "0.49966629360994813\n",
      "0.5\n"
     ]
    }
   ],
   "source": [
    "print(roc_auc_score(y_test, classifier.predict_proba(X_test)[:, 1]))\n",
    "print(roc_auc_score(y_val1, classifier.predict_proba(X_val1)[:, 1]))\n",
    "print(roc_auc_score(y_val2, classifier.predict_proba(X_val2)[:, 1]))"
   ]
  },
  {
   "cell_type": "code",
   "execution_count": 8,
   "metadata": {},
   "outputs": [
    {
     "data": {
      "image/png": "[encoded data removed]",
      "text/plain": [
       "<Figure size 720x576 with 1 Axes>"
      ]
     },
     "metadata": {
      "needs_background": "light"
     },
     "output_type": "display_data"
    }
   ],
   "source": [
    "# Create feature importance plot\n",
    "perm_importance = permutation_importance(classifier, X_test, y_test)\n",
    "\n",
    "feature_names = columns\n",
    "features = np.array(feature_names)\n",
    "\n",
    "sorted_idx = perm_importance.importances_mean.argsort()\n",
    "plt.figure(figsize=(10,8)) \n",
    "plt.barh(features[sorted_idx], perm_importance.importances_mean[sorted_idx])\n",
    "plt.xlabel(\"Permutation Importance\")\n",
    "plt.savefig('import_svm_smote0.5.png', dpi=300, bbox_inches = \"tight\")"
   ]
  },
  {
   "cell_type": "markdown",
   "metadata": {},
   "source": [
    "# Make QGIS File"
   ]
  },
  {
   "cell_type": "code",
   "execution_count": 9,
   "metadata": {},
   "outputs": [],
   "source": [
    "# Create Dataframe with TP, TN, FP, FN and gridnumber\n",
    "qgis_koppel_train = []\n",
    "qgis_koppel_test = []\n",
    "qgis_koppel_val1 = []\n",
    "qgis_koppel_val2 = []\n",
    "qgis_train = pd.DataFrame(train.index,columns=[\"id\"])\n",
    "qgis_test = pd.DataFrame(test.index,columns=[\"id\"])\n",
    "qgis_val1 = pd.DataFrame(validation[\"c28992r100\"],columns=[\"c28992r100\"])\n",
    "qgis_val2 = pd.DataFrame(validation2[\"c28992r100\"],columns=[\"c28992r100\"])\n",
    "\n",
    "for y, yt in zip(y_train, pr_svm):\n",
    "    if y == 0 and yt == 0:\n",
    "        qgis_koppel_train.append(\"TN\")\n",
    "    if y == 0 and yt == 1:\n",
    "        qgis_koppel_train.append(\"FN\")\n",
    "    if y == 1 and yt == 0:\n",
    "        qgis_koppel_train.append(\"FP\")\n",
    "    if y == 1 and yt == 1:\n",
    "        qgis_koppel_train.append(\"TP\")\n",
    "\n",
    "for y, yt in zip(y_test.to_numpy(), p_svm):\n",
    "    if y == 0 and yt == 0:\n",
    "        qgis_koppel_test.append(\"TN\")\n",
    "    if y == 0 and yt == 1:\n",
    "        qgis_koppel_test.append(\"FN\")\n",
    "    if y == 1 and yt == 0:\n",
    "        qgis_koppel_test.append(\"FP\")\n",
    "    if y == 1 and yt == 1:\n",
    "        qgis_koppel_test.append(\"TP\")\n",
    "        \n",
    "for y, yt in zip(y_val1.to_numpy(), pre_svm):\n",
    "    if y == 0 and yt == 0:\n",
    "        qgis_koppel_val1.append(\"TN\")\n",
    "    if y == 0 and yt == 1:\n",
    "        qgis_koppel_val1.append(\"FN\")\n",
    "    if y == 1 and yt == 0:\n",
    "        qgis_koppel_val1.append(\"FP\")\n",
    "    if y == 1 and yt == 1:\n",
    "        qgis_koppel_val1.append(\"TP\")\n",
    "\n",
    "for y, yt in zip(y_val2.to_numpy(), pred_svm):\n",
    "    if y == 0 and yt == 0:\n",
    "        qgis_koppel_val2.append(\"TN\")\n",
    "    if y == 0 and yt == 1:\n",
    "        qgis_koppel_val2.append(\"FN\")\n",
    "    if y == 1 and yt == 0:\n",
    "        qgis_koppel_val2.append(\"FP\")\n",
    "    if y == 1 and yt == 1:\n",
    "        qgis_koppel_val2.append(\"TP\")\n",
    "\n",
    "qgis_train[\"label\"] = pd.Series(qgis_koppel_train)\n",
    "qgis_test[\"label\"] = pd.Series(qgis_koppel_test)\n",
    "qgis_val1[\"label\"] = pd.Series(qgis_koppel_val1)\n",
    "qgis_val2[\"label\"] = pd.Series(qgis_koppel_val2)\n",
    "\n",
    "qgis_train.to_csv(\"qgistrainsvmS50.csv\", index=False)\n",
    "qgis_test.to_csv(\"qgistestsvmS50.csv\", index=False)\n",
    "qgis_val1.to_csv(\"qgisval1svmS50.csv\", index=False)\n",
    "qgis_val2.to_csv(\"qgisval2svmS50.csv\", index=False)"
   ]
  },
  {
   "cell_type": "code",
   "execution_count": null,
   "metadata": {},
   "outputs": [],
   "source": []
  }
 ],
 "metadata": {
  "kernelspec": {
   "display_name": "Python 3",
   "language": "python",
   "name": "python3"
  },
  "language_info": {
   "codemirror_mode": {
    "name": "ipython",
    "version": 3
   },
   "file_extension": ".py",
   "mimetype": "text/x-python",
   "name": "python",
   "nbconvert_exporter": "python",
   "pygments_lexer": "ipython3",
   "version": "3.8.3"
  }
 },
 "nbformat": 4,
 "nbformat_minor": 4
}
