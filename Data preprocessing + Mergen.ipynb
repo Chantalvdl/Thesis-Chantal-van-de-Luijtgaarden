{
 "cells": [
  {
   "cell_type": "code",
   "execution_count": 1,
   "metadata": {},
   "outputs": [],
   "source": [
    "# Import packages\n",
    "import pandas as pd\n",
    "import numpy as np\n",
    "import math"
   ]
  },
  {
   "cell_type": "markdown",
   "metadata": {},
   "source": [
    "# Load data"
   ]
  },
  {
   "cell_type": "code",
   "execution_count": 2,
   "metadata": {},
   "outputs": [],
   "source": [
    "# Load CBS data\n",
    "CBS_2017 = pd.read_csv(\"..\\\\Data\\\\CBS data\\\\cbs_vk100_2017_v3.csv\", delimiter=',')\n",
    "CBS_2018 = pd.read_csv(\"..\\\\Data\\\\CBS data\\\\CBS_VK100_2018_v3.csv\", delimiter=',')\n",
    "CBS_2019 = pd.read_csv(\"..\\\\Data\\\\CBS data\\\\CBS_VK100_2019_v2.csv\", delimiter=',')"
   ]
  },
  {
   "cell_type": "code",
   "execution_count": 3,
   "metadata": {},
   "outputs": [],
   "source": [
    "# Load income datasets\n",
    "high_low_income17 = pd.read_csv(\"..\\\\Data\\\\CBS data\\\\100500_17.csv\", delimiter=',')\n",
    "high_low_income18 = pd.read_csv(\"..\\\\Data\\\\CBS data\\\\100500_18.csv\", delimiter=',')\n",
    "high_low_income19 = pd.read_csv(\"..\\\\Data\\\\CBS data\\\\100500_19.csv\", delimiter=',')"
   ]
  },
  {
   "cell_type": "code",
   "execution_count": null,
   "metadata": {},
   "outputs": [],
   "source": [
    "# Load year specific Kadaster data\n",
    "VBO_17_koppel = pd.read_csv(\"..\\\\Data\\\\VBO17koppel.csv\", delimiter=',')\n",
    "pand_17_koppel = pd.read_csv(\"..\\\\Data\\\\pand17koppel.csv\", delimiter=',')\n",
    "VBO_18_koppel = pd.read_csv(\"..\\\\Data\\\\VBO18koppel.csv\", delimiter=',')\n",
    "pand_18_koppel = pd.read_csv(\"..\\\\Data\\\\pand18koppel.csv\", delimiter=',')\n",
    "VBO_19_koppel = pd.read_csv(\"..\\\\Data\\\\VBO19koppel.csv\", delimiter=',')\n",
    "pand_19_koppel = pd.read_csv(\"..\\\\Data\\\\pand19koppel.csv\", delimiter=',')"
   ]
  },
  {
   "cell_type": "code",
   "execution_count": 7,
   "metadata": {},
   "outputs": [],
   "source": [
    "# Load all other connection datasets relevant data sources\n",
    "koppel_CBS_BAG = pd.read_csv(\"..\\\\Data\\\\cbs_grid_bag_pand_koppelbestand.csv\", delimiter=';')\n",
    "koppel_CBS_buurt = pd.read_csv(\"..\\\\Data\\\\cbs_grid_buurt_koppel.csv\", delimiter=',')\n",
    "koppel_pc6_buurt = pd.read_csv(\"..\\\\Data\\\\indgebfunderingsproblematiek\\\\pc62019.csv\", delimiter=';')\n",
    "koppel_pc6_grid = pd.read_csv(\"..\\\\Data\\\\indgebfunderingsproblematiek\\\\CBS_grid_pc6_koppelbestand.csv\")"
   ]
  },
  {
   "cell_type": "code",
   "execution_count": 8,
   "metadata": {},
   "outputs": [
    {
     "name": "stderr",
     "output_type": "stream",
     "text": [
      "C:\\Users\\s169096\\Anaconda3\\lib\\site-packages\\IPython\\core\\interactiveshell.py:3071: DtypeWarning: Columns (24,25,60,61,63,73,74,76,77,78,81,82,83) have mixed types.Specify dtype option on import or set low_memory=False.\n",
      "  has_raised = await self.run_ast_nodes(code_ast.body, cell_name,\n"
     ]
    }
   ],
   "source": [
    "# Load corporation dataset\n",
    "corporations = pd.read_csv(\"..\\\\Data\\\\20211103 - corporatiebezit energieverbruik.csv\", delimiter=',', encoding='latin-1')"
   ]
  },
  {
   "cell_type": "code",
   "execution_count": 9,
   "metadata": {},
   "outputs": [],
   "source": [
    "# Load data on possible foundation issues\n",
    "fundering = pd.read_csv(\"..\\\\Data\\\\indgebfunderingsproblematiek\\\\indgebfunderingsproblematiek.csv\", delimiter=',')"
   ]
  },
  {
   "cell_type": "markdown",
   "metadata": {},
   "source": [
    "# Check change in distance to facilities"
   ]
  },
  {
   "cell_type": "code",
   "execution_count": 10,
   "metadata": {},
   "outputs": [],
   "source": [
    "columns_17 = CBS_2017.columns\n",
    "columns_18 = CBS_2018.columns\n",
    "columns_17 = columns_17[38:]\n",
    "columns_18 = columns_18[38:]"
   ]
  },
  {
   "cell_type": "code",
   "execution_count": 11,
   "metadata": {},
   "outputs": [
    {
     "name": "stdout",
     "output_type": "stream",
     "text": [
      "4.60264795361311 95.39735204638689\n",
      "22.611488599383062 77.38851140061693\n",
      "8.558412923879285 91.44158707612071\n",
      "5.112257120747957 94.88774287925204\n",
      "4.981078473981577 95.01892152601842\n",
      "14.165968813933027 85.83403118606697\n",
      "3.49041203345453 96.50958796654547\n",
      "1.9008978449600897 98.0991021550399\n",
      "1.7108875626742424 98.28911243732576\n",
      "29.337375579041097 70.66262442095889\n",
      "15.921112606930473 84.07888739306952\n",
      "6.9389529028907 93.0610470971093\n",
      "3.700562875647943 96.29943712435207\n",
      "29.54090123705439 70.4590987629456\n",
      "8.159576836236047 91.84042316376394\n",
      "4.0408323351389175 95.95916766486108\n",
      "5.0595206546742 94.9404793453258\n",
      "16.50757391055471 83.49242608944529\n",
      "4.763772432873633 95.23622756712636\n",
      "2.551490931447894 97.4485090685521\n",
      "1.8351760178932974 98.1648239821067\n",
      "13.665104889915938 86.33489511008406\n",
      "5.58476525647413 94.41523474352587\n",
      "2.192405948885379 97.80759405111462\n",
      "4.920126779524471 95.07987322047553\n",
      "16.201755408800363 83.79824459119963\n",
      "3.373808791884415 96.62619120811559\n",
      "1.76971919819371 98.23028080180629\n",
      "5.510298186289579 94.48970181371043\n",
      "18.160954874545514 81.83904512545449\n",
      "6.169106501160733 93.83089349883926\n",
      "3.2882114122772617 96.71178858772274\n",
      "5.863818014140794 94.1361819858592\n",
      "15.22149315750978 84.77850684249022\n",
      "4.843274643035076 95.15672535696493\n",
      "2.496369399069294 97.5036306009307\n",
      "2.3217295440813257 97.67827045591866\n",
      "3.035659391331079 96.96434060866892\n",
      "0.6219722908296851 99.37802770917031\n",
      "1.1787527693269872 98.82124723067301\n",
      "0.9238156820759618 99.07618431792405\n",
      "25.846168523484952 74.15383147651504\n",
      "14.420110879082436 85.57988912091756\n",
      "6.512026034323755 93.48797396567625\n",
      "0.8453735013833384 99.15462649861666\n",
      "46.321167728462854 53.678832271537146\n",
      "28.187773620106636 71.81222637989336\n",
      "15.748327803512938 84.25167219648706\n",
      "1.2208889407125518 98.77911105928744\n",
      "27.947146930684674 72.05285306931532\n",
      "13.314235135736773 86.68576486426322\n",
      "4.884085777584617 95.11591422241538\n",
      "1.0568493804127754 98.94315061958723\n",
      "36.37835631830565 63.62164368169435\n",
      "20.871715233683496 79.1282847663165\n",
      "10.327072092604174 89.67292790739583\n",
      "2.371815936483034 97.62818406351697\n",
      "0.5180894028854002 99.48191059711459\n",
      "0.6034217751253484 99.39657822487466\n",
      "0.7433456650094873 99.25665433499051\n",
      "1.320266703414355 98.67973329658565\n",
      "1.462575659603337 98.53742434039667\n",
      "6.148435926518758 93.85156407348124\n",
      "17.934638582952605 82.06536141704738\n",
      "6.68428082300688 93.31571917699311\n",
      "3.662401814770451 96.33759818522954\n",
      "1.3857235231139426 98.61427647688605\n",
      "35.17999300380551 64.8200069961945\n",
      "22.98673903134507 77.01326096865493\n",
      "10.978460201193593 89.0215397988064\n",
      "1.7424234393716147 98.2575765606284\n",
      "26.20869860182113 73.79130139817886\n",
      "15.332796251735797 84.6672037482642\n",
      "5.701633505411451 94.29836649458855\n",
      "1.8404761652373935 98.15952383476261\n",
      "23.4457317913438 76.5542682086562\n",
      "13.65079449208688 86.34920550791311\n",
      "5.236810583334217 94.76318941666578\n",
      "4.163265738787538 95.83673426121247\n",
      "27.067322471564708 72.93267752843529\n",
      "10.868747151170803 89.1312528488292\n",
      "6.748412605870444 93.25158739412956\n",
      "0.8135726173187615 99.18642738268125\n",
      "52.822063453363995 47.177936546636\n",
      "39.11270233312486 60.88729766687514\n",
      "26.142446760019926 73.85755323998006\n",
      "1.076989940320341 98.92301005967965\n",
      "40.93091787951705 59.06908212048295\n",
      "26.00146284066697 73.99853715933304\n",
      "14.846507732914976 85.15349226708503\n",
      "3.4742465840550367 96.52575341594496\n",
      "0.8777044001823251 99.12229559981768\n"
     ]
    }
   ],
   "source": [
    "change = 0\n",
    "same = 0\n",
    "for i in columns_17:\n",
    "    for j, k in zip(CBS_2017[i], CBS_2018[i]):\n",
    "        if j != k:\n",
    "            change = change + 1\n",
    "        else: \n",
    "            same = same + 1\n",
    "    print((same/len(CBS_2017[i]))*100, (change/len(CBS_2017[i]))*100)\n",
    "    same = 0\n",
    "    change = 0"
   ]
  },
  {
   "cell_type": "markdown",
   "metadata": {},
   "source": [
    "# Check building types"
   ]
  },
  {
   "cell_type": "code",
   "execution_count": null,
   "metadata": {},
   "outputs": [],
   "source": [
    "len(VBO[\"gebruiksdoelVerblijfsobject\"].unique())"
   ]
  },
  {
   "cell_type": "code",
   "execution_count": null,
   "metadata": {},
   "outputs": [],
   "source": [
    "panden['pandstatus'].unique()"
   ]
  },
  {
   "cell_type": "code",
   "execution_count": null,
   "metadata": {},
   "outputs": [],
   "source": [
    "len(panden['pandstatus'].unique())"
   ]
  },
  {
   "cell_type": "markdown",
   "metadata": {},
   "source": [
    "# Check Fundering"
   ]
  },
  {
   "cell_type": "code",
   "execution_count": null,
   "metadata": {},
   "outputs": [],
   "source": [
    "# Check relevance of the problem\n",
    "funder = 0\n",
    "for i in panden['bouwjaar']:\n",
    "    if i < 1970:\n",
    "        funder = funder + 1\n",
    "        \n",
    "print(funder)\n",
    "        "
   ]
  },
  {
   "cell_type": "markdown",
   "metadata": {},
   "source": [
    "# Corporation Data and Fundering"
   ]
  },
  {
   "cell_type": "code",
   "execution_count": null,
   "metadata": {},
   "outputs": [],
   "source": [
    "# Check stats\n",
    "corporations.describe()"
   ]
  },
  {
   "cell_type": "code",
   "execution_count": null,
   "metadata": {},
   "outputs": [],
   "source": [
    "corporations.info()"
   ]
  },
  {
   "cell_type": "code",
   "execution_count": null,
   "metadata": {},
   "outputs": [],
   "source": [
    "fundering.info()"
   ]
  },
  {
   "cell_type": "code",
   "execution_count": null,
   "metadata": {},
   "outputs": [],
   "source": [
    "fundering.describe()"
   ]
  },
  {
   "cell_type": "code",
   "execution_count": null,
   "metadata": {},
   "outputs": [],
   "source": [
    "fundering['legenda'].unique()"
   ]
  },
  {
   "cell_type": "code",
   "execution_count": null,
   "metadata": {},
   "outputs": [],
   "source": [
    "kwetsbaar = ['Kwetsbaar gebied - 0-20 %','Kwetsbaar gebied - 20-40 %','Kwetsbaar gebied - 40-60 %','Kwetsbaar gebied - 60-80 %', 'Kwetsbaar gebied - 80-100 %' ]\n",
    "kwetsbaar"
   ]
  },
  {
   "cell_type": "code",
   "execution_count": null,
   "metadata": {},
   "outputs": [],
   "source": [
    "# Rewrite foundation dataset, from multiple to only 2 categories\n",
    "kwetsbare_pc = []\n",
    "for i, j in zip(fundering[\"PC6\"], fundering[\"legenda\"]):\n",
    "    if j in kwetsbaar:\n",
    "        kwetsbare_pc.append(i)      "
   ]
  },
  {
   "cell_type": "code",
   "execution_count": null,
   "metadata": {},
   "outputs": [],
   "source": [
    "corporations.iloc[0]\n",
    "corporations"
   ]
  },
  {
   "cell_type": "code",
   "execution_count": null,
   "metadata": {},
   "outputs": [],
   "source": [
    "# Apply foundation data set to the corporation dataset\n",
    "counter = 0\n",
    "fund_pand = []\n",
    "for i, j in zip(corporations[\"pc6\"], range(0,len(corporations))):\n",
    "    if i in kwetsbare_pc:\n",
    "        fund_pand.append(\"Kwetsbaar\")\n",
    "        counter = counter + 1\n",
    "    else:\n",
    "        fund_pand.append(\"Niet Kwetsbaar\")"
   ]
  },
  {
   "cell_type": "code",
   "execution_count": null,
   "metadata": {},
   "outputs": [],
   "source": [
    "corporations['fund'] = fund_pand\n",
    "corporations"
   ]
  },
  {
   "cell_type": "code",
   "execution_count": null,
   "metadata": {},
   "outputs": [],
   "source": [
    "# Create new csv\n",
    "corporations.to_csv(\"corporations_data.csv\", index=False)"
   ]
  },
  {
   "cell_type": "markdown",
   "metadata": {},
   "source": [
    "# Selecting and columns to CBS"
   ]
  },
  {
   "cell_type": "code",
   "execution_count": null,
   "metadata": {},
   "outputs": [],
   "source": [
    "#Check the initial damage\n",
    "CBS_2017.replace(to_replace=\"onclassificeerbaar\", value=-99997, regex=True)\n",
    "CBS_2018.replace(to_replace=\"onclassificeerbaar\", value=-99997, regex=True)\n",
    "\n",
    "filtr = CBS_2017 == -99997\n",
    "for f, fi in zip(filtr.sum(),CBS_2017.columns):\n",
    "    print((fi))\n",
    "    print(f/len(CBS_2017[\"INWONER\"])*100, \"%\")\n",
    "    \n",
    "print(\"----\")\n",
    "filtr = CBS_2018 == -99997\n",
    "for f, fi in zip(filtr.sum(),CBS_2018.columns):\n",
    "    print((fi))\n",
    "    print(f/len(CBS_2018[\"INWONER\"])*100, \"%\")\n",
    "    \n",
    "print(\"----\")\n",
    "filtr = CBS_2019 == -99997\n",
    "for f, fi in zip(filtr.sum(),CBS_2019.columns):\n",
    "    print((fi))\n",
    "    print(f/len(CBS_2019[\"INWONER\"])*100, \"%\")"
   ]
  },
  {
   "cell_type": "code",
   "execution_count": null,
   "metadata": {},
   "outputs": [],
   "source": [
    "# Selecting needed columns\n",
    "Columns_18 = CBS_2018[[\"c28992r100\",\"INWONER\",\"AANTAL_HH\",\"GEM_HH_GR\",\"WONING\",\"P_HUURWON\",\"P_KOOPWON\",\n",
    "                      \"WON_NBEW\",\"WOZWONING\",\"G_GAS_WON\",\"G_ELEK_WON\",\"UITKMINAOW\",\"AFS_SUPERM\",\n",
    "                       \"AFS_CAFE\",\"AFS_CAFTAR\",\"AFS_RESTAU\",\"AFS_TREINS\",\"AFS_ONDBAS\",\"AFS_ONDVRT\",\n",
    "                       \"AFS_HAPRAK\",\"AFS_ZIEK_E\",\"INW_014\",\"INW_1524\",\"INW_2544\",\"INW_4564\",\"INW_65PL\"]]\n",
    "\n",
    "Columns_19 = CBS_2019[[\"c28992r100\",\"INWONER\",\"AANTAL_HH\",\"GEM_HH_GR\",\"WONING\",\"P_HUURWON\",\"P_KOOPWON\",\n",
    "                      \"WON_NBEW\",\"WOZWONING\",\"G_GAS_WON\",\"G_ELEK_WON\",\"UITKMINAOW\",\"AFS_SUPERM\",\n",
    "                       \"AFS_CAFE\",\"AFS_CAFTAR\",\"AFS_RESTAU\",\"AFS_TREINS\",\"AFS_ONDBAS\",\"AFS_ONDVRT\",\n",
    "                       \"AFS_HAPRAK\",\"AFS_ZIEK_E\",\"INW_014\",\"INW_1524\",\"INW_2544\",\"INW_4564\",\"INW_65PL\"]]\n",
    "\n",
    "Columns_17 = CBS_2017[[\"c28992r100\",\"INWONER\",\"AANTAL_HH\",\"GEM_HH_GR\",\"WONING\",\"P_HUURWON\",\"P_KOOPWON\",\n",
    "                      \"WON_NBEW\",\"WOZWONING\",\"G_GAS_WON\",\"G_ELEK_WON\",\"UITKMINAOW\",\"AFS_SUPERM\",\n",
    "                       \"AFS_CAFE\",\"AFS_CAFTAR\",\"AFS_RESTAU\",\"AFS_TREINS\",\"AFS_ONDBAS\",\"AFS_ONDVRT\",\n",
    "                       \"AFS_HAPRAK\",\"AFS_ZIEK_E\",\"INW_014\",\"INW_1524\",\"INW_2544\",\"INW_4564\",\"INW_65PL\"]]\n"
   ]
  },
  {
   "cell_type": "code",
   "execution_count": null,
   "metadata": {},
   "outputs": [],
   "source": [
    "print(len(Columns_18), len(Columns_19), len(Columns_17))"
   ]
  },
  {
   "cell_type": "markdown",
   "metadata": {},
   "source": [
    "# Old green, water and road data appender (See separate notebook for better code)\n",
    "\n"
   ]
  },
  {
   "cell_type": "code",
   "execution_count": null,
   "metadata": {},
   "outputs": [],
   "source": [
    "# Append Green and Water data\n",
    "groen = []\n",
    "water = []\n",
    "weg = []\n",
    "overig = []\n",
    "tel = 0\n",
    "\n",
    "koppel_CBS_buurt = pd.read_csv(\"..\\\\Data\\\\cbs_grid_buurt_koppel.csv\", delimiter=',')\n",
    "\n",
    "for grid in Columns_18[\"c28992r100\"]:\n",
    "    if tel % 1000 == 0:\n",
    "        print(tel/1000)\n",
    "    tel = tel + 1\n",
    "    buurtgrid = koppel_CBS_buurt[(koppel_CBS_buurt.c28992r100 == grid)]\n",
    "    if len(buurtgrid[\"bu_code\"]) > 0:\n",
    "        filt = buurtgrid[\"bu_code\"].item()\n",
    "        gww = greenwaterroad_18[(greenwaterroad_18.buurt_code == filt)]\n",
    "        if len(gww)>0:\n",
    "            groen.append(gww[\"opp_groen\"].item())\n",
    "            water.append(gww[\"opp_water\"].item())\n",
    "            weg.append(gww[\"opp_weg\"].item())\n",
    "            overig.append(gww[\"opp_uitgeefbaar\"].item())\n",
    "        else:\n",
    "            groen.append(-99997)\n",
    "            water.append(-99997)\n",
    "            weg.append(-99997)\n",
    "            overig.append(-99997)\n",
    "    else:\n",
    "        groen.append(-99997)\n",
    "        water.append(-99997)\n",
    "        weg.append(-99997)\n",
    "        overig.append(-99997)\n",
    "\n",
    "Columns_18[\"sur_green\"] = groen\n",
    "Columns_18[\"sur_water\"] = water\n",
    "Columns_18[\"sur_road\"] = weg \n",
    "Columns_18[\"sur_other\"] = overig\n",
    "\n",
    "\n",
    "groen = []\n",
    "water = []\n",
    "weg = []\n",
    "overig = []\n",
    "\n",
    "for grid in Columns_19[\"c28992r100\"]:\n",
    "    if tel % 1000 == 0:\n",
    "        print(tel/1000)\n",
    "    tel = tel + 1\n",
    "    buurtgrid = koppel_CBS_buurt[(koppel_CBS_buurt.c28992r100 == grid)]\n",
    "    if len(buurtgrid[\"bu_code\"]) > 0:\n",
    "        filt = buurtgrid[\"bu_code\"].item()\n",
    "        gww = greenwaterroad_19[(greenwaterroad_19.buurt_code == filt)]\n",
    "        if len(gww)>0:\n",
    "            groen.append(gww[\"opp_groen\"].item())\n",
    "            water.append(gww[\"opp_water\"].item())\n",
    "            weg.append(gww[\"opp_weg\"].item())\n",
    "            overig.append(gww[\"opp_uitgeefbaar\"].item())\n",
    "        else:\n",
    "            groen.append(-99997)\n",
    "            water.append(-99997)\n",
    "            weg.append(-99997)\n",
    "            overig.append(-99997)\n",
    "    else:\n",
    "        groen.append(-99997)\n",
    "        water.append(-99997)\n",
    "        weg.append(-99997)\n",
    "        overig.append(-99997)\n",
    "    \n",
    "Columns_19[\"sur_green\"] = groen\n",
    "Columns_19[\"sur_water\"] = water\n",
    "Columns_19[\"sur_road\"] = weg \n",
    "Columns_19[\"sur_other\"] = overig    \n"
   ]
  },
  {
   "cell_type": "code",
   "execution_count": null,
   "metadata": {},
   "outputs": [],
   "source": [
    "# Intermediate results\n",
    "Columns_18.to_csv(\"Data_part1_2018.csv\", index=False)\n",
    "Columns_19.to_csv(\"Data_part1_2019.csv\", index=False)"
   ]
  },
  {
   "cell_type": "markdown",
   "metadata": {},
   "source": [
    "# Append foundation data to main datasets"
   ]
  },
  {
   "cell_type": "code",
   "execution_count": null,
   "metadata": {},
   "outputs": [],
   "source": [
    "# Append Funding Issue Data\n",
    "koppel_pc6_grid = pd.read_csv(\"..\\\\Data\\\\indgebfunderingsproblematiek\\\\CBS_grid_pc6_koppelbestand.csv\")\n",
    "fund_pand = []\n",
    "\n",
    "for i, j in zip(Columns_18[\"c28992r100\"], range(0,len(Columns_18))):\n",
    "    if j % 2000 == 0:\n",
    "        print(j/1000)\n",
    "    postcode = koppel_pc6_grid[(koppel_pc6_grid.c28992r100 == i)][\"PC6\"]\n",
    "    if len(postcode) == 0:\n",
    "        fund_pand.append(\"Niet Kwetsbaar\")\n",
    "    elif postcode.item() in kwetsbare_pc:\n",
    "        fund_pand.append(\"Kwetsbaar\")\n",
    "    else:\n",
    "        fund_pand.append(\"Niet Kwetsbaar\")\n",
    "Columns_18[\"Fundering\"] = fund_pand\n",
    "\n",
    "\n",
    "fund_pand = []\n",
    "for i, j in zip(Columns_19[\"c28992r100\"], range(0,len(Columns_19))):\n",
    "    if j % 2000 == 0:\n",
    "        print(j/1000)\n",
    "    postcode = koppel_pc6_grid[(koppel_pc6_grid.c28992r100 == i)][\"PC6\"]\n",
    "    if len(postcode) == 0:\n",
    "        fund_pand.append(\"Niet Kwetsbaar\")\n",
    "    elif postcode.item() in kwetsbare_pc:\n",
    "        fund_pand.append(\"Kwetsbaar\")\n",
    "    else:\n",
    "        fund_pand.append(\"Niet Kwetsbaar\")\n",
    "Columns_19[\"Fundering\"] = fund_pand\n",
    "\n",
    "fund_pand = []\n",
    "\n",
    "for i, j in zip(Columns_17[\"c28992r100\"], range(0,len(Columns_17))):\n",
    "    if j % 2000 == 0:\n",
    "        print(j/1000)\n",
    "    postcode = koppel_pc6_grid[(koppel_pc6_grid.c28992r100 == i)][\"PC6\"]\n",
    "    if len(postcode) == 0:\n",
    "        fund_pand.append(\"Niet Kwetsbaar\")\n",
    "    elif postcode.item() in kwetsbare_pc:\n",
    "        fund_pand.append(\"Kwetsbaar\")\n",
    "    else:\n",
    "        fund_pand.append(\"Niet Kwetsbaar\")\n",
    "Columns_17[\"Fundering\"] = fund_pand"
   ]
  },
  {
   "cell_type": "code",
   "execution_count": null,
   "metadata": {},
   "outputs": [],
   "source": [
    "Columns_17.to_csv(\"Data_part2_2018.csv\", index=False)\n",
    "Columns_18.to_csv(\"Data_part2_2018.csv\", index=False)\n",
    "Columns_19.to_csv(\"Data_part2_2019.csv\", index=False)"
   ]
  },
  {
   "cell_type": "code",
   "execution_count": null,
   "metadata": {},
   "outputs": [],
   "source": [
    "# Load all needed kadaster data\n",
    "VBO_17_koppel = VBO_17_koppel[[\"pand_id\",\"grid_id\",\"gebruiksdoelVerblijfsobject\"]]\n",
    "pand_17_koppel = pand_17_koppel[[\"pand_id\",\"grid_id\", \"bouwjaar\"]] \n",
    "VBO_18_koppel = VBO_18_koppel[[\"pand_id\",\"grid_id\",\"gebruiksdoelVerblijfsobject\"]]\n",
    "pand_18_koppel = pand_18_koppel[[\"pand_id\",\"grid_id\", \"bouwjaar\"]] \n",
    "VBO_19_koppel = VBO_19_koppel[[\"pand_id\",\"grid_id\",\"gebruiksdoelVerblijfsobject\"]]\n",
    "pand_19_koppel = pand_19_koppel[[\"pand_id\",\"grid_id\", \"bouwjaar\"]] "
   ]
  },
  {
   "cell_type": "markdown",
   "metadata": {},
   "source": [
    "# Construction year data to main dataset"
   ]
  },
  {
   "cell_type": "code",
   "execution_count": null,
   "metadata": {},
   "outputs": [],
   "source": [
    "# Min, Max and Mean Construction year\n",
    "construct_18 = []\n",
    "construct_19 = []\n",
    "construct_17 = []\n",
    "\n",
    "mini = []\n",
    "maxi = []\n",
    "mean = []\n",
    "cs = []\n",
    "\n",
    "i = 0\n",
    "for c17 in Columns_17[\"c28992r100\"]:\n",
    "    if i % 1000 == 0:\n",
    "        print(i)\n",
    "        pand_17_koppel = pand_17_koppel[~(pand_17_koppel.grid_id.isin(cs))]\n",
    "    i = i + 1\n",
    "    construct_17 = pand_17_koppel[(pand_17_koppel.grid_id == c17)][\"bouwjaar\"]\n",
    "    if len(construct_17) != 0:\n",
    "        mini.append(min(construct_17))\n",
    "        maxi.append(max(construct_17))\n",
    "        if len(construct_17)>1:\n",
    "            mean.append(round(sum(construct_17)/len(construct_17)))\n",
    "        else:\n",
    "            mean.append(construct_17)\n",
    "        cs.append(c17)\n",
    "    else:\n",
    "        mini.append(0)\n",
    "        maxi.append(0)\n",
    "        mean.append(0)\n",
    "        cs.append(c17)\n",
    "    construct_17 = []\n",
    "\n",
    "Columns_17[\"min_construction_year\"] = mini\n",
    "Columns_17[\"max_construction_year\"] = maxi\n",
    "Columns_17[\"mean_construction_year\"] = mean\n",
    "Columns_17[\"check\"] = cs\n",
    "\n",
    "mini = []\n",
    "maxi = []\n",
    "mean = []\n",
    "cs = []\n",
    "\n",
    "i = 0\n",
    "for c18 in Columns_18[\"c28992r100\"]:\n",
    "    if i % 1000 == 0:\n",
    "        print(i)\n",
    "        pand_18_koppel = pand_18_koppel[~(pand_18_koppel.grid_id.isin(cs))]\n",
    "    i = i + 1\n",
    "    construct_18 = pand_18_koppel[(pand_18_koppel.grid_id == c18)][\"bouwjaar\"]\n",
    "    if len(construct_18) != 0:\n",
    "        mini.append(min(construct_18))\n",
    "        maxi.append(max(construct_18))\n",
    "        if len(construct_18)>1:\n",
    "            mean.append(round(sum(construct_18)/len(construct_18)))\n",
    "        else:\n",
    "            mean.append(construct_18)\n",
    "        cs.append(c18)\n",
    "    else:\n",
    "        mini.append(0)\n",
    "        maxi.append(0)\n",
    "        mean.append(0)\n",
    "        cs.append(c18)\n",
    "    construct_18 = []\n",
    "\n",
    "Columns_18[\"min_construction_year\"] = mini\n",
    "Columns_18[\"max_construction_year\"] = maxi\n",
    "Columns_18[\"mean_construction_year\"] = mean\n",
    "Columns_18[\"check\"] = cs\n",
    "\n",
    "print(Columns18)\n",
    "\n",
    "mini = []\n",
    "maxi = []\n",
    "mean = []\n",
    "cs = []\n",
    "\n",
    "i = 0\n",
    "for c19 in Columns_19[\"c28992r100\"]:\n",
    "    if i % 1000 == 0:\n",
    "        print(i)\n",
    "        pand_19_koppel = pand_19_koppel[~(pand_19_koppel.grid_id.isin(cs))]\n",
    "    i = i + 1\n",
    "    construct_19 = pand_19_koppel[(pand_19_koppel.grid_id == c19)][\"bouwjaar\"]\n",
    "    if len(construct_19) != 0:\n",
    "        mini.append(min(construct_19))\n",
    "        maxi.append(max(construct_19))\n",
    "        if len(construct_19)>1:\n",
    "            mean.append(round(sum(construct_19)/len(construct_19)))\n",
    "        else:\n",
    "            mean.append(construct_19)\n",
    "        cs.append(c19)\n",
    "    else:\n",
    "        mini.append(0)\n",
    "        maxi.append(0)\n",
    "        mean.append(0)\n",
    "        cs.append(c19)\n",
    "    construct_19 = []\n",
    "\n",
    "Columns_19[\"min_construction_year\"] = mini\n",
    "Columns_19[\"max_construction_year\"] = maxi\n",
    "Columns_19[\"mean_construction_year\"] = mean\n",
    "Columns_19[\"check\"] = cs"
   ]
  },
  {
   "cell_type": "code",
   "execution_count": null,
   "metadata": {},
   "outputs": [],
   "source": [
    "Columns_17.to_csv(\"Data_con_2017.csv\", index=False)\n",
    "Columns_18.to_csv(\"Data_con_2018.csv\", index=False)\n",
    "Columns_19.to_csv(\"Data_con_2019.csv\", index=False)"
   ]
  },
  {
   "cell_type": "markdown",
   "metadata": {},
   "source": [
    "# Getting functions from Kadaster data"
   ]
  },
  {
   "cell_type": "code",
   "execution_count": null,
   "metadata": {},
   "outputs": [],
   "source": [
    "# Number of functions at location \n",
    "start_time = time.time()\n",
    "living = 0\n",
    "shopping = 0\n",
    "health = 0\n",
    "office = 0\n",
    "meeting = 0\n",
    "education = 0\n",
    "sport = 0\n",
    "industry = 0\n",
    "sleeping = 0\n",
    "functions = []\n",
    "cs = []\n",
    "i = 0\n",
    "\n",
    "VBO_17_koppel = VBO_17_koppel[[\"gebruiksdoelVerblijfsobject\", \"pand_id\",\"grid_id\"]]\n",
    "\n",
    "for square in Columns_17[\"c28992r100\"]:\n",
    "    if i % 10000==0:\n",
    "        print(i)\n",
    "        VBO_17_koppel = VBO_17_koppel[~(VBO_17_koppel.grid_id.isin(cs))]\n",
    "    i = i + 1\n",
    "    cs.append(square)\n",
    "    building = VBO_17_koppel[VBO_17_koppel[\"grid_id\"]==square]\n",
    "    fil = building[(building.gebruiksdoelVerblijfsobject =='woonfunctie')]\n",
    "    living = len(fil)\n",
    "    fil = building[(building.gebruiksdoelVerblijfsobject == 'winkelfunctie')]\n",
    "    shopping = len(fil)\n",
    "    fil = building[(building.gebruiksdoelVerblijfsobject == 'gezondheidszorgfunctie')]\n",
    "    health = len(fil)\n",
    "    fil = building[(building.gebruiksdoelVerblijfsobject == 'kantoorfunctie')]\n",
    "    office = len(fil)\n",
    "    fil = building[(building.gebruiksdoelVerblijfsobject == 'bijeenkomstfunctie')]\n",
    "    meeting = len(fil)\n",
    "    fil = building[(building.gebruiksdoelVerblijfsobject == 'onderwijsfunctie')]\n",
    "    education = len(fil)\n",
    "    fil = building[(building.gebruiksdoelVerblijfsobject == 'sportfunctie')]\n",
    "    sport = len(fil)\n",
    "    fil = building[(building.gebruiksdoelVerblijfsobject =='industriefunctie')]\n",
    "    industry = len(fil)\n",
    "    fil = building[(building.gebruiksdoelVerblijfsobject == 'logiesfunctie')]\n",
    "    sleeping = len(fil)       \n",
    "    functions.append([square, living , shopping, health, office, meeting,education, sport, industry,sleeping])    \n",
    "func = np.reshape(functions, (len(Columns_17[\"c28992r100\"]), 10)).T\n",
    "print(\"--- %s seconds ---\" % (time.time() - start_time))\n",
    "\n",
    "Columns_17[\"woon\"] = func[1]\n",
    "Columns_17[\"winkel\"] = func[2]\n",
    "Columns_17[\"gezondheid\"] = func[3]\n",
    "Columns_17[\"kantoor\"] = func[4]\n",
    "Columns_17[\"bijeenkomst\"] = func[5]\n",
    "Columns_17[\"onderwijs\"] = func[6]\n",
    "Columns_17[\"sport\"] = func[7]\n",
    "Columns_17[\"industrie\"] = func[8]\n",
    "Columns_17[\"logies\"] = func[9]\n",
    "\n",
    "\n",
    "start_time = time.time()\n",
    "living = 0\n",
    "shopping = 0\n",
    "health = 0\n",
    "office = 0\n",
    "meeting = 0\n",
    "education = 0\n",
    "sport = 0\n",
    "industry = 0\n",
    "sleeping = 0\n",
    "functions = []\n",
    "cs = []\n",
    "i = 0\n",
    "\n",
    "VBO_18_koppel = VBO_18_koppel[[\"gebruiksdoelVerblijfsobject\", \"pand_id\",\"grid_id\"]]\n",
    "\n",
    "for square in Columns_18[\"c28992r100\"]:\n",
    "    if i % 10000==0:\n",
    "        print(i)\n",
    "        VBO_18_koppel = VBO_18_koppel[~(VBO_18_koppel.grid_id.isin(cs))]\n",
    "    i = i + 1\n",
    "    cs.append(square)\n",
    "    building = VBO_18_koppel[VBO_18_koppel[\"grid_id\"]==square]\n",
    "    fil = building[(building.gebruiksdoelVerblijfsobject =='woonfunctie')]\n",
    "    living = len(fil)\n",
    "    fil = building[(building.gebruiksdoelVerblijfsobject == 'winkelfunctie')]\n",
    "    shopping = len(fil)\n",
    "    fil = building[(building.gebruiksdoelVerblijfsobject == 'gezondheidszorgfunctie')]\n",
    "    health = len(fil)\n",
    "    fil = building[(building.gebruiksdoelVerblijfsobject == 'kantoorfunctie')]\n",
    "    office = len(fil)\n",
    "    fil = building[(building.gebruiksdoelVerblijfsobject == 'bijeenkomstfunctie')]\n",
    "    meeting = len(fil)\n",
    "    fil = building[(building.gebruiksdoelVerblijfsobject == 'onderwijsfunctie')]\n",
    "    education = len(fil)\n",
    "    fil = building[(building.gebruiksdoelVerblijfsobject == 'sportfunctie')]\n",
    "    sport = len(fil)\n",
    "    fil = building[(building.gebruiksdoelVerblijfsobject =='industriefunctie')]\n",
    "    industry = len(fil)\n",
    "    fil = building[(building.gebruiksdoelVerblijfsobject == 'logiesfunctie')]\n",
    "    sleeping = len(fil)       \n",
    "    functions.append([square, living , shopping, health, office, meeting,education, sport, industry,sleeping])    \n",
    "func = np.reshape(functions, (len(Columns_18[\"c28992r100\"]), 10)).T\n",
    "print(\"--- %s seconds ---\" % (time.time() - start_time))\n",
    "Columns_18[\"woon\"] = func[1]\n",
    "Columns_18[\"winkel\"] = func[2]\n",
    "Columns_18[\"gezondheid\"] = func[3]\n",
    "Columns_18[\"kantoor\"] = func[4]\n",
    "Columns_18[\"bijeenkomst\"] = func[5]\n",
    "Columns_18[\"onderwijs\"] = func[6]\n",
    "Columns_18[\"sport\"] = func[7]\n",
    "Columns_18[\"industrie\"] = func[8]\n",
    "Columns_18[\"logies\"] = func[9]\n",
    "\n",
    "\n",
    "start_time = time.time()\n",
    "living = 0\n",
    "shopping = 0\n",
    "health = 0\n",
    "office = 0\n",
    "meeting = 0\n",
    "education = 0\n",
    "sport = 0\n",
    "industry = 0\n",
    "sleeping = 0\n",
    "functions = []\n",
    "cs = []\n",
    "i = 0\n",
    "\n",
    "VBO_19_koppel = VBO_19_koppel[[\"gebruiksdoelVerblijfsobject\", \"pand_id\",\"grid_id\"]]\n",
    "\n",
    "for square in Columns_19[\"c28992r100\"]:\n",
    "    if i % 10000==0:\n",
    "        print(i)\n",
    "        VBO_19_koppel = VBO_19_koppel[~(VBO_19_koppel.grid_id.isin(cs))]\n",
    "    i = i + 1\n",
    "    cs.append(square)\n",
    "    building = VBO_19_koppel[VBO_19_koppel[\"grid_id\"]==square]\n",
    "    fil = building[(building.gebruiksdoelVerblijfsobject =='woonfunctie')]\n",
    "    living = len(fil)\n",
    "    fil = building[(building.gebruiksdoelVerblijfsobject == 'winkelfunctie')]\n",
    "    shopping = len(fil)\n",
    "    fil = building[(building.gebruiksdoelVerblijfsobject == 'gezondheidszorgfunctie')]\n",
    "    health = len(fil)\n",
    "    fil = building[(building.gebruiksdoelVerblijfsobject == 'kantoorfunctie')]\n",
    "    office = len(fil)\n",
    "    fil = building[(building.gebruiksdoelVerblijfsobject == 'bijeenkomstfunctie')]\n",
    "    meeting = len(fil)\n",
    "    fil = building[(building.gebruiksdoelVerblijfsobject == 'onderwijsfunctie')]\n",
    "    education = len(fil)\n",
    "    fil = building[(building.gebruiksdoelVerblijfsobject == 'sportfunctie')]\n",
    "    sport = len(fil)\n",
    "    fil = building[(building.gebruiksdoelVerblijfsobject =='industriefunctie')]\n",
    "    industry = len(fil)\n",
    "    fil = building[(building.gebruiksdoelVerblijfsobject == 'logiesfunctie')]\n",
    "    sleeping = len(fil)       \n",
    "    functions.append([square, living , shopping, health, office, meeting,education, sport, industry,sleeping]) \n",
    "func = np.reshape(functions, (len(Columns_19[\"c28992r100\"]), 10)).T\n",
    "print(\"--- %s seconds ---\" % (time.time() - start_time))\n",
    "Columns_19[\"woon\"] = func[1]\n",
    "Columns_19[\"winkel\"] = func[2]\n",
    "Columns_19[\"gezondheid\"] = func[3]\n",
    "Columns_19[\"kantoor\"] = func[4]\n",
    "Columns_19[\"bijeenkomst\"] = func[5]\n",
    "Columns_19[\"onderwijs\"] = func[6]\n",
    "Columns_19[\"sport\"] = func[7]\n",
    "Columns_19[\"industrie\"] = func[8]\n",
    "Columns_19[\"logies\"] = func[9]"
   ]
  },
  {
   "cell_type": "code",
   "execution_count": null,
   "metadata": {},
   "outputs": [],
   "source": [
    "Columns_17.to_csv(\"Data_2017.csv\", index=False)\n",
    "Columns_18.to_csv(\"Data_2018.csv\", index=False)\n",
    "Columns_19.to_csv(\"Data_2019.csv\", index=False)"
   ]
  },
  {
   "cell_type": "markdown",
   "metadata": {},
   "source": [
    "# Append Income data to main dataset"
   ]
  },
  {
   "cell_type": "code",
   "execution_count": null,
   "metadata": {},
   "outputs": [],
   "source": [
    "# Append Percentage Low and High income\n",
    "high_income = []\n",
    "low_income = []\n",
    "i = 0\n",
    "\n",
    "for square in Columns_18[\"c28992r100\"]:\n",
    "    if i % 10000 == 0:\n",
    "        print(i)\n",
    "    i = i + 1\n",
    "    grid500 = high_low_income18[high_low_income18.c28992r100 == square]\n",
    "    high_income.append(grid500[\"P_HINK_HH\"].item())\n",
    "    low_income.append(grid500[\"P_LINK_HH\"].item())\n",
    "\n",
    "Columns_18[\"P_HINK_HH\"] = high_income\n",
    "Columns_18[\"P_LINK_HH\"] = low_income"
   ]
  },
  {
   "cell_type": "code",
   "execution_count": null,
   "metadata": {},
   "outputs": [],
   "source": [
    "# Append Percentage Low and High income\n",
    "high_income = []\n",
    "low_income = []\n",
    "i = 0\n",
    "\n",
    "for square in Columns_17[\"c28992r100\"]:\n",
    "    if i % 10000 == 0:\n",
    "        print(i)\n",
    "    i = i + 1\n",
    "    grid500 = high_low_income17[high_low_income17.c28992r100 == square]\n",
    "    high_income.append(grid500[\"P_HINK_HH\"].item())\n",
    "    low_income.append(grid500[\"P_LINK_HH\"].item())\n",
    "\n",
    "Columns_17[\"P_HINK_HH\"] = high_income\n",
    "Columns_17[\"P_LINK_HH\"] = low_income"
   ]
  },
  {
   "cell_type": "code",
   "execution_count": null,
   "metadata": {},
   "outputs": [],
   "source": [
    "# Append Percentage Low and High income\n",
    "high_income = []\n",
    "low_income = []\n",
    "i = 0\n",
    "\n",
    "for square in Columns_19[\"c28992r100\"]:\n",
    "    if i % 10000 == 0:\n",
    "        print(i)\n",
    "    i = i + 1\n",
    "    grid500 = high_low_income19[high_low_income19.c28992r100 == square]\n",
    "    high_income.append(grid500[\"P_HINK_HH\"].item())\n",
    "    low_income.append(grid500[\"P_LINK_HH\"].item())\n",
    "\n",
    "Columns_19[\"P_HINK_HH\"] = high_income\n",
    "Columns_19[\"P_LINK_HH\"] = low_income"
   ]
  },
  {
   "cell_type": "code",
   "execution_count": null,
   "metadata": {},
   "outputs": [],
   "source": [
    "# Append closest distance for hospitality \n",
    "closest = []\n",
    "i = 0\n",
    "\n",
    "for index, square in Columns_17.iterrows():\n",
    "    if i % 10000 == 0:\n",
    "        print(i)\n",
    "    i = i + 1\n",
    "    winner = max(square[[\"AFS_CAFE\",\"AFS_CAFTAR\",\"AFS_RESTAU\"]])\n",
    "    closest.append(winner)\n",
    "    \n",
    "Columns_17[\"AFS_HORECA\"] = closest\n",
    "\n",
    "closest = []\n",
    "i = 0\n",
    "\n",
    "for index, square in Columns_18.iterrows():\n",
    "    if i % 10000 == 0:\n",
    "        print(i)\n",
    "    i = i + 1\n",
    "    winner = max(square[[\"AFS_CAFE\",\"AFS_CAFTAR\",\"AFS_RESTAU\"]])\n",
    "    closest.append(winner)\n",
    "    \n",
    "Columns_18[\"AFS_HORECA\"] = closest\n",
    "\n",
    "closest = []\n",
    "i = 0\n",
    "\n",
    "for index, square in Columns_19.iterrows():\n",
    "    if i % 10000 == 0:\n",
    "        print(i)\n",
    "    i = i + 1\n",
    "    winner = max(square[[\"AFS_CAFE\",\"AFS_CAFTAR\",\"AFS_RESTAU\"]])\n",
    "    closest.append(winner)\n",
    "    \n",
    "Columns_19[\"AFS_HORECA\"] = closest\n"
   ]
  },
  {
   "cell_type": "code",
   "execution_count": null,
   "metadata": {},
   "outputs": [],
   "source": [
    "Columns_17.to_csv(\"Dataset_2017.csv\", index=False)\n",
    "Columns_18.to_csv(\"Dataset_2018.csv\", index=False)\n",
    "Columns_19.to_csv(\"Dataset_2019.csv\", index=False)"
   ]
  },
  {
   "cell_type": "code",
   "execution_count": null,
   "metadata": {},
   "outputs": [],
   "source": [
    "# Check damage again\n",
    "filtr = CBS_2017 == -99997\n",
    "for f, fi in zip(filtr.sum(),CBS_2017.columns):\n",
    "    print((fi))\n",
    "    print(f/len(CBS_2017[\"INWONER\"])*100, \"%\")\n",
    "    \n",
    "print(\"----\")\n",
    "filtr = CBS_2018 == -99997\n",
    "for f, fi in zip(filtr.sum(),CBS_2018.columns):\n",
    "    print((fi))\n",
    "    print(f/len(CBS_2018[\"INWONER\"])*100, \"%\")\n",
    "    \n",
    "print(\"----\")\n",
    "filtr = CBS_2019 == -99997\n",
    "for f, fi in zip(filtr.sum(),CBS_2019.columns):\n",
    "    print((fi))\n",
    "    print(f/len(CBS_2019[\"INWONER\"])*100, \"%\")"
   ]
  },
  {
   "cell_type": "markdown",
   "metadata": {},
   "source": [
    "# Labeling CBS data"
   ]
  },
  {
   "cell_type": "code",
   "execution_count": null,
   "metadata": {},
   "outputs": [],
   "source": [
    "i = 0\n",
    "Columns_17_labels = []\n",
    "\n",
    "for index, square in Columns_17.iterrows():\n",
    "    if i%10000 == 0:\n",
    "        print(i)\n",
    "    i = i + 1\n",
    "    data = Columns_18[(Columns_18[\"c28992r100\"] == square[\"c28992r100\"])]\n",
    "    if data.empty:\n",
    "        Columns_17_labels.append(0)\n",
    "    else:\n",
    "        if square[\"WONING\"] < data[\"WONING\"].item():\n",
    "            Columns_17_labels.append(1)\n",
    "        else:\n",
    "            Columns_17_labels.append(0)    \n",
    "Columns_17[\"label\"] = Columns_17_labels\n",
    "            "
   ]
  },
  {
   "cell_type": "code",
   "execution_count": null,
   "metadata": {},
   "outputs": [],
   "source": [
    "i = 0\n",
    "Columns_18_labels = []\n",
    "\n",
    "for index, square in Columns_18.iterrows():\n",
    "    if i%10000 == 0:\n",
    "        print(i)\n",
    "    i = i + 1\n",
    "    data = Columns_19[(Columns_19[\"c28992r100\"] == square[\"c28992r100\"])]\n",
    "    if data.empty:\n",
    "        Columns_18_labels.append(0)\n",
    "    else:\n",
    "        if square[\"WONING\"] < data[\"WONING\"].item():\n",
    "            Columns_18_labels.append(1)\n",
    "        else:\n",
    "            Columns_18_labels.append(0)    \n",
    "Columns_18[\"label\"] = Columns_18_labels\n",
    "            "
   ]
  },
  {
   "cell_type": "code",
   "execution_count": null,
   "metadata": {},
   "outputs": [],
   "source": [
    "i = 0\n",
    "Columns_19_labels = []\n",
    "\n",
    "for index, square in Columns_19.iterrows():\n",
    "    if i%10000 == 0:\n",
    "        print(i)\n",
    "    i = i + 1\n",
    "    data = Columns_20[(Columns_20[\"c28992r100\"] == square[\"c28992r100\"])]\n",
    "    if data.empty:\n",
    "        Columns_19_labels.append(0)\n",
    "    else:\n",
    "        if square[\"WONING\"] < data[\"WONING\"].item():\n",
    "            Columns_19_labels.append(1)\n",
    "        else:\n",
    "            Columns_19_labels.append(0)    \n",
    "Columns_19[\"label\"] = Columns_19_labels"
   ]
  },
  {
   "cell_type": "code",
   "execution_count": null,
   "metadata": {},
   "outputs": [],
   "source": [
    "# Observe class imbalance\n",
    "print(Columns_17_labels.count(1))\n",
    "print(Columns_17_labels.count(0))\n",
    "\n",
    "print(Columns_18_labels.count(1))\n",
    "print(Columns_18_labels.count(0))\n",
    "\n",
    "print(Columns_19_labels.count(1))\n",
    "print(Columns_19_labels.count(0))"
   ]
  },
  {
   "cell_type": "markdown",
   "metadata": {},
   "source": [
    "# Handling Simple Missing Values"
   ]
  },
  {
   "cell_type": "code",
   "execution_count": null,
   "metadata": {},
   "outputs": [],
   "source": [
    "# Correcting some values\n",
    "# If all functions are all 0, it should all be -99997\n",
    "for index, square in Columns_17.iterrows():\n",
    "    if index % 20000 == 0:\n",
    "        print(index)\n",
    "    if square['woon'] == 0 and square['winkel'] == 0 and square['gezondheid'] == 0 and square['kantoor'] == 0:\n",
    "        if square['onderwijs'] == 0 and square['bijeenkomst'] == 0 and square['sport'] == 0 and square['industrie'] == 0:\n",
    "            if square['logies'] == 0:\n",
    "                names = ['woon', 'winkel', 'gezondheid', 'kantoor', 'bijeenkomst', 'onderwijs', 'sport', 'industrie', 'logies']\n",
    "                Columns_17.loc[index, names] = [-99997, -99997, -99997, -99997, -99997, -99997, -99997, -99997, -99997]\n",
    "\n",
    "# min_construction_year, max_construction_year, mean_construction_year all 0 values should be -99997 and correct format\n",
    "for index, square in Columns_17.iterrows():\n",
    "    if index % 20000 == 0:\n",
    "        print(index)\n",
    "    if 'dtype:' in square['mean_construction_year']:\n",
    "        Columns_17.loc[index, ['mean_construction_year']] = [square['max_construction_year']]\n",
    "    if square['min_construction_year'] == 0:\n",
    "        Columns_17.loc[index, ['min_construction_year']] = [-99997]\n",
    "    if square['max_construction_year'] == 0:\n",
    "        Columns_17.loc[index, ['max_construction_year']] = [-99997]\n",
    "    if square['mean_construction_year'] == 0:\n",
    "        Columns_17.loc[index, ['mean_construction_year']] = [-99997]\n",
    "    "
   ]
  },
  {
   "cell_type": "code",
   "execution_count": null,
   "metadata": {},
   "outputs": [],
   "source": [
    "# Throw out rows with more than (42)/2 = 21   missing values\n",
    "nr_null_17 = Columns_17.eq(-99997).sum(axis=1)\n",
    "nr_null_18 = Columns_18.eq(-99997).sum(axis=1)\n",
    "nr_null_19 = Columns_19.eq(-99997).sum(axis=1)"
   ]
  },
  {
   "cell_type": "code",
   "execution_count": null,
   "metadata": {},
   "outputs": [],
   "source": [
    "# Number in certain age groups. Decide numbers on averaging\n",
    "\n",
    "for index, grid in Columns_18.iterrows():\n",
    "    print(grid)\n",
    "    total = sum(grid[\"INW_014\"].item(),grid[\"INW_1524\"].item(),grid[\"INW_2544\"].item(),grid[\"INW_4564\"].item(),grid[\"INW_65PL\"].item())\n",
    "    if grid[\"Inwoner\"].item() = total:\n",
    "        Columns_18.loc[index].replace(to_replace=-99997, value=0, regex=True)\n",
    "    else:\n",
    "        diff = (grid[\"Inwoner\"].item() - total)/5\n",
    "        Columns_18.loc[index].replace(to_replace=-99997, value=diff, regex=True)\n",
    "        \n",
    "\n",
    "for index, grid in Columns_19.iterrows():\n",
    "    print(grid)\n",
    "    total = sum(grid[\"INW_014\"].item(),grid[\"INW_1524\"].item(),grid[\"INW_2544\"].item(),grid[\"INW_4564\"].item(),grid[\"INW_65PL\"].item())\n",
    "    if grid[\"Inwoner\"].item() = total:\n",
    "        Columns_19.loc[index].replace(to_replace=-99997, value=0, regex=True)\n",
    "    else:\n",
    "        diff = (grid[\"Inwoner\"].item() - total)/5\n",
    "        Columns_19.loc[index].replace(to_replace=-99997, value=diff, regex=True)\n",
    "        "
   ]
  },
  {
   "cell_type": "code",
   "execution_count": null,
   "metadata": {},
   "outputs": [],
   "source": [
    "# Average househould Size. Compute with inwoners and totaal woning.\n",
    "gemhh = []\n",
    "aantal = []\n",
    "\n",
    "for index, grid in Columns_17.iterrows():\n",
    "    if index % 30000 == 0:\n",
    "        print(index)\n",
    "    if grid[\"AANTAL_HH\"]== -99997 and grid[\"GEM_HH_GR\"] == -99997 and grid[\"INWONER\"] != -99997 and grid[\"WONING\"] != -99997:\n",
    "        if grid[\"WON_NBEW\"]==-99997:\n",
    "            print(round(grid[\"WONING\"]/grid[\"INWONER\"],2))\n",
    "            gemhh.append(0)\n",
    "            aantal.append(grid[\"WONING\"])\n",
    "        else:\n",
    "            gemhh.append((round((grid[\"WONING\"]-grid[\"WON_NBEW\"])/grid[\"INWONER\"], 2)))\n",
    "            aantal.append((grid[\"WONING\"]-grid[\"WON_NBEW\"]))\n",
    "    else:\n",
    "        gemhh.append(grid[\"GEM_HH_GR\"])\n",
    "        aantal.append(grid[\"AANTAL_HH\"])\n",
    "        \n",
    "\n",
    "# Calculate \"Niet bewoonde woningen\" with Huishoudens and Woningen, assuming every household has one home and leftover is empty\n",
    "empty = []\n",
    "for index, grid in Columns_17.iterrows():\n",
    "    if index % 30000 == 0:\n",
    "        print(index)\n",
    "    if grid[\"AANTAL_HH\"]!= -99997 and grid[\"WONING\"] != -99997:\n",
    "        if grid[\"WON_NBEW\"]==-99997:\n",
    "            value = grid[\"WONING\"] - grid[\"AANTAL_HH\"]\n",
    "            if value < 4:\n",
    "                empty.append(0)\n",
    "            else:\n",
    "                value = math.floor(value/5)*5\n",
    "                empty.append(value)\n",
    "        else:\n",
    "            empty.append(grid[\"WON_NBEW\"])\n",
    "    else:\n",
    "        empty.append(grid[\"WON_NBEW\"])\n",
    "\n",
    "Columns_17[\"GEM_HH_GR\"] = gemhh\n",
    "Columns_17[\"AANTAL_HH\"] = aantal\n",
    "Columns_17[\"WON_NBEW\"] = empty"
   ]
  },
  {
   "cell_type": "code",
   "execution_count": null,
   "metadata": {},
   "outputs": [],
   "source": [
    "# Throw out rows with more than (42 - 8)/2 = 17   missing values\n",
    "nr_null_17 = Columns_17.eq(-99997).sum(axis=1)\n",
    "nr_null_18 = Columns_18.eq(-99997).sum(axis=1)\n",
    "nr_null_19 = Columns_19.eq(-99997).sum(axis=1)"
   ]
  },
  {
   "cell_type": "code",
   "execution_count": null,
   "metadata": {},
   "outputs": [],
   "source": [
    "ind = []\n",
    "i = 0 \n",
    "for index in nr_null_17:\n",
    "    if index > 17:\n",
    "        ind.append(i)\n",
    "    i = i + 1\n",
    "Columns_17_dr = Columns_17.drop(Columns_17.index[ind])\n",
    "Columns_17_dr = Columns_17_dr.reset_index()\n",
    "print(Columns_17_dr.eq(-99997).sum(axis=1))"
   ]
  },
  {
   "cell_type": "code",
   "execution_count": null,
   "metadata": {},
   "outputs": [],
   "source": [
    "ind = []\n",
    "i = 0 \n",
    "for index in nr_null_18:\n",
    "    if index > 17:\n",
    "        ind.append(i)\n",
    "    i = i + 1\n",
    "Columns_18_dr = Columns_18.drop(Columns_18.index[ind])\n",
    "Columns_18_dr = Columns_18_dr.reset_index()\n",
    "print(Columns_18_dr.eq(-99997).sum(axis=1))"
   ]
  },
  {
   "cell_type": "code",
   "execution_count": null,
   "metadata": {},
   "outputs": [],
   "source": [
    "ind = []\n",
    "i = 0 \n",
    "for index in nr_null_19:\n",
    "    if index > 17:\n",
    "        ind.append(i)\n",
    "    i = i + 1\n",
    "Columns_19_dr = Columns_19.drop(Columns_19.index[ind])\n",
    "Columns_19_dr = Columns_19_dr.reset_index()\n",
    "print(Columns_19_dr.eq(-99997).sum(axis=1))"
   ]
  },
  {
   "cell_type": "code",
   "execution_count": null,
   "metadata": {},
   "outputs": [],
   "source": [
    "# Check damage again\n",
    "filtr = Columns_17 == -99997\n",
    "for f, fi in zip(filtr.sum(),Columns_17.columns):\n",
    "    print((fi))\n",
    "    print(f/len(Columns_17[\"INWONER\"])*100, \"%\")\n",
    "    \n",
    "print(\"----\")\n",
    "filtr = Columns_18 == -99997\n",
    "for f, fi in zip(filtr.sum(),Columns_18.columns):\n",
    "    print((fi))\n",
    "    print(f/len(Columns_18[\"INWONER\"])*100, \"%\")\n",
    "    \n",
    "print(\"----\")\n",
    "filtr = Columns_19 == -99997\n",
    "for f, fi in zip(filtr.sum(),Columns_19.columns):\n",
    "    print((fi))\n",
    "    print(f/len(Columns_19[\"INWONER\"])*100, \"%\")"
   ]
  }
 ],
 "metadata": {
  "kernelspec": {
   "display_name": "Python 3",
   "language": "python",
   "name": "python3"
  },
  "language_info": {
   "codemirror_mode": {
    "name": "ipython",
    "version": 3
   },
   "file_extension": ".py",
   "mimetype": "text/x-python",
   "name": "python",
   "nbconvert_exporter": "python",
   "pygments_lexer": "ipython3",
   "version": "3.8.3"
  }
 },
 "nbformat": 4,
 "nbformat_minor": 4
}
